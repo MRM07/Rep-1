{
  "nbformat": 4,
  "nbformat_minor": 0,
  "metadata": {
    "colab": {
      "name": "Review_Scraper",
      "version": "0.3.2",
      "provenance": [],
      "collapsed_sections": [],
      "include_colab_link": true
    },
    "kernelspec": {
      "name": "python3",
      "display_name": "Python 3"
    }
  },
  "cells": [
    {
      "cell_type": "markdown",
      "metadata": {
        "id": "view-in-github",
        "colab_type": "text"
      },
      "source": [
        "<a href=\"https://colab.research.google.com/github/MRM07/Topic-Modeling/blob/master/Review_Scraper.ipynb\" target=\"_parent\"><img src=\"https://colab.research.google.com/assets/colab-badge.svg\" alt=\"Open In Colab\"/></a>"
      ]
    },
    {
      "cell_type": "code",
      "metadata": {
        "id": "rtmQbX4PjLX7",
        "colab_type": "code",
        "colab": {}
      },
      "source": [
        "#Do not run all cells at once\n",
        "import os\n",
        "import time\n",
        "\n",
        "import numpy as np\n",
        "import pandas as pd\n",
        "\n",
        "from bs4 import BeautifulSoup\n",
        "from urllib.request import Request, urlopen"
      ],
      "execution_count": 0,
      "outputs": []
    },
    {
      "cell_type": "code",
      "metadata": {
        "id": "NbCka8NDIkkA",
        "colab_type": "code",
        "colab": {}
      },
      "source": [
        "import re"
      ],
      "execution_count": 0,
      "outputs": []
    },
    {
      "cell_type": "code",
      "metadata": {
        "id": "cea9V1gqlr04",
        "colab_type": "code",
        "outputId": "841d0acd-2fca-4f84-ab55-7afd120f2e3c",
        "colab": {
          "base_uri": "https://localhost:8080/",
          "height": 34
        }
      },
      "source": [
        "!pip install beautifulsoup4"
      ],
      "execution_count": 0,
      "outputs": [
        {
          "output_type": "stream",
          "text": [
            "Requirement already satisfied: beautifulsoup4 in /usr/local/lib/python3.6/dist-packages (4.6.3)\n"
          ],
          "name": "stdout"
        }
      ]
    },
    {
      "cell_type": "code",
      "metadata": {
        "id": "BOT2hI0vjaCw",
        "colab_type": "code",
        "outputId": "9d39fb5c-1d11-403a-8264-50664be82795",
        "colab": {
          "base_uri": "https://localhost:8080/",
          "height": 49
        }
      },
      "source": [
        "#Information we want to scrape\n",
        "MainData = pd.DataFrame( columns = [ 'Pros', 'Cons'])\n",
        "MainData"
      ],
      "execution_count": 0,
      "outputs": [
        {
          "output_type": "execute_result",
          "data": {
            "text/html": [
              "<div>\n",
              "<style scoped>\n",
              "    .dataframe tbody tr th:only-of-type {\n",
              "        vertical-align: middle;\n",
              "    }\n",
              "\n",
              "    .dataframe tbody tr th {\n",
              "        vertical-align: top;\n",
              "    }\n",
              "\n",
              "    .dataframe thead th {\n",
              "        text-align: right;\n",
              "    }\n",
              "</style>\n",
              "<table border=\"1\" class=\"dataframe\">\n",
              "  <thead>\n",
              "    <tr style=\"text-align: right;\">\n",
              "      <th></th>\n",
              "      <th>Pros</th>\n",
              "      <th>Cons</th>\n",
              "    </tr>\n",
              "  </thead>\n",
              "  <tbody>\n",
              "  </tbody>\n",
              "</table>\n",
              "</div>"
            ],
            "text/plain": [
              "Empty DataFrame\n",
              "Columns: [Pros, Cons]\n",
              "Index: []"
            ]
          },
          "metadata": {
            "tags": []
          },
          "execution_count": 4
        }
      ]
    },
    {
      "cell_type": "code",
      "metadata": {
        "id": "7B8TJkqSjcPh",
        "colab_type": "code",
        "colab": {}
      },
      "source": [
        "#Define a function that is reusable. We need to scrape many pages of many companies\n",
        "def SCRAPER(url):\n",
        "    global MainData\n",
        "    #Define some lists\n",
        "    \n",
        "       \n",
        "    hdr = {'User-Agent': 'Mozilla/5.0'}\n",
        "    req = Request(url,headers=hdr)\n",
        "    page = urlopen(req)\n",
        "    soup = BeautifulSoup(page, \"html.parser\")\n",
        "    \n",
        "    #Get Pros\n",
        "    Pros = soup.find_all('div', attrs = {'class':\"mt-md\"})\n",
        "    \n",
        "    ProsClean = []\n",
        "    ProsClean_flattened=[]\n",
        "    for x in Pros:\n",
        "      if x.find('p').text == 'Pros':\n",
        "        v= x.select(\"p:nth-of-type(2)\")\n",
        "        b=str(v[0])\n",
        "        c= re.findall(\"<p>(.*?)</p>\", b)\n",
        "        ProsClean.append(c) \n",
        "        ProsClean_flattened = [val for sublist in ProsClean for val in sublist]\n",
        "#         ProsClean_flattened  \n",
        "    \n",
        "    #Get Cons\n",
        "    Cons = soup.find_all('div', attrs = {'class':\"mt-md\"})\n",
        "    ConsClean = []\n",
        "    ConsClean_flattened=[]\n",
        "    for x in Cons:\n",
        "        if x.find('p').text == 'Cons':\n",
        "          v= x.select(\"p:nth-of-type(2)\")\n",
        "          b=str(v[0])\n",
        "          c= re.findall(\"<p>(.*?)</p>\", b)\n",
        "          ConsClean.append(c) \n",
        "          ConsClean_flattened = [val for sublist in ConsClean for val in sublist]    \n",
        "        #Get the overall rating\n",
        "        #ConsClean_flattened\n",
        "    \n",
        "    DATA = pd.DataFrame(list(zip(ProsClean_flattened, ConsClean_flattened)), columns=['Pros', 'Cons'])\n",
        "    MainData=MainData.append(DATA,)\n",
        "    #Wait a little\n",
        "    time.sleep(15)\n",
        "    "
      ],
      "execution_count": 0,
      "outputs": []
    },
    {
      "cell_type": "code",
      "metadata": {
        "id": "jknZ195DjcWw",
        "colab_type": "code",
        "colab": {}
      },
      "source": [
        "# MainData = pd.DataFrame(columns = ['Pros', 'Cons'])\n",
        "#Scrappe Dole Glassdoor Data\n",
        "for x in range(1, 481):\n",
        "    url=\"https://www.glassdoor.co.in/Reviews/Uber-Reviews-E575263_P\"+str(x)+\".htm?\"\n",
        "    SCRAPER(url)"
      ],
      "execution_count": 0,
      "outputs": []
    },
    {
      "cell_type": "code",
      "metadata": {
        "id": "N9OgCEl-jcjn",
        "colab_type": "code",
        "colab": {}
      },
      "source": [
        "#write files\n",
        "# MainData=MainData.reset_index(drop=True)\n",
        "MainData.to_csv('Review_Glassdoor_Uber.csv')"
      ],
      "execution_count": 0,
      "outputs": []
    },
    {
      "cell_type": "code",
      "metadata": {
        "id": "fkbhRFVUjcij",
        "colab_type": "code",
        "colab": {}
      },
      "source": [
        "\n",
        "from google.colab import files\n",
        "files.download('Review_Glassdoor_Uber.csv')\n"
      ],
      "execution_count": 0,
      "outputs": []
    },
    {
      "cell_type": "code",
      "metadata": {
        "id": "tKKQd3MEjchk",
        "colab_type": "code",
        "colab": {}
      },
      "source": [
        ""
      ],
      "execution_count": 0,
      "outputs": []
    }
  ]
}