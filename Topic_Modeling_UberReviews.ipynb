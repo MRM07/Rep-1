{
  "nbformat": 4,
  "nbformat_minor": 0,
  "metadata": {
    "colab": {
      "name": "Topic_Modeling_UberReviews",
      "version": "0.3.2",
      "provenance": [],
      "collapsed_sections": [],
      "include_colab_link": true
    },
    "kernelspec": {
      "name": "python3",
      "display_name": "Python 3"
    }
  },
  "cells": [
    {
      "cell_type": "markdown",
      "metadata": {
        "id": "view-in-github",
        "colab_type": "text"
      },
      "source": [
        "<a href=\"https://colab.research.google.com/github/MRM07/Topic-Modeling/blob/master/Topic_Modeling_UberReviews.ipynb\" target=\"_parent\"><img src=\"https://colab.research.google.com/assets/colab-badge.svg\" alt=\"Open In Colab\"/></a>"
      ]
    },
    {
      "cell_type": "code",
      "metadata": {
        "id": "cOp210B3e-OW",
        "colab_type": "code",
        "colab": {}
      },
      "source": [
        "import numpy as np\n",
        "import pandas as pd\n",
        "from IPython.display import display\n",
        "from tqdm import tqdm\n",
        "from collections import Counter\n",
        "import ast\n",
        "\n",
        "import matplotlib.pyplot as plt\n",
        "import matplotlib.mlab as mlab\n",
        "import seaborn as sb\n",
        "\n",
        "from sklearn.feature_extraction.text import CountVectorizer\n",
        "from textblob import TextBlob\n",
        "import scipy.stats as stats\n",
        "\n",
        "from sklearn.decomposition import TruncatedSVD\n",
        "from sklearn.decomposition import LatentDirichletAllocation\n",
        "from sklearn.manifold import TSNE\n",
        "\n",
        "from bokeh.plotting import figure, output_file, show\n",
        "from bokeh.models import Label\n",
        "from bokeh.io import output_notebook\n",
        "output_notebook()\n",
        "\n",
        "%matplotlib inline"
      ],
      "execution_count": 0,
      "outputs": []
    },
    {
      "cell_type": "markdown",
      "metadata": {
        "id": "-ubGZDXX2KYh",
        "colab_type": "text"
      },
      "source": [
        "We are reading the CSV file which we scraped from  Uber reviews in glassdoor . We have basically scraped the Pos and Cons reviews and did  some topic modeing on that."
      ]
    },
    {
      "cell_type": "code",
      "metadata": {
        "id": "qo6Hj6zbfGnX",
        "colab_type": "code",
        "colab": {
          "base_uri": "https://localhost:8080/",
          "height": 204
        },
        "outputId": "e648bb2e-8549-4d98-aad2-bcc7782387c0"
      },
      "source": [
        "pros_cons_reviews_data = pd.read_csv('/content/Review_Glassdoor_Uber (8).csv', index_col =0)\n",
        "\n",
        "pros_model= pros_cons_reviews_data[\"Pros\"]\n",
        "cons_model= pros_cons_reviews_data[\"Cons\"]\n",
        "pros_cons_reviews_data.head()"
      ],
      "execution_count": 38,
      "outputs": [
        {
          "output_type": "execute_result",
          "data": {
            "text/html": [
              "<div>\n",
              "<style scoped>\n",
              "    .dataframe tbody tr th:only-of-type {\n",
              "        vertical-align: middle;\n",
              "    }\n",
              "\n",
              "    .dataframe tbody tr th {\n",
              "        vertical-align: top;\n",
              "    }\n",
              "\n",
              "    .dataframe thead th {\n",
              "        text-align: right;\n",
              "    }\n",
              "</style>\n",
              "<table border=\"1\" class=\"dataframe\">\n",
              "  <thead>\n",
              "    <tr style=\"text-align: right;\">\n",
              "      <th></th>\n",
              "      <th>Pros</th>\n",
              "      <th>Cons</th>\n",
              "    </tr>\n",
              "  </thead>\n",
              "  <tbody>\n",
              "    <tr>\n",
              "      <th>0</th>\n",
              "      <td>Good employee benefits, good intra company opp...</td>\n",
              "      <td>Processes are yet to be streamlined. A lot of ...</td>\n",
              "    </tr>\n",
              "    <tr>\n",
              "      <th>1</th>\n",
              "      <td>Nice environment and the work timings is great</td>\n",
              "      <td>No cons nice company to work</td>\n",
              "    </tr>\n",
              "    <tr>\n",
              "      <th>2</th>\n",
              "      <td>Good benfits and helps you grow in always</td>\n",
              "      <td>Nothing that i feel at the moment</td>\n",
              "    </tr>\n",
              "    <tr>\n",
              "      <th>3</th>\n",
              "      <td>You get the ownership of your work, you get fu...</td>\n",
              "      <td>As Uber shifts towards becoming a mature compa...</td>\n",
              "    </tr>\n",
              "    <tr>\n",
              "      <th>4</th>\n",
              "      <td>Great team, culture, autonomy to employees, su...</td>\n",
              "      <td>None I can think of within three months of my ...</td>\n",
              "    </tr>\n",
              "  </tbody>\n",
              "</table>\n",
              "</div>"
            ],
            "text/plain": [
              "                                                Pros                                               Cons\n",
              "0  Good employee benefits, good intra company opp...  Processes are yet to be streamlined. A lot of ...\n",
              "1     Nice environment and the work timings is great                       No cons nice company to work\n",
              "2          Good benfits and helps you grow in always                  Nothing that i feel at the moment\n",
              "3  You get the ownership of your work, you get fu...  As Uber shifts towards becoming a mature compa...\n",
              "4  Great team, culture, autonomy to employees, su...  None I can think of within three months of my ..."
            ]
          },
          "metadata": {
            "tags": []
          },
          "execution_count": 38
        }
      ]
    },
    {
      "cell_type": "markdown",
      "metadata": {
        "id": "CpGcFgRgiMFi",
        "colab_type": "text"
      },
      "source": [
        "We are developing a list of top words used across the reviews which would give us a brief insight on what our vocabulary is made up of. \n",
        "\n",
        "We'll ensure that we remove our stopwords in the process."
      ]
    },
    {
      "cell_type": "code",
      "metadata": {
        "id": "VtNUBB9Mh3Qr",
        "colab_type": "code",
        "colab": {}
      },
      "source": [
        "def top_n_words(n_top_words, count_vectorizer, text_data):\n",
        "    '''\n",
        "    returns a tuple of the top n words in a sample and their \n",
        "    accompanying counts, given a CountVectorizer object and text sample\n",
        "    '''\n",
        "    vectorized_review = count_vectorizer.fit_transform(text_data.values)\n",
        "    vectorized_total = np.sum(vectorized_review, axis=0)\n",
        "    word_indices = np.flip(np.argsort(vectorized_total)[0,:], 1)\n",
        "    word_values = np.flip(np.sort(vectorized_total)[0,:],1)\n",
        "    \n",
        "    word_vectors = np.zeros((n_top_words, vectorized_review.shape[1]))\n",
        "    for i in range(n_top_words):\n",
        "        word_vectors[i,word_indices[0,i]] = 1\n",
        "\n",
        "    words = [word[0].encode('ascii').decode('utf-8') for \n",
        "             word in count_vectorizer.inverse_transform(word_vectors)]\n",
        "\n",
        "    return (words, word_values[0,:n_top_words].tolist()[0])"
      ],
      "execution_count": 0,
      "outputs": []
    },
    {
      "cell_type": "markdown",
      "metadata": {
        "id": "vGfnprAV2abq",
        "colab_type": "text"
      },
      "source": [
        "We are using the bag of words model which has a **CountVectorizer** in-built function which creates a matrix where the we update the frequency of words based on the sample they appear in."
      ]
    },
    {
      "cell_type": "code",
      "metadata": {
        "id": "mZl3BwQoh3Tk",
        "colab_type": "code",
        "outputId": "5186fe65-55b0-45ac-a7d6-fa2a7c429963",
        "colab": {
          "base_uri": "https://localhost:8080/",
          "height": 569
        }
      },
      "source": [
        "count_vectorizer = CountVectorizer(stop_words='english', min_df= 50,   lowercase= True )\n",
        "words, counts = top_n_words(n_top_words=15,\n",
        "                                     count_vectorizer=count_vectorizer, \n",
        "                                     text_data=pros_model)\n",
        "\n",
        "fig, ax = plt.subplots(figsize=(16,8))\n",
        "ax.bar(range(len(words)),counts);\n",
        "ax.set_xticks(range(len(words)));\n",
        "ax.set_xticklabels(words, rotation='vertical');\n",
        "ax.set_title('Top words in positive reviews dataset (excluding stop words)');\n",
        "ax.set_xlabel('Word');\n",
        "ax.set_ylabel('Number of occurences');\n",
        "plt.show()"
      ],
      "execution_count": 4,
      "outputs": [
        {
          "output_type": "display_data",
          "data": {
            "image/png": "[encoded data removed]",
            "text/plain": [
              "<Figure size 1152x576 with 1 Axes>"
            ]
          },
          "metadata": {
            "tags": []
          }
        }
      ]
    },
    {
      "cell_type": "code",
      "metadata": {
        "id": "GUzFV-p7h3WP",
        "colab_type": "code",
        "outputId": "c44a0090-af93-4f77-8bd7-35a9a9a0513a",
        "colab": {
          "base_uri": "https://localhost:8080/",
          "height": 569
        }
      },
      "source": [
        "# count_vectorizer = CountVectorizer(stop_words='english')\n",
        "words, counts = top_n_words(n_top_words=15,\n",
        "                                     count_vectorizer=count_vectorizer, \n",
        "                                     text_data=cons_model)\n",
        "\n",
        "fig, ax = plt.subplots(figsize=(16,8))\n",
        "ax.bar(range(len(words)),counts);\n",
        "ax.set_xticks(range(len(words)));\n",
        "ax.set_xticklabels(words, rotation='vertical');\n",
        "ax.set_title('Top words in negative reviews dataset (excluding stop words)');\n",
        "ax.set_xlabel('Word');\n",
        "ax.set_ylabel('Number of occurences');\n",
        "plt.show()"
      ],
      "execution_count": 5,
      "outputs": [
        {
          "output_type": "display_data",
          "data": {
            "image/png": "[encoded data removed]",
            "text/plain": [
              "<Figure size 1152x576 with 1 Axes>"
            ]
          },
          "metadata": {
            "tags": []
          }
        }
      ]
    },
    {
      "cell_type": "markdown",
      "metadata": {
        "id": "iQZwCogw29Ml",
        "colab_type": "text"
      },
      "source": [
        "We create a function to convert our reviews in the form of a matrix. This will cover both pros and cons review. We are analyzing and making the topic model on Pros & Cons **seperately**"
      ]
    },
    {
      "cell_type": "code",
      "metadata": {
        "id": "NUL4NNg6fGqP",
        "colab_type": "code",
        "colab": {}
      },
      "source": [
        "def document_matrix(count_vectorizer ,review_type ):\n",
        "  document_matrix_type= count_vectorizer.fit_transform(review_type.values)\n",
        "  return document_matrix_type\n",
        "\n",
        "\n",
        "  \n",
        "  \n",
        "  \n",
        "  \n",
        "  "
      ],
      "execution_count": 0,
      "outputs": []
    },
    {
      "cell_type": "markdown",
      "metadata": {
        "id": "vfcuGujSR20o",
        "colab_type": "text"
      },
      "source": [
        ""
      ]
    },
    {
      "cell_type": "code",
      "metadata": {
        "id": "eIFlSQp3fGtD",
        "colab_type": "code",
        "colab": {}
      },
      "source": [
        "\n",
        "positive_doc_matrix= document_matrix(count_vectorizer= count_vectorizer, review_type= pros_model)\n",
        "negative_doc_matrix= document_matrix(count_vectorizer=count_vectorizer, review_type= cons_model)"
      ],
      "execution_count": 0,
      "outputs": []
    },
    {
      "cell_type": "markdown",
      "metadata": {
        "id": "15Z7WOy23k3N",
        "colab_type": "text"
      },
      "source": [
        "**Latent Dirichilet Allocation** is a generative probability based approach to topic modeling. "
      ]
    },
    {
      "cell_type": "code",
      "metadata": {
        "id": "652_K8QvIajY",
        "colab_type": "code",
        "colab": {}
      },
      "source": [
        "def Truncate(n_topics,  matrix_type):\n",
        "  LDA_model = LatentDirichletAllocation( n_components=n_topics, max_iter=50, learning_method='online', \n",
        "                                          random_state=100, batch_size=64, n_jobs = -1)\n",
        "  LDA_topic_matrix_type = LDA_model.fit_transform(matrix_type)\n",
        "  return LDA_topic_matrix_type"
      ],
      "execution_count": 0,
      "outputs": []
    },
    {
      "cell_type": "code",
      "metadata": {
        "id": "JpdTRz0INhrE",
        "colab_type": "code",
        "colab": {}
      },
      "source": [
        "\n",
        "Positive_SVD= Truncate(n_topics= 4, matrix_type= positive_doc_matrix)\n",
        "Negative_SVD= Truncate(n_topics= 4, matrix_type= negative_doc_matrix)"
      ],
      "execution_count": 0,
      "outputs": []
    },
    {
      "cell_type": "markdown",
      "metadata": {
        "id": "jm5CilWxONQ3",
        "colab_type": "text"
      },
      "source": [
        "Taking the  argmax  of each review_type in this topic matrix will give the predicted topics of each review_type in the sample. We can then sort these into counts of each topic."
      ]
    },
    {
      "cell_type": "code",
      "metadata": {
        "id": "WoZl3O8wOGkY",
        "colab_type": "code",
        "colab": {}
      },
      "source": [
        "# Define helper functions\n",
        "def get_keys(topic_matrix):\n",
        "    '''\n",
        "    returns an integer list of predicted topic \n",
        "    categories for a given topic matrix\n",
        "    '''\n",
        "    keys = topic_matrix.argmax(axis=1).tolist()\n",
        "    return keys\n",
        "\n",
        "def keys_to_counts(keys):\n",
        "    '''\n",
        "    returns a tuple of topic categories and their \n",
        "    accompanying magnitudes for a given list of keys\n",
        "    '''\n",
        "    count_pairs = Counter(keys).items()\n",
        "    categories = [pair[0] for pair in count_pairs]\n",
        "    counts = [pair[1] for pair in count_pairs]\n",
        "    return (categories, counts)\n"
      ],
      "execution_count": 0,
      "outputs": []
    },
    {
      "cell_type": "code",
      "metadata": {
        "id": "dGJ4kbr7OZJR",
        "colab_type": "code",
        "colab": {}
      },
      "source": [
        "#Pros part\n",
        "positive_LDA_keys= get_keys(Positive_SVD)\n",
        "positive_lda_categories, positive_lda_counts = keys_to_counts(positive_LDA_keys)\n",
        "\n",
        "#Cons_part\n",
        "negative_LDA_keys= get_keys(Negative_SVD)\n",
        "negative_lda_categories, negative_lda_counts = keys_to_counts(negative_LDA_keys)"
      ],
      "execution_count": 0,
      "outputs": []
    },
    {
      "cell_type": "code",
      "metadata": {
        "id": "OUgQQJOzWqpN",
        "colab_type": "code",
        "outputId": "f258c867-63d0-44f3-91c5-12f387e17507",
        "colab": {
          "base_uri": "https://localhost:8080/",
          "height": 51
        }
      },
      "source": [
        "print(len(negative_LDA_keys))\n",
        "print(len(positive_LDA_keys))"
      ],
      "execution_count": 12,
      "outputs": [
        {
          "output_type": "stream",
          "text": [
            "3293\n",
            "3293\n"
          ],
          "name": "stdout"
        }
      ]
    },
    {
      "cell_type": "code",
      "metadata": {
        "id": "R_5DQL5vElFs",
        "colab_type": "code",
        "colab": {}
      },
      "source": [
        "n_topics= 4 #declaring this global variable to use in further functions. n_topics are the no. of topics we are creating."
      ],
      "execution_count": 0,
      "outputs": []
    },
    {
      "cell_type": "code",
      "metadata": {
        "id": "SrPZKWCBofbj",
        "colab_type": "code",
        "colab": {
          "base_uri": "https://localhost:8080/",
          "height": 51
        },
        "outputId": "5416e854-0067-4b9e-c02b-2e961cd71f0b"
      },
      "source": [
        "print(negative_lda_categories)\n",
        "print(negative_lda_counts)"
      ],
      "execution_count": 48,
      "outputs": [
        {
          "output_type": "stream",
          "text": [
            "[3, 2, 0, 1]\n",
            "[832, 688, 883, 890]\n"
          ],
          "name": "stdout"
        }
      ]
    },
    {
      "cell_type": "code",
      "metadata": {
        "id": "2tZeM3nuo0Qt",
        "colab_type": "code",
        "colab": {
          "base_uri": "https://localhost:8080/",
          "height": 51
        },
        "outputId": "76804bf6-d0e8-4d39-df1c-5c9cd5fdb7b8"
      },
      "source": [
        "print(positive_lda_categories)\n",
        "print(positive_lda_counts)"
      ],
      "execution_count": 47,
      "outputs": [
        {
          "output_type": "stream",
          "text": [
            "[0, 2, 1, 3]\n",
            "[513, 1133, 652, 995]\n"
          ],
          "name": "stdout"
        }
      ]
    },
    {
      "cell_type": "markdown",
      "metadata": {
        "id": "VXkZjQTkSEp9",
        "colab_type": "text"
      },
      "source": [
        "these topic categories are in and of themselves a little meaningless.\n",
        "\n",
        "In order to better characterise them, it will be helpful to find the most frequent words in each"
      ]
    },
    {
      "cell_type": "code",
      "metadata": {
        "id": "bHd2UGL1QDK_",
        "colab_type": "code",
        "colab": {}
      },
      "source": [
        "# Define helper functions\n",
        "def get_top_n_words(n,  keys, document_term_matrix, count_vectorizer):\n",
        "    '''\n",
        "    returns a list of n_topic strings, where each string contains the n most common \n",
        "    words in a predicted category, in order\n",
        "    '''\n",
        "    top_word_indices = []\n",
        "    for topic in range(n_topics):\n",
        "        temp_vector_sum = 0\n",
        "        for i in range(len(keys)):\n",
        "            if keys[i] == topic:\n",
        "                temp_vector_sum += document_term_matrix[i]\n",
        "        temp_vector_sum= temp_vector_sum.toarray()\n",
        "        \n",
        "        top_n_word_indices = np.flip(np.argsort(temp_vector_sum)[0][-n:],0)\n",
        "        top_word_indices.append(top_n_word_indices)   \n",
        "    top_words = []\n",
        "    for topic in top_word_indices:\n",
        "        topic_words = []\n",
        "        for index in topic:\n",
        "            temp_word_vector = np.zeros((1,document_term_matrix.shape[1]))\n",
        "            temp_word_vector[:,index] = 1\n",
        "            the_word = count_vectorizer.inverse_transform(temp_word_vector)[0][0]\n",
        "            topic_words.append(the_word.encode('ascii').decode('utf-8'))\n",
        "        top_words.append(\" \".join(topic_words))         \n",
        "    return top_words"
      ],
      "execution_count": 0,
      "outputs": []
    },
    {
      "cell_type": "code",
      "metadata": {
        "id": "bTvlv6d7SMZi",
        "colab_type": "code",
        "outputId": "058d0e83-e777-4d61-fc10-3ad7a37edff4",
        "colab": {
          "base_uri": "https://localhost:8080/",
          "height": 85
        }
      },
      "source": [
        "top_n_words_LDA_pros = get_top_n_words(10,   positive_LDA_keys, positive_doc_matrix, count_vectorizer)\n",
        "\n",
        "for i in range(len(top_n_words_LDA_pros)):\n",
        "    print(\"Topic {}: \".format(i+1), top_n_words_LDA_pros[i])"
      ],
      "execution_count": 17,
      "outputs": [
        {
          "output_type": "stream",
          "text": [
            "Topic 1:  growing pay money growth making getting things long management gas\n",
            "Topic 2:  things team support fast bit issues pay drivers growth months\n",
            "Topic 3:  things growth takes pay culture employees think customers benefits rates\n",
            "Topic 4:  income rating feel maintenance things miles passengers support pay team\n"
          ],
          "name": "stdout"
        }
      ]
    },
    {
      "cell_type": "code",
      "metadata": {
        "id": "9_x2PaF0JW4U",
        "colab_type": "code",
        "outputId": "2c4d49d3-62f2-4ad6-ee66-b62bbfe1cdf6",
        "colab": {
          "base_uri": "https://localhost:8080/",
          "height": 85
        }
      },
      "source": [
        "top_n_words_LDA_cons = get_top_n_words(10,   negative_LDA_keys, negative_doc_matrix, count_vectorizer)\n",
        "\n",
        "for i in range(len(top_n_words_LDA_cons)):\n",
        "    print(\"Topic {}: \".format(i+1), top_n_words_LDA_cons[i])"
      ],
      "execution_count": 18,
      "outputs": [
        {
          "output_type": "stream",
          "text": [
            "Topic 1:  uber drivers don management pay customers time company support employees\n",
            "Topic 2:  pay car uber wear gas tear low vehicle driver time\n",
            "Topic 3:  time hours make money long work job uber working like\n",
            "Topic 4:  work company people lot life hard need balance uber fast\n"
          ],
          "name": "stdout"
        }
      ]
    },
    {
      "cell_type": "code",
      "metadata": {
        "id": "_A9eiTh_aHyP",
        "colab_type": "code",
        "outputId": "f7fa8cf8-49bc-47ea-effb-8eb835334f07",
        "colab": {
          "base_uri": "https://localhost:8080/",
          "height": 530
        }
      },
      "source": [
        "top_n_words_LDA_pros = get_top_n_words(10, positive_LDA_keys, positive_doc_matrix, count_vectorizer)\n",
        "labels = ['Topic {}: \\n'.format(i) + top_n_words_LDA_pros[i] for i in positive_lda_categories]\n",
        "\n",
        "fig, ax = plt.subplots(figsize=(16,8))\n",
        "ax.bar(positive_lda_categories, positive_lda_counts);\n",
        "ax.set_xticks(positive_lda_categories);\n",
        "ax.set_xticklabels(labels);\n",
        "ax.set_title('LDA topic counts');\n",
        "ax.set_ylabel('Number of headlines');"
      ],
      "execution_count": 20,
      "outputs": [
        {
          "output_type": "display_data",
          "data": {
            "image/png": "[encoded data removed]",
            "text/plain": [
              "<Figure size 1152x576 with 1 Axes>"
            ]
          },
          "metadata": {
            "tags": []
          }
        }
      ]
    },
    {
      "cell_type": "code",
      "metadata": {
        "id": "gZUs7O_wkH8P",
        "colab_type": "code",
        "colab": {
          "base_uri": "https://localhost:8080/",
          "height": 530
        },
        "outputId": "f3666554-809e-4e70-f678-edd4bb41afeb"
      },
      "source": [
        "top_n_words_LDA_cons = get_top_n_words(10, negative_LDA_keys, negative_doc_matrix, count_vectorizer)\n",
        "labels = ['Topic {}: \\n'.format(i) + top_n_words_LDA_cons[i] for i in negative_lda_categories]\n",
        "\n",
        "fig, ax = plt.subplots(figsize=(16,8))\n",
        "ax.bar(negative_lda_categories, negative_lda_counts);\n",
        "ax.set_xticks(negative_lda_categories);\n",
        "ax.set_xticklabels(labels);\n",
        "ax.set_title('LDA topic counts');\n",
        "ax.set_ylabel('Number of headlines');"
      ],
      "execution_count": 22,
      "outputs": [
        {
          "output_type": "display_data",
          "data": {
            "image/png": "[encoded data removed]",
            "text/plain": [
              "<Figure size 1152x576 with 1 Axes>"
            ]
          },
          "metadata": {
            "tags": []
          }
        }
      ]
    },
    {
      "cell_type": "markdown",
      "metadata": {
        "id": "mz9pCpex5BkV",
        "colab_type": "text"
      },
      "source": [
        "We use a dimensionality-reduction technique called **t -SNE**, which will also serve to better illuminate the success of the clustering process."
      ]
    },
    {
      "cell_type": "code",
      "metadata": {
        "id": "IxpxS8exaH35",
        "colab_type": "code",
        "outputId": "a4abc8c6-c1a7-4298-e236-a0fee16a2217",
        "colab": {
          "base_uri": "https://localhost:8080/",
          "height": 187
        }
      },
      "source": [
        "tsne_lda_model = TSNE(n_components=2, perplexity=50, learning_rate=100, \n",
        "                        n_iter=2000, verbose=1, random_state=0, angle=0.75)\n",
        "tsne_lda_vectors = tsne_lda_model.fit_transform(Positive_SVD)"
      ],
      "execution_count": 21,
      "outputs": [
        {
          "output_type": "stream",
          "text": [
            "[t-SNE] Computing 151 nearest neighbors...\n",
            "[t-SNE] Indexed 3293 samples in 0.006s...\n",
            "[t-SNE] Computed neighbors for 3293 samples in 0.111s...\n",
            "[t-SNE] Computed conditional probabilities for sample 1000 / 3293\n",
            "[t-SNE] Computed conditional probabilities for sample 2000 / 3293\n",
            "[t-SNE] Computed conditional probabilities for sample 3000 / 3293\n",
            "[t-SNE] Computed conditional probabilities for sample 3293 / 3293\n",
            "[t-SNE] Mean sigma: 0.000000\n",
            "[t-SNE] KL divergence after 250 iterations with early exaggeration: 58.986671\n",
            "[t-SNE] KL divergence after 2000 iterations: 0.430089\n"
          ],
          "name": "stdout"
        }
      ]
    },
    {
      "cell_type": "code",
      "metadata": {
        "id": "ggL4OYcTaH7A",
        "colab_type": "code",
        "colab": {}
      },
      "source": [
        "# Define helper functions\n",
        "def get_mean_topic_vectors(keys, two_dim_vectors):\n",
        "    '''\n",
        "    returns a list of centroid vectors from each predicted topic category\n",
        "    '''\n",
        "    mean_topic_vectors = []\n",
        "    for t in range(n_topics):\n",
        "        articles_in_that_topic = []\n",
        "        for i in range(len(keys)):\n",
        "            if keys[i] == t:\n",
        "                articles_in_that_topic.append(two_dim_vectors[i])    \n",
        "        \n",
        "        articles_in_that_topic = np.vstack(articles_in_that_topic)\n",
        "        mean_article_in_that_topic = np.mean(articles_in_that_topic, axis=0)\n",
        "        mean_topic_vectors.append(mean_article_in_that_topic)\n",
        "    return mean_topic_vectors"
      ],
      "execution_count": 0,
      "outputs": []
    },
    {
      "cell_type": "code",
      "metadata": {
        "id": "V0gxiiHPaH1P",
        "colab_type": "code",
        "colab": {}
      },
      "source": [
        "colormap = np.array([\n",
        "    \"#c7c7c7\", \"#aec7e8\",  \"#ffbb78\", \"#2ca02c\",\n",
        "    \"#98df8a\", \"#d62728\", \"#ff9896\", \"#9467bd\", \"#c5b0d5\",\n",
        "    \"#8c564b\", \"#c49c94\", \"#e377c2\", \"#f7b6d2\", \"#7f7f7f\",\n",
        "    \"#bcbd22\", \"#dbdb8d\", \"#17becf\", \"#9edae5\" ])\n",
        "colormap = colormap[:n_topics]"
      ],
      "execution_count": 0,
      "outputs": []
    },
    {
      "cell_type": "code",
      "metadata": {
        "id": "ZN9onGw6bc1e",
        "colab_type": "code",
        "outputId": "b81baa26-1728-49c8-c2b5-19476e3c8fe9",
        "colab": {
          "base_uri": "https://localhost:8080/",
          "height": 717
        }
      },
      "source": [
        "lda_mean_topic_vectors = get_mean_topic_vectors(positive_LDA_keys, tsne_lda_vectors)\n",
        "\n",
        "plot = figure(title=\"t-SNE Clustering of {} LDA Topics\".format(n_topics), plot_width=700, plot_height=700)\n",
        "plot.scatter(x=tsne_lda_vectors[:,0], y=tsne_lda_vectors[:,1], color=colormap[positive_LDA_keys])\n",
        "\n",
        "for t in range(n_topics):\n",
        "    label = Label(x=lda_mean_topic_vectors[t][0], y=lda_mean_topic_vectors[t][1], \n",
        "                  text=top_n_words_LDA_pros[t], text_color=colormap[t])\n",
        "    plot.add_layout(label)\n",
        "\n",
        "show(plot)"
      ],
      "execution_count": 25,
      "outputs": [
        {
          "output_type": "display_data",
          "data": {
            "application/javascript": [
              "\n",
              "(function(root) {\n",
              "  function now() {\n",
              "    return new Date();\n",
              "  }\n",
              "\n",
              "  var force = true;\n",
              "\n",
              "  if (typeof (root._bokeh_onload_callbacks) === \"undefined\" || force === true) {\n",
              "    root._bokeh_onload_callbacks = [];\n",
              "    root._bokeh_is_loading = undefined;\n",
              "  }\n",
              "\n",
              "  var JS_MIME_TYPE = 'application/javascript';\n",
              "  var HTML_MIME_TYPE = 'text/html';\n",
              "  var EXEC_MIME_TYPE = 'application/vnd.bokehjs_exec.v0+json';\n",
              "  var CLASS_NAME = 'output_bokeh rendered_html';\n",
              "\n",
              "  /**\n",
              "   * Render data to the DOM node\n",
              "   */\n",
              "  function render(props, node) {\n",
              "    var script = document.createElement(\"script\");\n",
              "    node.appendChild(script);\n",
              "  }\n",
              "\n",
              "  /**\n",
              "   * Handle when an output is cleared or removed\n",
              "   */\n",
              "  function handleClearOutput(event, handle) {\n",
              "    var cell = handle.cell;\n",
              "\n",
              "    var id = cell.output_area._bokeh_element_id;\n",
              "    var server_id = cell.output_area._bokeh_server_id;\n",
              "    // Clean up Bokeh references\n",
              "    if (id != null && id in Bokeh.index) {\n",
              "      Bokeh.index[id].model.document.clear();\n",
              "      delete Bokeh.index[id];\n",
              "    }\n",
              "\n",
              "    if (server_id !== undefined) {\n",
              "      // Clean up Bokeh references\n",
              "      var cmd = \"from bokeh.io.state import curstate; print(curstate().uuid_to_server['\" + server_id + \"'].get_sessions()[0].document.roots[0]._id)\";\n",
              "      cell.notebook.kernel.execute(cmd, {\n",
              "        iopub: {\n",
              "          output: function(msg) {\n",
              "            var id = msg.content.text.trim();\n",
              "            if (id in Bokeh.index) {\n",
              "              Bokeh.index[id].model.document.clear();\n",
              "              delete Bokeh.index[id];\n",
              "            }\n",
              "          }\n",
              "        }\n",
              "      });\n",
              "      // Destroy server and session\n",
              "      var cmd = \"import bokeh.io.notebook as ion; ion.destroy_server('\" + server_id + \"')\";\n",
              "      cell.notebook.kernel.execute(cmd);\n",
              "    }\n",
              "  }\n",
              "\n",
              "  /**\n",
              "   * Handle when a new output is added\n",
              "   */\n",
              "  function handleAddOutput(event, handle) {\n",
              "    var output_area = handle.output_area;\n",
              "    var output = handle.output;\n",
              "\n",
              "    // limit handleAddOutput to display_data with EXEC_MIME_TYPE content only\n",
              "    if ((output.output_type != \"display_data\") || (!output.data.hasOwnProperty(EXEC_MIME_TYPE))) {\n",
              "      return\n",
              "    }\n",
              "\n",
              "    var toinsert = output_area.element.find(\".\" + CLASS_NAME.split(' ')[0]);\n",
              "\n",
              "    if (output.metadata[EXEC_MIME_TYPE][\"id\"] !== undefined) {\n",
              "      toinsert[toinsert.length - 1].firstChild.textContent = output.data[JS_MIME_TYPE];\n",
              "      // store reference to embed id on output_area\n",
              "      output_area._bokeh_element_id = output.metadata[EXEC_MIME_TYPE][\"id\"];\n",
              "    }\n",
              "    if (output.metadata[EXEC_MIME_TYPE][\"server_id\"] !== undefined) {\n",
              "      var bk_div = document.createElement(\"div\");\n",
              "      bk_div.innerHTML = output.data[HTML_MIME_TYPE];\n",
              "      var script_attrs = bk_div.children[0].attributes;\n",
              "      for (var i = 0; i < script_attrs.length; i++) {\n",
              "        toinsert[toinsert.length - 1].firstChild.setAttribute(script_attrs[i].name, script_attrs[i].value);\n",
              "      }\n",
              "      // store reference to server id on output_area\n",
              "      output_area._bokeh_server_id = output.metadata[EXEC_MIME_TYPE][\"server_id\"];\n",
              "    }\n",
              "  }\n",
              "\n",
              "  function register_renderer(events, OutputArea) {\n",
              "\n",
              "    function append_mime(data, metadata, element) {\n",
              "      // create a DOM node to render to\n",
              "      var toinsert = this.create_output_subarea(\n",
              "        metadata,\n",
              "        CLASS_NAME,\n",
              "        EXEC_MIME_TYPE\n",
              "      );\n",
              "      this.keyboard_manager.register_events(toinsert);\n",
              "      // Render to node\n",
              "      var props = {data: data, metadata: metadata[EXEC_MIME_TYPE]};\n",
              "      render(props, toinsert[toinsert.length - 1]);\n",
              "      element.append(toinsert);\n",
              "      return toinsert\n",
              "    }\n",
              "\n",
              "    /* Handle when an output is cleared or removed */\n",
              "    events.on('clear_output.CodeCell', handleClearOutput);\n",
              "    events.on('delete.Cell', handleClearOutput);\n",
              "\n",
              "    /* Handle when a new output is added */\n",
              "    events.on('output_added.OutputArea', handleAddOutput);\n",
              "\n",
              "    /**\n",
              "     * Register the mime type and append_mime function with output_area\n",
              "     */\n",
              "    OutputArea.prototype.register_mime_type(EXEC_MIME_TYPE, append_mime, {\n",
              "      /* Is output safe? */\n",
              "      safe: true,\n",
              "      /* Index of renderer in `output_area.display_order` */\n",
              "      index: 0\n",
              "    });\n",
              "  }\n",
              "\n",
              "  // register the mime type if in Jupyter Notebook environment and previously unregistered\n",
              "  if (root.Jupyter !== undefined) {\n",
              "    var events = require('base/js/events');\n",
              "    var OutputArea = require('notebook/js/outputarea').OutputArea;\n",
              "\n",
              "    if (OutputArea.prototype.mime_types().indexOf(EXEC_MIME_TYPE) == -1) {\n",
              "      register_renderer(events, OutputArea);\n",
              "    }\n",
              "  }\n",
              "\n",
              "  \n",
              "  if (typeof (root._bokeh_timeout) === \"undefined\" || force === true) {\n",
              "    root._bokeh_timeout = Date.now() + 5000;\n",
              "    root._bokeh_failed_load = false;\n",
              "  }\n",
              "\n",
              "  var NB_LOAD_WARNING = {'data': {'text/html':\n",
              "     \"<div style='background-color: #fdd'>\\n\"+\n",
              "     \"<p>\\n\"+\n",
              "     \"BokehJS does not appear to have successfully loaded. If loading BokehJS from CDN, this \\n\"+\n",
              "     \"may be due to a slow or bad network connection. Possible fixes:\\n\"+\n",
              "     \"</p>\\n\"+\n",
              "     \"<ul>\\n\"+\n",
              "     \"<li>re-rerun `output_notebook()` to attempt to load from CDN again, or</li>\\n\"+\n",
              "     \"<li>use INLINE resources instead, as so:</li>\\n\"+\n",
              "     \"</ul>\\n\"+\n",
              "     \"<code>\\n\"+\n",
              "     \"from bokeh.resources import INLINE\\n\"+\n",
              "     \"output_notebook(resources=INLINE)\\n\"+\n",
              "     \"</code>\\n\"+\n",
              "     \"</div>\"}};\n",
              "\n",
              "  function display_loaded() {\n",
              "    var el = document.getElementById(null);\n",
              "    if (el != null) {\n",
              "      el.textContent = \"BokehJS is loading...\";\n",
              "    }\n",
              "    if (root.Bokeh !== undefined) {\n",
              "      if (el != null) {\n",
              "        el.textContent = \"BokehJS \" + root.Bokeh.version + \" successfully loaded.\";\n",
              "      }\n",
              "    } else if (Date.now() < root._bokeh_timeout) {\n",
              "      setTimeout(display_loaded, 100)\n",
              "    }\n",
              "  }\n",
              "\n",
              "\n",
              "  function run_callbacks() {\n",
              "    try {\n",
              "      root._bokeh_onload_callbacks.forEach(function(callback) { callback() });\n",
              "    }\n",
              "    finally {\n",
              "      delete root._bokeh_onload_callbacks\n",
              "    }\n",
              "    console.info(\"Bokeh: all callbacks have finished\");\n",
              "  }\n",
              "\n",
              "  function load_libs(js_urls, callback) {\n",
              "    root._bokeh_onload_callbacks.push(callback);\n",
              "    if (root._bokeh_is_loading > 0) {\n",
              "      console.log(\"Bokeh: BokehJS is being loaded, scheduling callback at\", now());\n",
              "      return null;\n",
              "    }\n",
              "    if (js_urls == null || js_urls.length === 0) {\n",
              "      run_callbacks();\n",
              "      return null;\n",
              "    }\n",
              "    console.log(\"Bokeh: BokehJS not loaded, scheduling load and callback at\", now());\n",
              "    root._bokeh_is_loading = js_urls.length;\n",
              "    for (var i = 0; i < js_urls.length; i++) {\n",
              "      var url = js_urls[i];\n",
              "      var s = document.createElement('script');\n",
              "      s.src = url;\n",
              "      s.async = false;\n",
              "      s.onreadystatechange = s.onload = function() {\n",
              "        root._bokeh_is_loading--;\n",
              "        if (root._bokeh_is_loading === 0) {\n",
              "          console.log(\"Bokeh: all BokehJS libraries loaded\");\n",
              "          run_callbacks()\n",
              "        }\n",
              "      };\n",
              "      s.onerror = function() {\n",
              "        console.warn(\"failed to load library \" + url);\n",
              "      };\n",
              "      console.log(\"Bokeh: injecting script tag for BokehJS library: \", url);\n",
              "      document.getElementsByTagName(\"head\")[0].appendChild(s);\n",
              "    }\n",
              "  };\n",
              "\n",
              "  var js_urls = [\"https://cdn.pydata.org/bokeh/release/bokeh-1.0.4.min.js\", \"https://cdn.pydata.org/bokeh/release/bokeh-widgets-1.0.4.min.js\", \"https://cdn.pydata.org/bokeh/release/bokeh-tables-1.0.4.min.js\", \"https://cdn.pydata.org/bokeh/release/bokeh-gl-1.0.4.min.js\"];\n",
              "\n",
              "  var inline_js = [\n",
              "    function(Bokeh) {\n",
              "      Bokeh.set_log_level(\"info\");\n",
              "    },\n",
              "    \n",
              "    function(Bokeh) {\n",
              "      \n",
              "    },\n",
              "    function(Bokeh) {\n",
              "      console.log(\"Bokeh: injecting CSS: https://cdn.pydata.org/bokeh/release/bokeh-1.0.4.min.css\");\n",
              "      Bokeh.embed.inject_css(\"https://cdn.pydata.org/bokeh/release/bokeh-1.0.4.min.css\");\n",
              "      console.log(\"Bokeh: injecting CSS: https://cdn.pydata.org/bokeh/release/bokeh-widgets-1.0.4.min.css\");\n",
              "      Bokeh.embed.inject_css(\"https://cdn.pydata.org/bokeh/release/bokeh-widgets-1.0.4.min.css\");\n",
              "      console.log(\"Bokeh: injecting CSS: https://cdn.pydata.org/bokeh/release/bokeh-tables-1.0.4.min.css\");\n",
              "      Bokeh.embed.inject_css(\"https://cdn.pydata.org/bokeh/release/bokeh-tables-1.0.4.min.css\");\n",
              "    }\n",
              "  ];\n",
              "\n",
              "  function run_inline_js() {\n",
              "    \n",
              "    if ((root.Bokeh !== undefined) || (force === true)) {\n",
              "      for (var i = 0; i < inline_js.length; i++) {\n",
              "        inline_js[i].call(root, root.Bokeh);\n",
              "      }} else if (Date.now() < root._bokeh_timeout) {\n",
              "      setTimeout(run_inline_js, 100);\n",
              "    } else if (!root._bokeh_failed_load) {\n",
              "      console.log(\"Bokeh: BokehJS failed to load within specified timeout.\");\n",
              "      root._bokeh_failed_load = true;\n",
              "    } else if (force !== true) {\n",
              "      var cell = $(document.getElementById(null)).parents('.cell').data().cell;\n",
              "      cell.output_area.append_execute_result(NB_LOAD_WARNING)\n",
              "    }\n",
              "\n",
              "  }\n",
              "\n",
              "  if (root._bokeh_is_loading === 0) {\n",
              "    console.log(\"Bokeh: BokehJS loaded, going straight to plotting\");\n",
              "    run_inline_js();\n",
              "  } else {\n",
              "    load_libs(js_urls, function() {\n",
              "      console.log(\"Bokeh: BokehJS plotting callback run at\", now());\n",
              "      run_inline_js();\n",
              "    });\n",
              "  }\n",
              "}(window));"
            ],
            "application/vnd.bokehjs_load.v0+json": "\n(function(root) {\n  function now() {\n    return new Date();\n  }\n\n  var force = true;\n\n  if (typeof (root._bokeh_onload_callbacks) === \"undefined\" || force === true) {\n    root._bokeh_onload_callbacks = [];\n    root._bokeh_is_loading = undefined;\n  }\n\n  \n\n  \n  if (typeof (root._bokeh_timeout) === \"undefined\" || force === true) {\n    root._bokeh_timeout = Date.now() + 5000;\n    root._bokeh_failed_load = false;\n  }\n\n  var NB_LOAD_WARNING = {'data': {'text/html':\n     \"<div style='background-color: #fdd'>\\n\"+\n     \"<p>\\n\"+\n     \"BokehJS does not appear to have successfully loaded. If loading BokehJS from CDN, this \\n\"+\n     \"may be due to a slow or bad network connection. Possible fixes:\\n\"+\n     \"</p>\\n\"+\n     \"<ul>\\n\"+\n     \"<li>re-rerun `output_notebook()` to attempt to load from CDN again, or</li>\\n\"+\n     \"<li>use INLINE resources instead, as so:</li>\\n\"+\n     \"</ul>\\n\"+\n     \"<code>\\n\"+\n     \"from bokeh.resources import INLINE\\n\"+\n     \"output_notebook(resources=INLINE)\\n\"+\n     \"</code>\\n\"+\n     \"</div>\"}};\n\n  function display_loaded() {\n    var el = document.getElementById(null);\n    if (el != null) {\n      el.textContent = \"BokehJS is loading...\";\n    }\n    if (root.Bokeh !== undefined) {\n      if (el != null) {\n        el.textContent = \"BokehJS \" + root.Bokeh.version + \" successfully loaded.\";\n      }\n    } else if (Date.now() < root._bokeh_timeout) {\n      setTimeout(display_loaded, 100)\n    }\n  }\n\n\n  function run_callbacks() {\n    try {\n      root._bokeh_onload_callbacks.forEach(function(callback) { callback() });\n    }\n    finally {\n      delete root._bokeh_onload_callbacks\n    }\n    console.info(\"Bokeh: all callbacks have finished\");\n  }\n\n  function load_libs(js_urls, callback) {\n    root._bokeh_onload_callbacks.push(callback);\n    if (root._bokeh_is_loading > 0) {\n      console.log(\"Bokeh: BokehJS is being loaded, scheduling callback at\", now());\n      return null;\n    }\n    if (js_urls == null || js_urls.length === 0) {\n      run_callbacks();\n      return null;\n    }\n    console.log(\"Bokeh: BokehJS not loaded, scheduling load and callback at\", now());\n    root._bokeh_is_loading = js_urls.length;\n    for (var i = 0; i < js_urls.length; i++) {\n      var url = js_urls[i];\n      var s = document.createElement('script');\n      s.src = url;\n      s.async = false;\n      s.onreadystatechange = s.onload = function() {\n        root._bokeh_is_loading--;\n        if (root._bokeh_is_loading === 0) {\n          console.log(\"Bokeh: all BokehJS libraries loaded\");\n          run_callbacks()\n        }\n      };\n      s.onerror = function() {\n        console.warn(\"failed to load library \" + url);\n      };\n      console.log(\"Bokeh: injecting script tag for BokehJS library: \", url);\n      document.getElementsByTagName(\"head\")[0].appendChild(s);\n    }\n  };\n\n  var js_urls = [\"https://cdn.pydata.org/bokeh/release/bokeh-1.0.4.min.js\", \"https://cdn.pydata.org/bokeh/release/bokeh-widgets-1.0.4.min.js\", \"https://cdn.pydata.org/bokeh/release/bokeh-tables-1.0.4.min.js\", \"https://cdn.pydata.org/bokeh/release/bokeh-gl-1.0.4.min.js\"];\n\n  var inline_js = [\n    function(Bokeh) {\n      Bokeh.set_log_level(\"info\");\n    },\n    \n    function(Bokeh) {\n      \n    },\n    function(Bokeh) {\n      console.log(\"Bokeh: injecting CSS: https://cdn.pydata.org/bokeh/release/bokeh-1.0.4.min.css\");\n      Bokeh.embed.inject_css(\"https://cdn.pydata.org/bokeh/release/bokeh-1.0.4.min.css\");\n      console.log(\"Bokeh: injecting CSS: https://cdn.pydata.org/bokeh/release/bokeh-widgets-1.0.4.min.css\");\n      Bokeh.embed.inject_css(\"https://cdn.pydata.org/bokeh/release/bokeh-widgets-1.0.4.min.css\");\n      console.log(\"Bokeh: injecting CSS: https://cdn.pydata.org/bokeh/release/bokeh-tables-1.0.4.min.css\");\n      Bokeh.embed.inject_css(\"https://cdn.pydata.org/bokeh/release/bokeh-tables-1.0.4.min.css\");\n    }\n  ];\n\n  function run_inline_js() {\n    \n    if ((root.Bokeh !== undefined) || (force === true)) {\n      for (var i = 0; i < inline_js.length; i++) {\n        inline_js[i].call(root, root.Bokeh);\n      }} else if (Date.now() < root._bokeh_timeout) {\n      setTimeout(run_inline_js, 100);\n    } else if (!root._bokeh_failed_load) {\n      console.log(\"Bokeh: BokehJS failed to load within specified timeout.\");\n      root._bokeh_failed_load = true;\n    } else if (force !== true) {\n      var cell = $(document.getElementById(null)).parents('.cell').data().cell;\n      cell.output_area.append_execute_result(NB_LOAD_WARNING)\n    }\n\n  }\n\n  if (root._bokeh_is_loading === 0) {\n    console.log(\"Bokeh: BokehJS loaded, going straight to plotting\");\n    run_inline_js();\n  } else {\n    load_libs(js_urls, function() {\n      console.log(\"Bokeh: BokehJS plotting callback run at\", now());\n      run_inline_js();\n    });\n  }\n}(window));"
          },
          "metadata": {
            "tags": []
          }
        },
        {
          "output_type": "display_data",
          "data": {
            "text/html": [
              "\n",
              "\n",
              "\n",
              "\n",
              "\n",
              "\n",
              "  <div class=\"bk-root\" id=\"557a294c-04fb-4de0-b6ad-89211f5553bb\" data-root-id=\"1002\"></div>\n"
            ]
          },
          "metadata": {
            "tags": []
          }
        },
        {
          "output_type": "display_data",
          "data": {
            "application/javascript": [
              "(function(root) {\n",
              "  function embed_document(root) {\n",
              "    \n",
              "  var docs_json = {\"760268e1-0f00-4319-ae5e-32bd4f1e58eb\":{\"roots\":{\"references\":[{\"attributes\":{\"below\":[{\"id\":\"1012\",\"type\":\"LinearAxis\"}],\"left\":[{\"id\":\"1017\",\"type\":\"LinearAxis\"}],\"plot_height\":700,\"plot_width\":700,\"renderers\":[{\"id\":\"1012\",\"type\":\"LinearAxis\"},{\"id\":\"1016\",\"type\":\"Grid\"},{\"id\":\"1017\",\"type\":\"LinearAxis\"},{\"id\":\"1021\",\"type\":\"Grid\"},{\"id\":\"1030\",\"type\":\"BoxAnnotation\"},{\"id\":\"1040\",\"type\":\"GlyphRenderer\"},{\"id\":\"1042\",\"type\":\"Label\"},{\"id\":\"1043\",\"type\":\"Label\"},{\"id\":\"1044\",\"type\":\"Label\"},{\"id\":\"1045\",\"type\":\"Label\"}],\"title\":{\"id\":\"1001\",\"type\":\"Title\"},\"toolbar\":{\"id\":\"1028\",\"type\":\"Toolbar\"},\"x_range\":{\"id\":\"1004\",\"type\":\"DataRange1d\"},\"x_scale\":{\"id\":\"1008\",\"type\":\"LinearScale\"},\"y_range\":{\"id\":\"1006\",\"type\":\"DataRange1d\"},\"y_scale\":{\"id\":\"1010\",\"type\":\"LinearScale\"}},\"id\":\"1002\",\"subtype\":\"Figure\",\"type\":\"Plot\"},{\"attributes\":{\"callback\":null},\"id\":\"1006\",\"type\":\"DataRange1d\"},{\"attributes\":{\"active_drag\":\"auto\",\"active_inspect\":\"auto\",\"active_multi\":null,\"active_scroll\":\"auto\",\"active_tap\":\"auto\",\"tools\":[{\"id\":\"1022\",\"type\":\"PanTool\"},{\"id\":\"1023\",\"type\":\"WheelZoomTool\"},{\"id\":\"1024\",\"type\":\"BoxZoomTool\"},{\"id\":\"1025\",\"type\":\"SaveTool\"},{\"id\":\"1026\",\"type\":\"ResetTool\"},{\"id\":\"1027\",\"type\":\"HelpTool\"}]},\"id\":\"1028\",\"type\":\"Toolbar\"},{\"attributes\":{\"source\":{\"id\":\"1037\",\"type\":\"ColumnDataSource\"}},\"id\":\"1041\",\"type\":\"CDSView\"},{\"attributes\":{},\"id\":\"1008\",\"type\":\"LinearScale\"},{\"attributes\":{\"plot\":{\"id\":\"1002\",\"subtype\":\"Figure\",\"type\":\"Plot\"},\"text\":\"income rating feel maintenance things miles passengers support pay team\",\"text_color\":{\"value\":\"#2ca02c\"},\"x\":21.78901481628418,\"y\":11.190467834472656},\"id\":\"1045\",\"type\":\"Label\"},{\"attributes\":{\"bottom_units\":\"screen\",\"fill_alpha\":{\"value\":0.5},\"fill_color\":{\"value\":\"lightgrey\"},\"left_units\":\"screen\",\"level\":\"overlay\",\"line_alpha\":{\"value\":1.0},\"line_color\":{\"value\":\"black\"},\"line_dash\":[4,4],\"line_width\":{\"value\":2},\"plot\":null,\"render_mode\":\"css\",\"right_units\":\"screen\",\"top_units\":\"screen\"},\"id\":\"1030\",\"type\":\"BoxAnnotation\"},{\"attributes\":{},\"id\":\"1010\",\"type\":\"LinearScale\"},{\"attributes\":{\"data_source\":{\"id\":\"1037\",\"type\":\"ColumnDataSource\"},\"glyph\":{\"id\":\"1038\",\"type\":\"Scatter\"},\"hover_glyph\":null,\"muted_glyph\":null,\"nonselection_glyph\":{\"id\":\"1039\",\"type\":\"Scatter\"},\"selection_glyph\":null,\"view\":{\"id\":\"1041\",\"type\":\"CDSView\"}},\"id\":\"1040\",\"type\":\"GlyphRenderer\"},{\"attributes\":{},\"id\":\"1049\",\"type\":\"BasicTickFormatter\"},{\"attributes\":{\"formatter\":{\"id\":\"1049\",\"type\":\"BasicTickFormatter\"},\"plot\":{\"id\":\"1002\",\"subtype\":\"Figure\",\"type\":\"Plot\"},\"ticker\":{\"id\":\"1013\",\"type\":\"BasicTicker\"}},\"id\":\"1012\",\"type\":\"LinearAxis\"},{\"attributes\":{\"fill_color\":{\"field\":\"fill_color\"},\"line_color\":{\"field\":\"line_color\"},\"x\":{\"field\":\"x\"},\"y\":{\"field\":\"y\"}},\"id\":\"1038\",\"type\":\"Scatter\"},{\"attributes\":{},\"id\":\"1013\",\"type\":\"BasicTicker\"},{\"attributes\":{\"plot\":{\"id\":\"1002\",\"subtype\":\"Figure\",\"type\":\"Plot\"},\"text\":\"things team support fast bit issues pay drivers growth months\",\"text_color\":{\"value\":\"#aec7e8\"},\"x\":16.108131408691406,\"y\":-11.99887466430664},\"id\":\"1043\",\"type\":\"Label\"},{\"attributes\":{\"plot\":{\"id\":\"1002\",\"subtype\":\"Figure\",\"type\":\"Plot\"},\"ticker\":{\"id\":\"1013\",\"type\":\"BasicTicker\"}},\"id\":\"1016\",\"type\":\"Grid\"},{\"attributes\":{\"formatter\":{\"id\":\"1047\",\"type\":\"BasicTickFormatter\"},\"plot\":{\"id\":\"1002\",\"subtype\":\"Figure\",\"type\":\"Plot\"},\"ticker\":{\"id\":\"1018\",\"type\":\"BasicTicker\"}},\"id\":\"1017\",\"type\":\"LinearAxis\"},{\"attributes\":{},\"id\":\"1018\",\"type\":\"BasicTicker\"},{\"attributes\":{},\"id\":\"1052\",\"type\":\"Selection\"},{\"attributes\":{\"plot\":{\"id\":\"1002\",\"subtype\":\"Figure\",\"type\":\"Plot\"},\"text\":\"things growth takes pay culture employees think customers benefits rates\",\"text_color\":{\"value\":\"#ffbb78\"},\"x\":-26.47157096862793,\"y\":7.4204254150390625},\"id\":\"1044\",\"type\":\"Label\"},{\"attributes\":{},\"id\":\"1047\",\"type\":\"BasicTickFormatter\"},{\"attributes\":{\"dimension\":1,\"plot\":{\"id\":\"1002\",\"subtype\":\"Figure\",\"type\":\"Plot\"},\"ticker\":{\"id\":\"1018\",\"type\":\"BasicTicker\"}},\"id\":\"1021\",\"type\":\"Grid\"},{\"attributes\":{\"fill_alpha\":{\"value\":0.1},\"fill_color\":{\"value\":\"#1f77b4\"},\"line_alpha\":{\"value\":0.1},\"line_color\":{\"value\":\"#1f77b4\"},\"x\":{\"field\":\"x\"},\"y\":{\"field\":\"y\"}},\"id\":\"1039\",\"type\":\"Scatter\"},{\"attributes\":{\"callback\":null,\"data\":{\"fill_color\":[\"#c7c7c7\",\"#ffbb78\",\"#c7c7c7\",\"#aec7e8\",\"#ffbb78\",\"#ffbb78\",\"#ffbb78\",\"#ffbb78\",\"#ffbb78\",\"#ffbb78\",\"#ffbb78\",\"#c7c7c7\",\"#c7c7c7\",\"#c7c7c7\",\"#c7c7c7\",\"#2ca02c\",\"#aec7e8\",\"#ffbb78\",\"#2ca02c\",\"#2ca02c\",\"#aec7e8\",\"#ffbb78\",\"#c7c7c7\",\"#ffbb78\",\"#c7c7c7\",\"#aec7e8\",\"#c7c7c7\",\"#c7c7c7\",\"#c7c7c7\",\"#aec7e8\",\"#ffbb78\",\"#ffbb78\",\"#aec7e8\",\"#ffbb78\",\"#aec7e8\",\"#ffbb78\",\"#ffbb78\",\"#ffbb78\",\"#ffbb78\",\"#ffbb78\",\"#ffbb78\",\"#ffbb78\",\"#ffbb78\",\"#c7c7c7\",\"#ffbb78\",\"#ffbb78\",\"#c7c7c7\",\"#aec7e8\",\"#c7c7c7\",\"#c7c7c7\",\"#c7c7c7\",\"#ffbb78\",\"#aec7e8\",\"#c7c7c7\",\"#ffbb78\",\"#ffbb78\",\"#aec7e8\",\"#ffbb78\",\"#aec7e8\",\"#c7c7c7\",\"#ffbb78\",\"#c7c7c7\",\"#c7c7c7\",\"#aec7e8\",\"#ffbb78\",\"#aec7e8\",\"#aec7e8\",\"#ffbb78\",\"#ffbb78\",\"#c7c7c7\",\"#ffbb78\",\"#aec7e8\",\"#aec7e8\",\"#ffbb78\",\"#ffbb78\",\"#ffbb78\",\"#c7c7c7\",\"#c7c7c7\",\"#aec7e8\",\"#ffbb78\",\"#c7c7c7\",\"#2ca02c\",\"#ffbb78\",\"#aec7e8\",\"#aec7e8\",\"#c7c7c7\",\"#ffbb78\",\"#c7c7c7\",\"#c7c7c7\",\"#ffbb78\",\"#ffbb78\",\"#ffbb78\",\"#ffbb78\",\"#ffbb78\",\"#ffbb78\",\"#ffbb78\",\"#ffbb78\",\"#aec7e8\",\"#c7c7c7\",\"#ffbb78\",\"#ffbb78\",\"#ffbb78\",\"#ffbb78\",\"#ffbb78\",\"#ffbb78\",\"#ffbb78\",\"#ffbb78\",\"#ffbb78\",\"#ffbb78\",\"#ffbb78\",\"#ffbb78\",\"#ffbb78\",\"#ffbb78\",\"#c7c7c7\",\"#c7c7c7\",\"#c7c7c7\",\"#ffbb78\",\"#aec7e8\",\"#c7c7c7\",\"#2ca02c\",\"#aec7e8\",\"#c7c7c7\",\"#aec7e8\",\"#ffbb78\",\"#2ca02c\",\"#ffbb78\",\"#aec7e8\",\"#aec7e8\",\"#2ca02c\",\"#ffbb78\",\"#ffbb78\",\"#ffbb78\",\"#c7c7c7\",\"#2ca02c\",\"#ffbb78\",\"#2ca02c\",\"#ffbb78\",\"#c7c7c7\",\"#2ca02c\",\"#ffbb78\",\"#ffbb78\",\"#ffbb78\",\"#2ca02c\",\"#aec7e8\",\"#ffbb78\",\"#aec7e8\",\"#ffbb78\",\"#c7c7c7\",\"#ffbb78\",\"#c7c7c7\",\"#2ca02c\",\"#aec7e8\",\"#c7c7c7\",\"#aec7e8\",\"#aec7e8\",\"#ffbb78\",\"#aec7e8\",\"#2ca02c\",\"#aec7e8\",\"#ffbb78\",\"#2ca02c\",\"#ffbb78\",\"#c7c7c7\",\"#ffbb78\",\"#aec7e8\",\"#ffbb78\",\"#2ca02c\",\"#2ca02c\",\"#aec7e8\",\"#aec7e8\",\"#2ca02c\",\"#c7c7c7\",\"#ffbb78\",\"#ffbb78\",\"#ffbb78\",\"#aec7e8\",\"#c7c7c7\",\"#2ca02c\",\"#2ca02c\",\"#aec7e8\",\"#2ca02c\",\"#c7c7c7\",\"#2ca02c\",\"#2ca02c\",\"#2ca02c\",\"#ffbb78\",\"#c7c7c7\",\"#c7c7c7\",\"#c7c7c7\",\"#ffbb78\",\"#2ca02c\",\"#c7c7c7\",\"#ffbb78\",\"#ffbb78\",\"#c7c7c7\",\"#ffbb78\",\"#c7c7c7\",\"#2ca02c\",\"#2ca02c\",\"#aec7e8\",\"#2ca02c\",\"#c7c7c7\",\"#aec7e8\",\"#aec7e8\",\"#ffbb78\",\"#ffbb78\",\"#2ca02c\",\"#ffbb78\",\"#c7c7c7\",\"#2ca02c\",\"#2ca02c\",\"#ffbb78\",\"#c7c7c7\",\"#ffbb78\",\"#ffbb78\",\"#2ca02c\",\"#c7c7c7\",\"#aec7e8\",\"#c7c7c7\",\"#ffbb78\",\"#ffbb78\",\"#ffbb78\",\"#2ca02c\",\"#2ca02c\",\"#2ca02c\",\"#aec7e8\",\"#2ca02c\",\"#ffbb78\",\"#ffbb78\",\"#c7c7c7\",\"#ffbb78\",\"#ffbb78\",\"#ffbb78\",\"#c7c7c7\",\"#c7c7c7\",\"#c7c7c7\",\"#ffbb78\",\"#2ca02c\",\"#2ca02c\",\"#aec7e8\",\"#c7c7c7\",\"#ffbb78\",\"#c7c7c7\",\"#c7c7c7\",\"#ffbb78\",\"#ffbb78\",\"#ffbb78\",\"#aec7e8\",\"#2ca02c\",\"#aec7e8\",\"#ffbb78\",\"#aec7e8\",\"#ffbb78\",\"#2ca02c\",\"#aec7e8\",\"#2ca02c\",\"#2ca02c\",\"#c7c7c7\",\"#c7c7c7\",\"#2ca02c\",\"#2ca02c\",\"#ffbb78\",\"#2ca02c\",\"#c7c7c7\",\"#aec7e8\",\"#ffbb78\",\"#2ca02c\",\"#2ca02c\",\"#aec7e8\",\"#c7c7c7\",\"#aec7e8\",\"#ffbb78\",\"#c7c7c7\",\"#2ca02c\",\"#ffbb78\",\"#2ca02c\",\"#c7c7c7\",\"#ffbb78\",\"#ffbb78\",\"#aec7e8\",\"#aec7e8\",\"#aec7e8\",\"#ffbb78\",\"#ffbb78\",\"#c7c7c7\",\"#ffbb78\",\"#2ca02c\",\"#aec7e8\",\"#c7c7c7\",\"#2ca02c\",\"#aec7e8\",\"#c7c7c7\",\"#aec7e8\",\"#2ca02c\",\"#aec7e8\",\"#2ca02c\",\"#2ca02c\",\"#aec7e8\",\"#c7c7c7\",\"#ffbb78\",\"#ffbb78\",\"#2ca02c\",\"#c7c7c7\",\"#2ca02c\",\"#2ca02c\",\"#2ca02c\",\"#c7c7c7\",\"#ffbb78\",\"#aec7e8\",\"#c7c7c7\",\"#c7c7c7\",\"#aec7e8\",\"#2ca02c\",\"#c7c7c7\",\"#aec7e8\",\"#2ca02c\",\"#ffbb78\",\"#aec7e8\",\"#2ca02c\",\"#2ca02c\",\"#2ca02c\",\"#ffbb78\",\"#ffbb78\",\"#aec7e8\",\"#aec7e8\",\"#ffbb78\",\"#2ca02c\",\"#c7c7c7\",\"#ffbb78\",\"#2ca02c\",\"#ffbb78\",\"#2ca02c\",\"#aec7e8\",\"#2ca02c\",\"#aec7e8\",\"#c7c7c7\",\"#2ca02c\",\"#c7c7c7\",\"#c7c7c7\",\"#c7c7c7\",\"#c7c7c7\",\"#ffbb78\",\"#aec7e8\",\"#c7c7c7\",\"#2ca02c\",\"#aec7e8\",\"#aec7e8\",\"#ffbb78\",\"#ffbb78\",\"#2ca02c\",\"#ffbb78\",\"#ffbb78\",\"#ffbb78\",\"#ffbb78\",\"#ffbb78\",\"#2ca02c\",\"#aec7e8\",\"#c7c7c7\",\"#c7c7c7\",\"#ffbb78\",\"#aec7e8\",\"#aec7e8\",\"#ffbb78\",\"#2ca02c\",\"#2ca02c\",\"#2ca02c\",\"#aec7e8\",\"#ffbb78\",\"#ffbb78\",\"#ffbb78\",\"#aec7e8\",\"#2ca02c\",\"#c7c7c7\",\"#ffbb78\",\"#2ca02c\",\"#2ca02c\",\"#ffbb78\",\"#2ca02c\",\"#2ca02c\",\"#c7c7c7\",\"#aec7e8\",\"#aec7e8\",\"#ffbb78\",\"#ffbb78\",\"#aec7e8\",\"#aec7e8\",\"#ffbb78\",\"#2ca02c\",\"#aec7e8\",\"#c7c7c7\",\"#c7c7c7\",\"#2ca02c\",\"#c7c7c7\",\"#ffbb78\",\"#aec7e8\",\"#ffbb78\",\"#ffbb78\",\"#ffbb78\",\"#aec7e8\",\"#2ca02c\",\"#aec7e8\",\"#ffbb78\",\"#2ca02c\",\"#ffbb78\",\"#aec7e8\",\"#ffbb78\",\"#2ca02c\",\"#ffbb78\",\"#c7c7c7\",\"#ffbb78\",\"#2ca02c\",\"#aec7e8\",\"#ffbb78\",\"#ffbb78\",\"#2ca02c\",\"#2ca02c\",\"#ffbb78\",\"#c7c7c7\",\"#ffbb78\",\"#aec7e8\",\"#c7c7c7\",\"#ffbb78\",\"#ffbb78\",\"#2ca02c\",\"#ffbb78\",\"#ffbb78\",\"#c7c7c7\",\"#ffbb78\",\"#ffbb78\",\"#2ca02c\",\"#aec7e8\",\"#2ca02c\",\"#aec7e8\",\"#c7c7c7\",\"#ffbb78\",\"#aec7e8\",\"#aec7e8\",\"#2ca02c\",\"#2ca02c\",\"#ffbb78\",\"#2ca02c\",\"#c7c7c7\",\"#ffbb78\",\"#ffbb78\",\"#ffbb78\",\"#2ca02c\",\"#2ca02c\",\"#2ca02c\",\"#c7c7c7\",\"#2ca02c\",\"#ffbb78\",\"#ffbb78\",\"#aec7e8\",\"#2ca02c\",\"#2ca02c\",\"#2ca02c\",\"#2ca02c\",\"#ffbb78\",\"#2ca02c\",\"#aec7e8\",\"#ffbb78\",\"#c7c7c7\",\"#2ca02c\",\"#ffbb78\",\"#ffbb78\",\"#aec7e8\",\"#aec7e8\",\"#aec7e8\",\"#aec7e8\",\"#c7c7c7\",\"#ffbb78\",\"#2ca02c\",\"#aec7e8\",\"#2ca02c\",\"#aec7e8\",\"#2ca02c\",\"#2ca02c\",\"#2ca02c\",\"#c7c7c7\",\"#c7c7c7\",\"#ffbb78\",\"#ffbb78\",\"#aec7e8\",\"#ffbb78\",\"#2ca02c\",\"#ffbb78\",\"#2ca02c\",\"#ffbb78\",\"#ffbb78\",\"#ffbb78\",\"#ffbb78\",\"#ffbb78\",\"#2ca02c\",\"#2ca02c\",\"#2ca02c\",\"#2ca02c\",\"#2ca02c\",\"#c7c7c7\",\"#2ca02c\",\"#ffbb78\",\"#ffbb78\",\"#aec7e8\",\"#2ca02c\",\"#ffbb78\",\"#aec7e8\",\"#2ca02c\",\"#c7c7c7\",\"#2ca02c\",\"#2ca02c\",\"#2ca02c\",\"#c7c7c7\",\"#ffbb78\",\"#ffbb78\",\"#2ca02c\",\"#ffbb78\",\"#ffbb78\",\"#aec7e8\",\"#2ca02c\",\"#ffbb78\",\"#2ca02c\",\"#ffbb78\",\"#2ca02c\",\"#2ca02c\",\"#2ca02c\",\"#c7c7c7\",\"#2ca02c\",\"#aec7e8\",\"#2ca02c\",\"#2ca02c\",\"#c7c7c7\",\"#ffbb78\",\"#ffbb78\",\"#c7c7c7\",\"#2ca02c\",\"#c7c7c7\",\"#ffbb78\",\"#ffbb78\",\"#ffbb78\",\"#2ca02c\",\"#c7c7c7\",\"#aec7e8\",\"#2ca02c\",\"#2ca02c\",\"#ffbb78\",\"#ffbb78\",\"#2ca02c\",\"#2ca02c\",\"#aec7e8\",\"#c7c7c7\",\"#2ca02c\",\"#aec7e8\",\"#2ca02c\",\"#c7c7c7\",\"#2ca02c\",\"#aec7e8\",\"#ffbb78\",\"#ffbb78\",\"#ffbb78\",\"#2ca02c\",\"#aec7e8\",\"#2ca02c\",\"#2ca02c\",\"#aec7e8\",\"#2ca02c\",\"#2ca02c\",\"#2ca02c\",\"#c7c7c7\",\"#c7c7c7\",\"#c7c7c7\",\"#ffbb78\",\"#ffbb78\",\"#c7c7c7\",\"#aec7e8\",\"#2ca02c\",\"#aec7e8\",\"#2ca02c\",\"#aec7e8\",\"#ffbb78\",\"#ffbb78\",\"#aec7e8\",\"#ffbb78\",\"#2ca02c\",\"#ffbb78\",\"#c7c7c7\",\"#c7c7c7\",\"#ffbb78\",\"#aec7e8\",\"#c7c7c7\",\"#2ca02c\",\"#ffbb78\",\"#2ca02c\",\"#2ca02c\",\"#ffbb78\",\"#aec7e8\",\"#c7c7c7\",\"#ffbb78\",\"#aec7e8\",\"#ffbb78\",\"#ffbb78\",\"#ffbb78\",\"#2ca02c\",\"#2ca02c\",\"#2ca02c\",\"#c7c7c7\",\"#2ca02c\",\"#ffbb78\",\"#aec7e8\",\"#aec7e8\",\"#2ca02c\",\"#ffbb78\",\"#c7c7c7\",\"#c7c7c7\",\"#ffbb78\",\"#ffbb78\",\"#2ca02c\",\"#2ca02c\",\"#c7c7c7\",\"#ffbb78\",\"#2ca02c\",\"#2ca02c\",\"#2ca02c\",\"#2ca02c\",\"#aec7e8\",\"#aec7e8\",\"#c7c7c7\",\"#c7c7c7\",\"#2ca02c\",\"#ffbb78\",\"#ffbb78\",\"#ffbb78\",\"#aec7e8\",\"#ffbb78\",\"#c7c7c7\",\"#ffbb78\",\"#aec7e8\",\"#ffbb78\",\"#c7c7c7\",\"#aec7e8\",\"#c7c7c7\",\"#c7c7c7\",\"#2ca02c\",\"#ffbb78\",\"#c7c7c7\",\"#2ca02c\",\"#2ca02c\",\"#aec7e8\",\"#2ca02c\",\"#2ca02c\",\"#2ca02c\",\"#ffbb78\",\"#ffbb78\",\"#c7c7c7\",\"#c7c7c7\",\"#c7c7c7\",\"#aec7e8\",\"#ffbb78\",\"#ffbb78\",\"#2ca02c\",\"#aec7e8\",\"#2ca02c\",\"#c7c7c7\",\"#ffbb78\",\"#aec7e8\",\"#2ca02c\",\"#aec7e8\",\"#aec7e8\",\"#2ca02c\",\"#ffbb78\",\"#ffbb78\",\"#2ca02c\",\"#c7c7c7\",\"#aec7e8\",\"#2ca02c\",\"#aec7e8\",\"#ffbb78\",\"#ffbb78\",\"#aec7e8\",\"#2ca02c\",\"#2ca02c\",\"#aec7e8\",\"#2ca02c\",\"#ffbb78\",\"#aec7e8\",\"#ffbb78\",\"#aec7e8\",\"#2ca02c\",\"#c7c7c7\",\"#c7c7c7\",\"#2ca02c\",\"#2ca02c\",\"#ffbb78\",\"#aec7e8\",\"#ffbb78\",\"#ffbb78\",\"#2ca02c\",\"#2ca02c\",\"#c7c7c7\",\"#aec7e8\",\"#2ca02c\",\"#2ca02c\",\"#aec7e8\",\"#2ca02c\",\"#2ca02c\",\"#ffbb78\",\"#ffbb78\",\"#aec7e8\",\"#aec7e8\",\"#aec7e8\",\"#2ca02c\",\"#2ca02c\",\"#aec7e8\",\"#c7c7c7\",\"#aec7e8\",\"#c7c7c7\",\"#c7c7c7\",\"#ffbb78\",\"#2ca02c\",\"#c7c7c7\",\"#2ca02c\",\"#ffbb78\",\"#aec7e8\",\"#ffbb78\",\"#2ca02c\",\"#2ca02c\",\"#2ca02c\",\"#2ca02c\",\"#2ca02c\",\"#c7c7c7\",\"#ffbb78\",\"#2ca02c\",\"#ffbb78\",\"#ffbb78\",\"#c7c7c7\",\"#ffbb78\",\"#aec7e8\",\"#2ca02c\",\"#aec7e8\",\"#ffbb78\",\"#c7c7c7\",\"#ffbb78\",\"#aec7e8\",\"#c7c7c7\",\"#ffbb78\",\"#2ca02c\",\"#ffbb78\",\"#ffbb78\",\"#c7c7c7\",\"#2ca02c\",\"#aec7e8\",\"#ffbb78\",\"#2ca02c\",\"#ffbb78\",\"#ffbb78\",\"#ffbb78\",\"#2ca02c\",\"#c7c7c7\",\"#aec7e8\",\"#2ca02c\",\"#2ca02c\",\"#2ca02c\",\"#c7c7c7\",\"#ffbb78\",\"#ffbb78\",\"#c7c7c7\",\"#ffbb78\",\"#aec7e8\",\"#ffbb78\",\"#aec7e8\",\"#ffbb78\",\"#2ca02c\",\"#2ca02c\",\"#ffbb78\",\"#2ca02c\",\"#ffbb78\",\"#ffbb78\",\"#2ca02c\",\"#2ca02c\",\"#c7c7c7\",\"#c7c7c7\",\"#aec7e8\",\"#aec7e8\",\"#c7c7c7\",\"#ffbb78\",\"#aec7e8\",\"#c7c7c7\",\"#aec7e8\",\"#2ca02c\",\"#aec7e8\",\"#2ca02c\",\"#c7c7c7\",\"#ffbb78\",\"#aec7e8\",\"#ffbb78\",\"#c7c7c7\",\"#aec7e8\",\"#2ca02c\",\"#c7c7c7\",\"#aec7e8\",\"#aec7e8\",\"#c7c7c7\",\"#ffbb78\",\"#aec7e8\",\"#ffbb78\",\"#c7c7c7\",\"#aec7e8\",\"#2ca02c\",\"#2ca02c\",\"#ffbb78\",\"#c7c7c7\",\"#ffbb78\",\"#aec7e8\",\"#2ca02c\",\"#ffbb78\",\"#2ca02c\",\"#2ca02c\",\"#2ca02c\",\"#ffbb78\",\"#ffbb78\",\"#2ca02c\",\"#aec7e8\",\"#2ca02c\",\"#aec7e8\",\"#aec7e8\",\"#aec7e8\",\"#2ca02c\",\"#aec7e8\",\"#c7c7c7\",\"#2ca02c\",\"#2ca02c\",\"#2ca02c\",\"#2ca02c\",\"#2ca02c\",\"#2ca02c\",\"#ffbb78\",\"#aec7e8\",\"#ffbb78\",\"#aec7e8\",\"#aec7e8\",\"#ffbb78\",\"#c7c7c7\",\"#aec7e8\",\"#ffbb78\",\"#c7c7c7\",\"#2ca02c\",\"#aec7e8\",\"#2ca02c\",\"#2ca02c\",\"#ffbb78\",\"#2ca02c\",\"#ffbb78\",\"#2ca02c\",\"#ffbb78\",\"#aec7e8\",\"#2ca02c\",\"#aec7e8\",\"#c7c7c7\",\"#ffbb78\",\"#ffbb78\",\"#aec7e8\",\"#2ca02c\",\"#ffbb78\",\"#2ca02c\",\"#aec7e8\",\"#ffbb78\",\"#ffbb78\",\"#2ca02c\",\"#ffbb78\",\"#ffbb78\",\"#2ca02c\",\"#aec7e8\",\"#2ca02c\",\"#ffbb78\",\"#2ca02c\",\"#2ca02c\",\"#c7c7c7\",\"#2ca02c\",\"#2ca02c\",\"#c7c7c7\",\"#ffbb78\",\"#aec7e8\",\"#2ca02c\",\"#2ca02c\",\"#aec7e8\",\"#ffbb78\",\"#2ca02c\",\"#c7c7c7\",\"#ffbb78\",\"#c7c7c7\",\"#ffbb78\",\"#ffbb78\",\"#2ca02c\",\"#ffbb78\",\"#aec7e8\",\"#ffbb78\",\"#2ca02c\",\"#ffbb78\",\"#2ca02c\",\"#ffbb78\",\"#ffbb78\",\"#2ca02c\",\"#2ca02c\",\"#c7c7c7\",\"#2ca02c\",\"#aec7e8\",\"#2ca02c\",\"#ffbb78\",\"#c7c7c7\",\"#2ca02c\",\"#aec7e8\",\"#2ca02c\",\"#2ca02c\",\"#aec7e8\",\"#2ca02c\",\"#c7c7c7\",\"#2ca02c\",\"#ffbb78\",\"#ffbb78\",\"#aec7e8\",\"#ffbb78\",\"#ffbb78\",\"#2ca02c\",\"#ffbb78\",\"#ffbb78\",\"#c7c7c7\",\"#aec7e8\",\"#aec7e8\",\"#c7c7c7\",\"#2ca02c\",\"#2ca02c\",\"#ffbb78\",\"#c7c7c7\",\"#2ca02c\",\"#ffbb78\",\"#ffbb78\",\"#c7c7c7\",\"#c7c7c7\",\"#ffbb78\",\"#ffbb78\",\"#c7c7c7\",\"#ffbb78\",\"#2ca02c\",\"#aec7e8\",\"#aec7e8\",\"#aec7e8\",\"#2ca02c\",\"#ffbb78\",\"#2ca02c\",\"#ffbb78\",\"#2ca02c\",\"#ffbb78\",\"#ffbb78\",\"#c7c7c7\",\"#ffbb78\",\"#ffbb78\",\"#aec7e8\",\"#ffbb78\",\"#ffbb78\",\"#c7c7c7\",\"#aec7e8\",\"#2ca02c\",\"#aec7e8\",\"#2ca02c\",\"#aec7e8\",\"#2ca02c\",\"#aec7e8\",\"#c7c7c7\",\"#ffbb78\",\"#c7c7c7\",\"#2ca02c\",\"#ffbb78\",\"#2ca02c\",\"#ffbb78\",\"#ffbb78\",\"#ffbb78\",\"#2ca02c\",\"#2ca02c\",\"#ffbb78\",\"#2ca02c\",\"#aec7e8\",\"#2ca02c\",\"#aec7e8\",\"#2ca02c\",\"#aec7e8\",\"#2ca02c\",\"#2ca02c\",\"#ffbb78\",\"#ffbb78\",\"#c7c7c7\",\"#ffbb78\",\"#aec7e8\",\"#aec7e8\",\"#ffbb78\",\"#aec7e8\",\"#2ca02c\",\"#aec7e8\",\"#2ca02c\",\"#ffbb78\",\"#2ca02c\",\"#2ca02c\",\"#c7c7c7\",\"#ffbb78\",\"#ffbb78\",\"#ffbb78\",\"#c7c7c7\",\"#ffbb78\",\"#2ca02c\",\"#ffbb78\",\"#ffbb78\",\"#ffbb78\",\"#ffbb78\",\"#2ca02c\",\"#2ca02c\",\"#aec7e8\",\"#2ca02c\",\"#c7c7c7\",\"#aec7e8\",\"#ffbb78\",\"#aec7e8\",\"#2ca02c\",\"#2ca02c\",\"#aec7e8\",\"#aec7e8\",\"#ffbb78\",\"#c7c7c7\",\"#ffbb78\",\"#ffbb78\",\"#ffbb78\",\"#aec7e8\",\"#ffbb78\",\"#2ca02c\",\"#2ca02c\",\"#ffbb78\",\"#ffbb78\",\"#2ca02c\",\"#ffbb78\",\"#c7c7c7\",\"#ffbb78\",\"#ffbb78\",\"#ffbb78\",\"#aec7e8\",\"#ffbb78\",\"#ffbb78\",\"#ffbb78\",\"#aec7e8\",\"#ffbb78\",\"#ffbb78\",\"#2ca02c\",\"#aec7e8\",\"#c7c7c7\",\"#ffbb78\",\"#aec7e8\",\"#c7c7c7\",\"#ffbb78\",\"#ffbb78\",\"#2ca02c\",\"#2ca02c\",\"#aec7e8\",\"#ffbb78\",\"#c7c7c7\",\"#c7c7c7\",\"#c7c7c7\",\"#ffbb78\",\"#aec7e8\",\"#c7c7c7\",\"#2ca02c\",\"#2ca02c\",\"#2ca02c\",\"#ffbb78\",\"#aec7e8\",\"#ffbb78\",\"#ffbb78\",\"#ffbb78\",\"#2ca02c\",\"#2ca02c\",\"#2ca02c\",\"#aec7e8\",\"#ffbb78\",\"#c7c7c7\",\"#ffbb78\",\"#2ca02c\",\"#c7c7c7\",\"#2ca02c\",\"#2ca02c\",\"#aec7e8\",\"#c7c7c7\",\"#ffbb78\",\"#aec7e8\",\"#c7c7c7\",\"#c7c7c7\",\"#2ca02c\",\"#c7c7c7\",\"#ffbb78\",\"#c7c7c7\",\"#aec7e8\",\"#2ca02c\",\"#ffbb78\",\"#ffbb78\",\"#ffbb78\",\"#aec7e8\",\"#aec7e8\",\"#c7c7c7\",\"#2ca02c\",\"#ffbb78\",\"#c7c7c7\",\"#c7c7c7\",\"#aec7e8\",\"#2ca02c\",\"#aec7e8\",\"#ffbb78\",\"#ffbb78\",\"#ffbb78\",\"#ffbb78\",\"#ffbb78\",\"#c7c7c7\",\"#ffbb78\",\"#ffbb78\",\"#aec7e8\",\"#ffbb78\",\"#ffbb78\",\"#2ca02c\",\"#c7c7c7\",\"#ffbb78\",\"#ffbb78\",\"#ffbb78\",\"#ffbb78\",\"#aec7e8\",\"#aec7e8\",\"#ffbb78\",\"#ffbb78\",\"#ffbb78\",\"#ffbb78\",\"#c7c7c7\",\"#ffbb78\",\"#ffbb78\",\"#ffbb78\",\"#2ca02c\",\"#ffbb78\",\"#2ca02c\",\"#c7c7c7\",\"#c7c7c7\",\"#ffbb78\",\"#ffbb78\",\"#ffbb78\",\"#2ca02c\",\"#ffbb78\",\"#c7c7c7\",\"#ffbb78\",\"#ffbb78\",\"#ffbb78\",\"#2ca02c\",\"#ffbb78\",\"#ffbb78\",\"#2ca02c\",\"#c7c7c7\",\"#ffbb78\",\"#2ca02c\",\"#2ca02c\",\"#2ca02c\",\"#ffbb78\",\"#ffbb78\",\"#2ca02c\",\"#2ca02c\",\"#2ca02c\",\"#2ca02c\",\"#2ca02c\",\"#2ca02c\",\"#2ca02c\",\"#2ca02c\",\"#ffbb78\",\"#2ca02c\",\"#aec7e8\",\"#ffbb78\",\"#c7c7c7\",\"#c7c7c7\",\"#c7c7c7\",\"#c7c7c7\",\"#ffbb78\",\"#c7c7c7\",\"#2ca02c\",\"#ffbb78\",\"#ffbb78\",\"#2ca02c\",\"#2ca02c\",\"#ffbb78\",\"#2ca02c\",\"#2ca02c\",\"#ffbb78\",\"#c7c7c7\",\"#aec7e8\",\"#ffbb78\",\"#c7c7c7\",\"#2ca02c\",\"#c7c7c7\",\"#c7c7c7\",\"#2ca02c\",\"#c7c7c7\",\"#aec7e8\",\"#ffbb78\",\"#2ca02c\",\"#ffbb78\",\"#ffbb78\",\"#c7c7c7\",\"#ffbb78\",\"#ffbb78\",\"#ffbb78\",\"#ffbb78\",\"#ffbb78\",\"#c7c7c7\",\"#ffbb78\",\"#c7c7c7\",\"#2ca02c\",\"#ffbb78\",\"#ffbb78\",\"#ffbb78\",\"#2ca02c\",\"#ffbb78\",\"#aec7e8\",\"#c7c7c7\",\"#ffbb78\",\"#2ca02c\",\"#ffbb78\",\"#ffbb78\",\"#aec7e8\",\"#ffbb78\",\"#ffbb78\",\"#ffbb78\",\"#ffbb78\",\"#ffbb78\",\"#ffbb78\",\"#2ca02c\",\"#ffbb78\",\"#ffbb78\",\"#aec7e8\",\"#2ca02c\",\"#ffbb78\",\"#2ca02c\",\"#2ca02c\",\"#c7c7c7\",\"#ffbb78\",\"#ffbb78\",\"#2ca02c\",\"#c7c7c7\",\"#ffbb78\",\"#ffbb78\",\"#2ca02c\",\"#ffbb78\",\"#c7c7c7\",\"#ffbb78\",\"#2ca02c\",\"#ffbb78\",\"#ffbb78\",\"#2ca02c\",\"#ffbb78\",\"#2ca02c\",\"#aec7e8\",\"#aec7e8\",\"#aec7e8\",\"#c7c7c7\",\"#ffbb78\",\"#2ca02c\",\"#2ca02c\",\"#ffbb78\",\"#2ca02c\",\"#c7c7c7\",\"#2ca02c\",\"#aec7e8\",\"#2ca02c\",\"#ffbb78\",\"#aec7e8\",\"#2ca02c\",\"#2ca02c\",\"#2ca02c\",\"#2ca02c\",\"#aec7e8\",\"#ffbb78\",\"#ffbb78\",\"#aec7e8\",\"#2ca02c\",\"#aec7e8\",\"#ffbb78\",\"#c7c7c7\",\"#ffbb78\",\"#2ca02c\",\"#aec7e8\",\"#aec7e8\",\"#ffbb78\",\"#ffbb78\",\"#2ca02c\",\"#ffbb78\",\"#ffbb78\",\"#2ca02c\",\"#c7c7c7\",\"#ffbb78\",\"#ffbb78\",\"#ffbb78\",\"#ffbb78\",\"#aec7e8\",\"#aec7e8\",\"#c7c7c7\",\"#ffbb78\",\"#2ca02c\",\"#2ca02c\",\"#c7c7c7\",\"#2ca02c\",\"#ffbb78\",\"#ffbb78\",\"#aec7e8\",\"#2ca02c\",\"#c7c7c7\",\"#ffbb78\",\"#ffbb78\",\"#2ca02c\",\"#c7c7c7\",\"#aec7e8\",\"#ffbb78\",\"#2ca02c\",\"#ffbb78\",\"#ffbb78\",\"#2ca02c\",\"#ffbb78\",\"#ffbb78\",\"#ffbb78\",\"#ffbb78\",\"#ffbb78\",\"#aec7e8\",\"#2ca02c\",\"#2ca02c\",\"#2ca02c\",\"#aec7e8\",\"#2ca02c\",\"#2ca02c\",\"#ffbb78\",\"#ffbb78\",\"#2ca02c\",\"#ffbb78\",\"#2ca02c\",\"#2ca02c\",\"#2ca02c\",\"#2ca02c\",\"#ffbb78\",\"#aec7e8\",\"#aec7e8\",\"#aec7e8\",\"#c7c7c7\",\"#aec7e8\",\"#ffbb78\",\"#c7c7c7\",\"#ffbb78\",\"#ffbb78\",\"#2ca02c\",\"#2ca02c\",\"#aec7e8\",\"#ffbb78\",\"#aec7e8\",\"#2ca02c\",\"#aec7e8\",\"#ffbb78\",\"#ffbb78\",\"#2ca02c\",\"#ffbb78\",\"#ffbb78\",\"#ffbb78\",\"#2ca02c\",\"#ffbb78\",\"#2ca02c\",\"#2ca02c\",\"#c7c7c7\",\"#ffbb78\",\"#aec7e8\",\"#c7c7c7\",\"#aec7e8\",\"#aec7e8\",\"#c7c7c7\",\"#c7c7c7\",\"#aec7e8\",\"#2ca02c\",\"#2ca02c\",\"#2ca02c\",\"#2ca02c\",\"#ffbb78\",\"#2ca02c\",\"#2ca02c\",\"#ffbb78\",\"#ffbb78\",\"#2ca02c\",\"#aec7e8\",\"#ffbb78\",\"#2ca02c\",\"#c7c7c7\",\"#c7c7c7\",\"#ffbb78\",\"#2ca02c\",\"#ffbb78\",\"#ffbb78\",\"#ffbb78\",\"#ffbb78\",\"#ffbb78\",\"#aec7e8\",\"#2ca02c\",\"#c7c7c7\",\"#ffbb78\",\"#ffbb78\",\"#ffbb78\",\"#aec7e8\",\"#2ca02c\",\"#ffbb78\",\"#aec7e8\",\"#c7c7c7\",\"#2ca02c\",\"#ffbb78\",\"#c7c7c7\",\"#2ca02c\",\"#ffbb78\",\"#ffbb78\",\"#ffbb78\",\"#ffbb78\",\"#ffbb78\",\"#ffbb78\",\"#ffbb78\",\"#ffbb78\",\"#c7c7c7\",\"#2ca02c\",\"#c7c7c7\",\"#c7c7c7\",\"#2ca02c\",\"#c7c7c7\",\"#ffbb78\",\"#c7c7c7\",\"#2ca02c\",\"#2ca02c\",\"#ffbb78\",\"#ffbb78\",\"#ffbb78\",\"#c7c7c7\",\"#2ca02c\",\"#ffbb78\",\"#ffbb78\",\"#aec7e8\",\"#aec7e8\",\"#ffbb78\",\"#ffbb78\",\"#2ca02c\",\"#aec7e8\",\"#2ca02c\",\"#c7c7c7\",\"#ffbb78\",\"#2ca02c\",\"#aec7e8\",\"#2ca02c\",\"#2ca02c\",\"#aec7e8\",\"#ffbb78\",\"#aec7e8\",\"#ffbb78\",\"#aec7e8\",\"#ffbb78\",\"#c7c7c7\",\"#aec7e8\",\"#ffbb78\",\"#ffbb78\",\"#ffbb78\",\"#aec7e8\",\"#c7c7c7\",\"#ffbb78\",\"#2ca02c\",\"#2ca02c\",\"#2ca02c\",\"#2ca02c\",\"#aec7e8\",\"#2ca02c\",\"#ffbb78\",\"#2ca02c\",\"#2ca02c\",\"#2ca02c\",\"#aec7e8\",\"#ffbb78\",\"#ffbb78\",\"#ffbb78\",\"#ffbb78\",\"#ffbb78\",\"#c7c7c7\",\"#2ca02c\",\"#2ca02c\",\"#ffbb78\",\"#aec7e8\",\"#c7c7c7\",\"#2ca02c\",\"#2ca02c\",\"#ffbb78\",\"#ffbb78\",\"#aec7e8\",\"#ffbb78\",\"#ffbb78\",\"#ffbb78\",\"#ffbb78\",\"#aec7e8\",\"#2ca02c\",\"#aec7e8\",\"#aec7e8\",\"#c7c7c7\",\"#ffbb78\",\"#ffbb78\",\"#ffbb78\",\"#ffbb78\",\"#c7c7c7\",\"#aec7e8\",\"#aec7e8\",\"#ffbb78\",\"#c7c7c7\",\"#2ca02c\",\"#c7c7c7\",\"#c7c7c7\",\"#ffbb78\",\"#ffbb78\",\"#c7c7c7\",\"#aec7e8\",\"#c7c7c7\",\"#aec7e8\",\"#ffbb78\",\"#ffbb78\",\"#2ca02c\",\"#aec7e8\",\"#aec7e8\",\"#2ca02c\",\"#c7c7c7\",\"#2ca02c\",\"#aec7e8\",\"#c7c7c7\",\"#c7c7c7\",\"#ffbb78\",\"#2ca02c\",\"#c7c7c7\",\"#2ca02c\",\"#ffbb78\",\"#aec7e8\",\"#c7c7c7\",\"#c7c7c7\",\"#2ca02c\",\"#2ca02c\",\"#c7c7c7\",\"#ffbb78\",\"#ffbb78\",\"#c7c7c7\",\"#c7c7c7\",\"#ffbb78\",\"#aec7e8\",\"#ffbb78\",\"#aec7e8\",\"#aec7e8\",\"#ffbb78\",\"#2ca02c\",\"#aec7e8\",\"#2ca02c\",\"#ffbb78\",\"#2ca02c\",\"#ffbb78\",\"#2ca02c\",\"#2ca02c\",\"#ffbb78\",\"#aec7e8\",\"#aec7e8\",\"#aec7e8\",\"#aec7e8\",\"#2ca02c\",\"#ffbb78\",\"#ffbb78\",\"#2ca02c\",\"#ffbb78\",\"#ffbb78\",\"#aec7e8\",\"#ffbb78\",\"#2ca02c\",\"#2ca02c\",\"#ffbb78\",\"#ffbb78\",\"#2ca02c\",\"#c7c7c7\",\"#2ca02c\",\"#2ca02c\",\"#2ca02c\",\"#ffbb78\",\"#2ca02c\",\"#aec7e8\",\"#c7c7c7\",\"#ffbb78\",\"#aec7e8\",\"#2ca02c\",\"#c7c7c7\",\"#c7c7c7\",\"#ffbb78\",\"#aec7e8\",\"#c7c7c7\",\"#2ca02c\",\"#c7c7c7\",\"#2ca02c\",\"#c7c7c7\",\"#ffbb78\",\"#2ca02c\",\"#2ca02c\",\"#2ca02c\",\"#ffbb78\",\"#2ca02c\",\"#ffbb78\",\"#2ca02c\",\"#ffbb78\",\"#2ca02c\",\"#ffbb78\",\"#c7c7c7\",\"#2ca02c\",\"#aec7e8\",\"#ffbb78\",\"#aec7e8\",\"#ffbb78\",\"#ffbb78\",\"#2ca02c\",\"#ffbb78\",\"#ffbb78\",\"#aec7e8\",\"#2ca02c\",\"#2ca02c\",\"#ffbb78\",\"#2ca02c\",\"#ffbb78\",\"#aec7e8\",\"#2ca02c\",\"#c7c7c7\",\"#aec7e8\",\"#ffbb78\",\"#ffbb78\",\"#c7c7c7\",\"#ffbb78\",\"#2ca02c\",\"#c7c7c7\",\"#aec7e8\",\"#2ca02c\",\"#ffbb78\",\"#2ca02c\",\"#2ca02c\",\"#ffbb78\",\"#aec7e8\",\"#2ca02c\",\"#aec7e8\",\"#ffbb78\",\"#2ca02c\",\"#aec7e8\",\"#aec7e8\",\"#c7c7c7\",\"#2ca02c\",\"#2ca02c\",\"#c7c7c7\",\"#ffbb78\",\"#aec7e8\",\"#aec7e8\",\"#ffbb78\",\"#ffbb78\",\"#aec7e8\",\"#2ca02c\",\"#ffbb78\",\"#c7c7c7\",\"#2ca02c\",\"#ffbb78\",\"#2ca02c\",\"#aec7e8\",\"#aec7e8\",\"#c7c7c7\",\"#c7c7c7\",\"#2ca02c\",\"#ffbb78\",\"#ffbb78\",\"#c7c7c7\",\"#aec7e8\",\"#2ca02c\",\"#aec7e8\",\"#ffbb78\",\"#2ca02c\",\"#aec7e8\",\"#2ca02c\",\"#ffbb78\",\"#ffbb78\",\"#ffbb78\",\"#aec7e8\",\"#ffbb78\",\"#ffbb78\",\"#2ca02c\",\"#2ca02c\",\"#aec7e8\",\"#c7c7c7\",\"#ffbb78\",\"#2ca02c\",\"#ffbb78\",\"#2ca02c\",\"#c7c7c7\",\"#2ca02c\",\"#aec7e8\",\"#c7c7c7\",\"#aec7e8\",\"#aec7e8\",\"#ffbb78\",\"#aec7e8\",\"#c7c7c7\",\"#aec7e8\",\"#ffbb78\",\"#ffbb78\",\"#2ca02c\",\"#ffbb78\",\"#ffbb78\",\"#2ca02c\",\"#2ca02c\",\"#ffbb78\",\"#aec7e8\",\"#aec7e8\",\"#2ca02c\",\"#2ca02c\",\"#aec7e8\",\"#c7c7c7\",\"#2ca02c\",\"#2ca02c\",\"#ffbb78\",\"#aec7e8\",\"#c7c7c7\",\"#c7c7c7\",\"#aec7e8\",\"#c7c7c7\",\"#aec7e8\",\"#aec7e8\",\"#ffbb78\",\"#aec7e8\",\"#ffbb78\",\"#ffbb78\",\"#aec7e8\",\"#c7c7c7\",\"#aec7e8\",\"#2ca02c\",\"#c7c7c7\",\"#aec7e8\",\"#ffbb78\",\"#ffbb78\",\"#2ca02c\",\"#ffbb78\",\"#2ca02c\",\"#ffbb78\",\"#aec7e8\",\"#c7c7c7\",\"#ffbb78\",\"#aec7e8\",\"#2ca02c\",\"#2ca02c\",\"#ffbb78\",\"#2ca02c\",\"#2ca02c\",\"#2ca02c\",\"#2ca02c\",\"#2ca02c\",\"#ffbb78\",\"#ffbb78\",\"#aec7e8\",\"#ffbb78\",\"#c7c7c7\",\"#c7c7c7\",\"#c7c7c7\",\"#2ca02c\",\"#2ca02c\",\"#aec7e8\",\"#2ca02c\",\"#ffbb78\",\"#aec7e8\",\"#ffbb78\",\"#ffbb78\",\"#ffbb78\",\"#2ca02c\",\"#2ca02c\",\"#ffbb78\",\"#ffbb78\",\"#aec7e8\",\"#ffbb78\",\"#ffbb78\",\"#ffbb78\",\"#ffbb78\",\"#2ca02c\",\"#ffbb78\",\"#2ca02c\",\"#aec7e8\",\"#2ca02c\",\"#2ca02c\",\"#ffbb78\",\"#2ca02c\",\"#2ca02c\",\"#2ca02c\",\"#2ca02c\",\"#2ca02c\",\"#2ca02c\",\"#2ca02c\",\"#ffbb78\",\"#ffbb78\",\"#aec7e8\",\"#2ca02c\",\"#ffbb78\",\"#ffbb78\",\"#c7c7c7\",\"#ffbb78\",\"#c7c7c7\",\"#ffbb78\",\"#ffbb78\",\"#c7c7c7\",\"#ffbb78\",\"#aec7e8\",\"#c7c7c7\",\"#ffbb78\",\"#aec7e8\",\"#c7c7c7\",\"#2ca02c\",\"#2ca02c\",\"#aec7e8\",\"#2ca02c\",\"#2ca02c\",\"#c7c7c7\",\"#ffbb78\",\"#2ca02c\",\"#aec7e8\",\"#c7c7c7\",\"#ffbb78\",\"#2ca02c\",\"#2ca02c\",\"#2ca02c\",\"#2ca02c\",\"#2ca02c\",\"#2ca02c\",\"#ffbb78\",\"#c7c7c7\",\"#aec7e8\",\"#2ca02c\",\"#2ca02c\",\"#c7c7c7\",\"#ffbb78\",\"#c7c7c7\",\"#2ca02c\",\"#aec7e8\",\"#2ca02c\",\"#2ca02c\",\"#ffbb78\",\"#2ca02c\",\"#2ca02c\",\"#ffbb78\",\"#ffbb78\",\"#aec7e8\",\"#ffbb78\",\"#2ca02c\",\"#2ca02c\",\"#2ca02c\",\"#2ca02c\",\"#ffbb78\",\"#2ca02c\",\"#ffbb78\",\"#2ca02c\",\"#aec7e8\",\"#aec7e8\",\"#2ca02c\",\"#aec7e8\",\"#ffbb78\",\"#c7c7c7\",\"#2ca02c\",\"#aec7e8\",\"#2ca02c\",\"#ffbb78\",\"#ffbb78\",\"#2ca02c\",\"#2ca02c\",\"#aec7e8\",\"#aec7e8\",\"#c7c7c7\",\"#c7c7c7\",\"#ffbb78\",\"#ffbb78\",\"#c7c7c7\",\"#2ca02c\",\"#2ca02c\",\"#ffbb78\",\"#c7c7c7\",\"#ffbb78\",\"#ffbb78\",\"#aec7e8\",\"#2ca02c\",\"#aec7e8\",\"#ffbb78\",\"#ffbb78\",\"#2ca02c\",\"#c7c7c7\",\"#ffbb78\",\"#c7c7c7\",\"#aec7e8\",\"#c7c7c7\",\"#ffbb78\",\"#ffbb78\",\"#ffbb78\",\"#2ca02c\",\"#c7c7c7\",\"#aec7e8\",\"#ffbb78\",\"#2ca02c\",\"#aec7e8\",\"#aec7e8\",\"#ffbb78\",\"#ffbb78\",\"#c7c7c7\",\"#2ca02c\",\"#2ca02c\",\"#2ca02c\",\"#ffbb78\",\"#aec7e8\",\"#ffbb78\",\"#ffbb78\",\"#2ca02c\",\"#aec7e8\",\"#c7c7c7\",\"#ffbb78\",\"#ffbb78\",\"#ffbb78\",\"#ffbb78\",\"#2ca02c\",\"#ffbb78\",\"#ffbb78\",\"#ffbb78\",\"#2ca02c\",\"#c7c7c7\",\"#aec7e8\",\"#aec7e8\",\"#2ca02c\",\"#aec7e8\",\"#ffbb78\",\"#2ca02c\",\"#2ca02c\",\"#2ca02c\",\"#2ca02c\",\"#aec7e8\",\"#2ca02c\",\"#ffbb78\",\"#ffbb78\",\"#2ca02c\",\"#2ca02c\",\"#c7c7c7\",\"#c7c7c7\",\"#aec7e8\",\"#aec7e8\",\"#2ca02c\",\"#c7c7c7\",\"#2ca02c\",\"#2ca02c\",\"#ffbb78\",\"#c7c7c7\",\"#2ca02c\",\"#2ca02c\",\"#2ca02c\",\"#2ca02c\",\"#2ca02c\",\"#aec7e8\",\"#aec7e8\",\"#2ca02c\",\"#c7c7c7\",\"#2ca02c\",\"#ffbb78\",\"#ffbb78\",\"#aec7e8\",\"#2ca02c\",\"#2ca02c\",\"#ffbb78\",\"#c7c7c7\",\"#ffbb78\",\"#aec7e8\",\"#c7c7c7\",\"#ffbb78\",\"#c7c7c7\",\"#2ca02c\",\"#ffbb78\",\"#2ca02c\",\"#ffbb78\",\"#2ca02c\",\"#2ca02c\",\"#c7c7c7\",\"#ffbb78\",\"#aec7e8\",\"#c7c7c7\",\"#ffbb78\",\"#ffbb78\",\"#ffbb78\",\"#2ca02c\",\"#2ca02c\",\"#2ca02c\",\"#ffbb78\",\"#ffbb78\",\"#ffbb78\",\"#aec7e8\",\"#ffbb78\",\"#2ca02c\",\"#aec7e8\",\"#ffbb78\",\"#ffbb78\",\"#aec7e8\",\"#2ca02c\",\"#c7c7c7\",\"#aec7e8\",\"#ffbb78\",\"#ffbb78\",\"#ffbb78\",\"#2ca02c\",\"#2ca02c\",\"#ffbb78\",\"#ffbb78\",\"#aec7e8\",\"#c7c7c7\",\"#ffbb78\",\"#2ca02c\",\"#ffbb78\",\"#ffbb78\",\"#c7c7c7\",\"#c7c7c7\",\"#2ca02c\",\"#aec7e8\",\"#ffbb78\",\"#ffbb78\",\"#ffbb78\",\"#ffbb78\",\"#ffbb78\",\"#c7c7c7\",\"#2ca02c\",\"#ffbb78\",\"#ffbb78\",\"#ffbb78\",\"#aec7e8\",\"#c7c7c7\",\"#c7c7c7\",\"#ffbb78\",\"#ffbb78\",\"#c7c7c7\",\"#ffbb78\",\"#ffbb78\",\"#2ca02c\",\"#c7c7c7\",\"#ffbb78\",\"#2ca02c\",\"#ffbb78\",\"#c7c7c7\",\"#aec7e8\",\"#2ca02c\",\"#aec7e8\",\"#ffbb78\",\"#ffbb78\",\"#ffbb78\",\"#ffbb78\",\"#ffbb78\",\"#ffbb78\",\"#2ca02c\",\"#ffbb78\",\"#ffbb78\",\"#ffbb78\",\"#c7c7c7\",\"#c7c7c7\",\"#ffbb78\",\"#aec7e8\",\"#aec7e8\",\"#c7c7c7\",\"#2ca02c\",\"#c7c7c7\",\"#c7c7c7\",\"#2ca02c\",\"#c7c7c7\",\"#2ca02c\",\"#2ca02c\",\"#ffbb78\",\"#2ca02c\",\"#c7c7c7\",\"#c7c7c7\",\"#2ca02c\",\"#2ca02c\",\"#aec7e8\",\"#ffbb78\",\"#ffbb78\",\"#aec7e8\",\"#2ca02c\",\"#c7c7c7\",\"#2ca02c\",\"#2ca02c\",\"#ffbb78\",\"#2ca02c\",\"#2ca02c\",\"#2ca02c\",\"#aec7e8\",\"#2ca02c\",\"#2ca02c\",\"#c7c7c7\",\"#2ca02c\",\"#2ca02c\",\"#c7c7c7\",\"#2ca02c\",\"#2ca02c\",\"#c7c7c7\",\"#2ca02c\",\"#2ca02c\",\"#ffbb78\",\"#2ca02c\",\"#2ca02c\",\"#2ca02c\",\"#ffbb78\",\"#aec7e8\",\"#2ca02c\",\"#ffbb78\",\"#ffbb78\",\"#c7c7c7\",\"#2ca02c\",\"#c7c7c7\",\"#ffbb78\",\"#aec7e8\",\"#c7c7c7\",\"#ffbb78\",\"#2ca02c\",\"#aec7e8\",\"#2ca02c\",\"#ffbb78\",\"#ffbb78\",\"#ffbb78\",\"#aec7e8\",\"#ffbb78\",\"#c7c7c7\",\"#c7c7c7\",\"#ffbb78\",\"#2ca02c\",\"#c7c7c7\",\"#2ca02c\",\"#ffbb78\",\"#aec7e8\",\"#ffbb78\",\"#aec7e8\",\"#c7c7c7\",\"#ffbb78\",\"#aec7e8\",\"#ffbb78\",\"#ffbb78\",\"#c7c7c7\",\"#ffbb78\",\"#2ca02c\",\"#aec7e8\",\"#aec7e8\",\"#2ca02c\",\"#c7c7c7\",\"#aec7e8\",\"#2ca02c\",\"#ffbb78\",\"#aec7e8\",\"#ffbb78\",\"#ffbb78\",\"#2ca02c\",\"#2ca02c\",\"#ffbb78\",\"#2ca02c\",\"#2ca02c\",\"#2ca02c\",\"#c7c7c7\",\"#ffbb78\",\"#ffbb78\",\"#2ca02c\",\"#2ca02c\",\"#aec7e8\",\"#2ca02c\",\"#2ca02c\",\"#2ca02c\",\"#aec7e8\",\"#ffbb78\",\"#aec7e8\",\"#aec7e8\",\"#ffbb78\",\"#ffbb78\",\"#ffbb78\",\"#ffbb78\",\"#ffbb78\",\"#ffbb78\",\"#aec7e8\",\"#c7c7c7\",\"#2ca02c\",\"#aec7e8\",\"#2ca02c\",\"#aec7e8\",\"#2ca02c\",\"#ffbb78\",\"#ffbb78\",\"#2ca02c\",\"#ffbb78\",\"#aec7e8\",\"#aec7e8\",\"#ffbb78\",\"#ffbb78\",\"#c7c7c7\",\"#ffbb78\",\"#c7c7c7\",\"#aec7e8\",\"#ffbb78\",\"#aec7e8\",\"#c7c7c7\",\"#2ca02c\",\"#ffbb78\",\"#aec7e8\",\"#aec7e8\",\"#2ca02c\",\"#aec7e8\",\"#2ca02c\",\"#aec7e8\",\"#aec7e8\",\"#ffbb78\",\"#ffbb78\",\"#aec7e8\",\"#aec7e8\",\"#2ca02c\",\"#ffbb78\",\"#c7c7c7\",\"#2ca02c\",\"#ffbb78\",\"#aec7e8\",\"#2ca02c\",\"#2ca02c\",\"#c7c7c7\",\"#ffbb78\",\"#2ca02c\",\"#2ca02c\",\"#aec7e8\",\"#c7c7c7\",\"#c7c7c7\",\"#ffbb78\",\"#ffbb78\",\"#ffbb78\",\"#aec7e8\",\"#ffbb78\",\"#ffbb78\",\"#aec7e8\",\"#2ca02c\",\"#2ca02c\",\"#c7c7c7\",\"#aec7e8\",\"#c7c7c7\",\"#aec7e8\",\"#2ca02c\",\"#2ca02c\",\"#2ca02c\",\"#2ca02c\",\"#c7c7c7\",\"#ffbb78\",\"#ffbb78\",\"#2ca02c\",\"#ffbb78\",\"#aec7e8\",\"#2ca02c\",\"#c7c7c7\",\"#aec7e8\",\"#ffbb78\",\"#2ca02c\",\"#2ca02c\",\"#2ca02c\",\"#ffbb78\",\"#c7c7c7\",\"#2ca02c\",\"#aec7e8\",\"#ffbb78\",\"#ffbb78\",\"#aec7e8\",\"#2ca02c\",\"#ffbb78\",\"#aec7e8\",\"#2ca02c\",\"#2ca02c\",\"#ffbb78\",\"#ffbb78\",\"#2ca02c\",\"#ffbb78\",\"#ffbb78\",\"#aec7e8\",\"#2ca02c\",\"#ffbb78\",\"#2ca02c\",\"#ffbb78\",\"#2ca02c\",\"#ffbb78\",\"#ffbb78\",\"#2ca02c\",\"#c7c7c7\",\"#2ca02c\",\"#ffbb78\",\"#2ca02c\",\"#ffbb78\",\"#ffbb78\",\"#aec7e8\",\"#c7c7c7\",\"#c7c7c7\",\"#c7c7c7\",\"#2ca02c\",\"#c7c7c7\",\"#2ca02c\",\"#ffbb78\",\"#ffbb78\",\"#c7c7c7\",\"#aec7e8\",\"#aec7e8\",\"#aec7e8\",\"#ffbb78\",\"#aec7e8\",\"#ffbb78\",\"#c7c7c7\",\"#ffbb78\",\"#ffbb78\",\"#aec7e8\",\"#ffbb78\",\"#aec7e8\",\"#ffbb78\",\"#ffbb78\",\"#2ca02c\",\"#ffbb78\",\"#ffbb78\",\"#aec7e8\",\"#aec7e8\",\"#aec7e8\",\"#aec7e8\",\"#2ca02c\",\"#aec7e8\",\"#2ca02c\",\"#2ca02c\",\"#ffbb78\",\"#2ca02c\",\"#2ca02c\",\"#2ca02c\",\"#ffbb78\",\"#2ca02c\",\"#ffbb78\",\"#ffbb78\",\"#2ca02c\",\"#c7c7c7\",\"#ffbb78\",\"#ffbb78\",\"#2ca02c\",\"#2ca02c\",\"#ffbb78\",\"#aec7e8\",\"#aec7e8\",\"#aec7e8\",\"#ffbb78\",\"#aec7e8\",\"#2ca02c\",\"#2ca02c\",\"#2ca02c\",\"#2ca02c\",\"#ffbb78\",\"#2ca02c\",\"#aec7e8\",\"#2ca02c\",\"#2ca02c\",\"#aec7e8\",\"#2ca02c\",\"#2ca02c\",\"#2ca02c\",\"#c7c7c7\",\"#ffbb78\",\"#aec7e8\",\"#aec7e8\",\"#aec7e8\",\"#2ca02c\",\"#aec7e8\",\"#aec7e8\",\"#aec7e8\",\"#2ca02c\",\"#2ca02c\",\"#2ca02c\",\"#2ca02c\",\"#2ca02c\",\"#aec7e8\",\"#2ca02c\",\"#ffbb78\",\"#ffbb78\",\"#2ca02c\",\"#aec7e8\",\"#2ca02c\",\"#ffbb78\",\"#c7c7c7\",\"#c7c7c7\",\"#aec7e8\",\"#2ca02c\",\"#2ca02c\",\"#2ca02c\",\"#aec7e8\",\"#ffbb78\",\"#ffbb78\",\"#2ca02c\",\"#2ca02c\",\"#2ca02c\",\"#aec7e8\",\"#aec7e8\",\"#aec7e8\",\"#aec7e8\",\"#2ca02c\",\"#aec7e8\",\"#2ca02c\",\"#ffbb78\",\"#2ca02c\",\"#c7c7c7\",\"#2ca02c\",\"#c7c7c7\",\"#2ca02c\",\"#ffbb78\",\"#c7c7c7\",\"#ffbb78\",\"#ffbb78\",\"#c7c7c7\",\"#ffbb78\",\"#2ca02c\",\"#c7c7c7\",\"#c7c7c7\",\"#ffbb78\",\"#ffbb78\",\"#2ca02c\",\"#2ca02c\",\"#2ca02c\",\"#aec7e8\",\"#2ca02c\",\"#c7c7c7\",\"#aec7e8\",\"#2ca02c\",\"#ffbb78\",\"#aec7e8\",\"#2ca02c\",\"#2ca02c\",\"#aec7e8\",\"#c7c7c7\",\"#aec7e8\",\"#aec7e8\",\"#ffbb78\",\"#aec7e8\",\"#aec7e8\",\"#aec7e8\",\"#ffbb78\",\"#c7c7c7\",\"#aec7e8\",\"#aec7e8\",\"#2ca02c\",\"#ffbb78\",\"#2ca02c\",\"#c7c7c7\",\"#ffbb78\",\"#c7c7c7\",\"#ffbb78\",\"#aec7e8\",\"#2ca02c\",\"#ffbb78\",\"#c7c7c7\",\"#2ca02c\",\"#ffbb78\",\"#ffbb78\",\"#2ca02c\",\"#2ca02c\",\"#ffbb78\",\"#c7c7c7\",\"#2ca02c\",\"#ffbb78\",\"#aec7e8\",\"#2ca02c\",\"#2ca02c\",\"#c7c7c7\",\"#c7c7c7\",\"#2ca02c\",\"#c7c7c7\",\"#ffbb78\",\"#2ca02c\",\"#aec7e8\",\"#aec7e8\",\"#ffbb78\",\"#aec7e8\",\"#ffbb78\",\"#aec7e8\",\"#c7c7c7\",\"#aec7e8\",\"#2ca02c\",\"#2ca02c\",\"#c7c7c7\",\"#2ca02c\",\"#2ca02c\",\"#ffbb78\",\"#c7c7c7\",\"#ffbb78\",\"#2ca02c\",\"#aec7e8\",\"#c7c7c7\",\"#ffbb78\",\"#ffbb78\",\"#aec7e8\",\"#2ca02c\",\"#aec7e8\",\"#ffbb78\",\"#c7c7c7\",\"#aec7e8\",\"#ffbb78\",\"#ffbb78\",\"#2ca02c\",\"#2ca02c\",\"#aec7e8\",\"#2ca02c\",\"#2ca02c\",\"#c7c7c7\",\"#2ca02c\",\"#ffbb78\",\"#2ca02c\",\"#ffbb78\",\"#ffbb78\",\"#2ca02c\",\"#aec7e8\",\"#ffbb78\",\"#aec7e8\",\"#ffbb78\",\"#2ca02c\",\"#c7c7c7\",\"#c7c7c7\",\"#2ca02c\",\"#2ca02c\",\"#aec7e8\",\"#ffbb78\",\"#c7c7c7\",\"#2ca02c\",\"#c7c7c7\",\"#ffbb78\",\"#aec7e8\",\"#2ca02c\",\"#ffbb78\",\"#c7c7c7\",\"#2ca02c\",\"#aec7e8\",\"#2ca02c\",\"#c7c7c7\",\"#2ca02c\",\"#ffbb78\",\"#2ca02c\",\"#c7c7c7\",\"#aec7e8\",\"#c7c7c7\",\"#aec7e8\",\"#c7c7c7\",\"#ffbb78\",\"#2ca02c\",\"#2ca02c\",\"#aec7e8\",\"#c7c7c7\",\"#2ca02c\",\"#ffbb78\",\"#ffbb78\",\"#2ca02c\",\"#2ca02c\",\"#2ca02c\",\"#aec7e8\",\"#ffbb78\",\"#aec7e8\",\"#aec7e8\",\"#2ca02c\",\"#ffbb78\",\"#ffbb78\",\"#ffbb78\",\"#2ca02c\",\"#2ca02c\",\"#aec7e8\",\"#aec7e8\",\"#2ca02c\",\"#c7c7c7\",\"#2ca02c\",\"#aec7e8\",\"#aec7e8\",\"#aec7e8\",\"#c7c7c7\",\"#ffbb78\",\"#ffbb78\",\"#aec7e8\",\"#aec7e8\",\"#2ca02c\",\"#aec7e8\",\"#2ca02c\",\"#ffbb78\",\"#ffbb78\",\"#ffbb78\",\"#2ca02c\",\"#aec7e8\",\"#c7c7c7\",\"#aec7e8\",\"#2ca02c\",\"#2ca02c\",\"#ffbb78\",\"#ffbb78\",\"#aec7e8\",\"#aec7e8\",\"#2ca02c\",\"#aec7e8\",\"#c7c7c7\",\"#aec7e8\",\"#aec7e8\",\"#2ca02c\",\"#ffbb78\",\"#2ca02c\",\"#ffbb78\",\"#ffbb78\",\"#aec7e8\",\"#ffbb78\",\"#2ca02c\",\"#ffbb78\",\"#2ca02c\",\"#2ca02c\",\"#2ca02c\",\"#2ca02c\",\"#2ca02c\",\"#ffbb78\",\"#2ca02c\",\"#2ca02c\",\"#aec7e8\",\"#ffbb78\",\"#2ca02c\",\"#aec7e8\",\"#ffbb78\",\"#2ca02c\",\"#2ca02c\",\"#ffbb78\",\"#ffbb78\",\"#ffbb78\",\"#2ca02c\",\"#ffbb78\",\"#ffbb78\",\"#aec7e8\",\"#2ca02c\",\"#aec7e8\",\"#aec7e8\",\"#c7c7c7\",\"#ffbb78\",\"#aec7e8\",\"#c7c7c7\",\"#aec7e8\",\"#c7c7c7\",\"#aec7e8\",\"#c7c7c7\",\"#2ca02c\",\"#c7c7c7\",\"#2ca02c\",\"#ffbb78\",\"#2ca02c\",\"#2ca02c\",\"#2ca02c\",\"#ffbb78\",\"#c7c7c7\",\"#aec7e8\",\"#ffbb78\",\"#2ca02c\",\"#2ca02c\",\"#2ca02c\",\"#ffbb78\",\"#2ca02c\",\"#c7c7c7\",\"#ffbb78\",\"#2ca02c\",\"#ffbb78\",\"#2ca02c\",\"#c7c7c7\",\"#c7c7c7\",\"#ffbb78\",\"#2ca02c\",\"#aec7e8\",\"#2ca02c\",\"#2ca02c\",\"#2ca02c\",\"#c7c7c7\",\"#ffbb78\",\"#aec7e8\",\"#2ca02c\",\"#ffbb78\",\"#aec7e8\",\"#ffbb78\",\"#aec7e8\",\"#2ca02c\",\"#ffbb78\",\"#c7c7c7\",\"#2ca02c\",\"#aec7e8\",\"#2ca02c\",\"#ffbb78\",\"#aec7e8\",\"#aec7e8\",\"#2ca02c\",\"#2ca02c\",\"#c7c7c7\",\"#2ca02c\",\"#2ca02c\",\"#ffbb78\",\"#aec7e8\",\"#c7c7c7\",\"#2ca02c\",\"#2ca02c\",\"#aec7e8\",\"#ffbb78\",\"#2ca02c\",\"#ffbb78\",\"#aec7e8\",\"#2ca02c\",\"#2ca02c\",\"#aec7e8\",\"#ffbb78\",\"#ffbb78\",\"#c7c7c7\",\"#2ca02c\",\"#aec7e8\",\"#2ca02c\",\"#2ca02c\",\"#aec7e8\",\"#c7c7c7\",\"#ffbb78\",\"#ffbb78\",\"#2ca02c\",\"#2ca02c\",\"#ffbb78\",\"#ffbb78\",\"#ffbb78\",\"#ffbb78\",\"#c7c7c7\",\"#ffbb78\",\"#ffbb78\",\"#c7c7c7\",\"#c7c7c7\",\"#aec7e8\",\"#c7c7c7\",\"#ffbb78\",\"#c7c7c7\",\"#2ca02c\",\"#ffbb78\",\"#2ca02c\",\"#c7c7c7\",\"#2ca02c\",\"#aec7e8\",\"#ffbb78\",\"#2ca02c\",\"#ffbb78\",\"#ffbb78\",\"#aec7e8\",\"#c7c7c7\",\"#2ca02c\",\"#ffbb78\",\"#2ca02c\",\"#aec7e8\",\"#c7c7c7\",\"#ffbb78\",\"#2ca02c\",\"#ffbb78\",\"#2ca02c\",\"#2ca02c\",\"#ffbb78\",\"#aec7e8\",\"#2ca02c\",\"#aec7e8\",\"#ffbb78\",\"#aec7e8\",\"#2ca02c\",\"#ffbb78\",\"#2ca02c\",\"#aec7e8\",\"#c7c7c7\",\"#2ca02c\",\"#2ca02c\",\"#ffbb78\",\"#2ca02c\",\"#c7c7c7\",\"#aec7e8\",\"#2ca02c\",\"#2ca02c\",\"#ffbb78\",\"#c7c7c7\",\"#c7c7c7\",\"#2ca02c\",\"#aec7e8\",\"#2ca02c\",\"#aec7e8\",\"#aec7e8\",\"#2ca02c\",\"#2ca02c\",\"#2ca02c\",\"#aec7e8\",\"#2ca02c\",\"#2ca02c\",\"#2ca02c\",\"#2ca02c\",\"#2ca02c\",\"#ffbb78\",\"#2ca02c\",\"#ffbb78\",\"#c7c7c7\",\"#aec7e8\",\"#2ca02c\",\"#ffbb78\",\"#2ca02c\",\"#c7c7c7\",\"#ffbb78\",\"#aec7e8\",\"#2ca02c\",\"#c7c7c7\",\"#ffbb78\",\"#aec7e8\",\"#2ca02c\",\"#2ca02c\",\"#ffbb78\",\"#ffbb78\",\"#2ca02c\",\"#2ca02c\",\"#2ca02c\",\"#aec7e8\",\"#ffbb78\",\"#ffbb78\",\"#2ca02c\",\"#aec7e8\",\"#c7c7c7\",\"#ffbb78\",\"#c7c7c7\",\"#ffbb78\",\"#ffbb78\",\"#2ca02c\",\"#aec7e8\",\"#ffbb78\",\"#2ca02c\",\"#2ca02c\",\"#ffbb78\",\"#aec7e8\",\"#2ca02c\",\"#2ca02c\",\"#ffbb78\",\"#aec7e8\",\"#2ca02c\",\"#ffbb78\",\"#c7c7c7\",\"#2ca02c\",\"#aec7e8\",\"#ffbb78\",\"#2ca02c\",\"#ffbb78\",\"#ffbb78\",\"#c7c7c7\",\"#2ca02c\",\"#2ca02c\",\"#aec7e8\",\"#ffbb78\",\"#ffbb78\",\"#ffbb78\",\"#2ca02c\",\"#ffbb78\",\"#2ca02c\",\"#ffbb78\",\"#c7c7c7\",\"#aec7e8\",\"#ffbb78\",\"#aec7e8\",\"#ffbb78\",\"#c7c7c7\",\"#2ca02c\",\"#2ca02c\",\"#2ca02c\",\"#2ca02c\",\"#ffbb78\",\"#ffbb78\",\"#aec7e8\",\"#aec7e8\",\"#2ca02c\",\"#ffbb78\",\"#ffbb78\",\"#aec7e8\",\"#ffbb78\",\"#2ca02c\",\"#ffbb78\",\"#ffbb78\",\"#ffbb78\",\"#ffbb78\",\"#c7c7c7\",\"#ffbb78\",\"#c7c7c7\",\"#2ca02c\",\"#2ca02c\",\"#aec7e8\",\"#2ca02c\",\"#ffbb78\",\"#aec7e8\",\"#aec7e8\",\"#aec7e8\",\"#2ca02c\",\"#ffbb78\",\"#2ca02c\",\"#c7c7c7\",\"#2ca02c\",\"#2ca02c\",\"#aec7e8\",\"#aec7e8\",\"#c7c7c7\",\"#2ca02c\",\"#aec7e8\",\"#2ca02c\",\"#c7c7c7\",\"#2ca02c\",\"#2ca02c\",\"#ffbb78\",\"#ffbb78\",\"#aec7e8\",\"#aec7e8\",\"#2ca02c\",\"#2ca02c\",\"#c7c7c7\",\"#ffbb78\",\"#c7c7c7\",\"#2ca02c\",\"#aec7e8\",\"#2ca02c\",\"#aec7e8\",\"#2ca02c\",\"#2ca02c\",\"#aec7e8\",\"#aec7e8\",\"#ffbb78\",\"#c7c7c7\",\"#2ca02c\",\"#ffbb78\",\"#2ca02c\",\"#aec7e8\",\"#2ca02c\",\"#2ca02c\",\"#aec7e8\",\"#2ca02c\",\"#c7c7c7\",\"#ffbb78\",\"#2ca02c\",\"#2ca02c\",\"#c7c7c7\",\"#aec7e8\",\"#aec7e8\",\"#ffbb78\",\"#2ca02c\",\"#ffbb78\",\"#2ca02c\",\"#ffbb78\",\"#ffbb78\",\"#c7c7c7\",\"#c7c7c7\",\"#ffbb78\",\"#ffbb78\",\"#aec7e8\",\"#ffbb78\",\"#aec7e8\",\"#ffbb78\",\"#ffbb78\",\"#ffbb78\",\"#aec7e8\",\"#2ca02c\",\"#2ca02c\",\"#2ca02c\",\"#aec7e8\",\"#ffbb78\",\"#2ca02c\",\"#aec7e8\",\"#ffbb78\",\"#c7c7c7\",\"#aec7e8\",\"#ffbb78\",\"#c7c7c7\",\"#ffbb78\",\"#c7c7c7\",\"#ffbb78\",\"#2ca02c\",\"#2ca02c\",\"#aec7e8\",\"#aec7e8\",\"#2ca02c\",\"#c7c7c7\",\"#ffbb78\",\"#ffbb78\",\"#2ca02c\",\"#ffbb78\",\"#aec7e8\",\"#ffbb78\",\"#aec7e8\",\"#ffbb78\",\"#2ca02c\",\"#aec7e8\",\"#ffbb78\",\"#ffbb78\",\"#2ca02c\",\"#2ca02c\",\"#c7c7c7\",\"#aec7e8\",\"#aec7e8\",\"#c7c7c7\",\"#ffbb78\",\"#ffbb78\",\"#ffbb78\",\"#2ca02c\",\"#2ca02c\",\"#aec7e8\",\"#ffbb78\",\"#c7c7c7\",\"#ffbb78\",\"#2ca02c\",\"#2ca02c\",\"#ffbb78\",\"#2ca02c\",\"#ffbb78\",\"#ffbb78\",\"#ffbb78\",\"#ffbb78\",\"#ffbb78\",\"#ffbb78\",\"#aec7e8\",\"#2ca02c\",\"#aec7e8\",\"#2ca02c\",\"#aec7e8\",\"#2ca02c\",\"#ffbb78\",\"#2ca02c\",\"#2ca02c\",\"#2ca02c\",\"#c7c7c7\",\"#c7c7c7\",\"#2ca02c\",\"#2ca02c\",\"#ffbb78\",\"#ffbb78\",\"#2ca02c\",\"#2ca02c\",\"#aec7e8\",\"#ffbb78\",\"#ffbb78\",\"#aec7e8\",\"#2ca02c\",\"#2ca02c\",\"#ffbb78\",\"#ffbb78\",\"#aec7e8\",\"#2ca02c\",\"#2ca02c\",\"#2ca02c\",\"#c7c7c7\",\"#aec7e8\",\"#2ca02c\",\"#aec7e8\",\"#ffbb78\",\"#aec7e8\",\"#c7c7c7\",\"#ffbb78\",\"#aec7e8\",\"#2ca02c\",\"#aec7e8\",\"#2ca02c\",\"#2ca02c\",\"#2ca02c\",\"#ffbb78\",\"#2ca02c\",\"#ffbb78\",\"#c7c7c7\",\"#aec7e8\",\"#2ca02c\",\"#aec7e8\",\"#2ca02c\",\"#c7c7c7\",\"#aec7e8\",\"#aec7e8\",\"#2ca02c\",\"#2ca02c\",\"#ffbb78\",\"#aec7e8\",\"#2ca02c\",\"#c7c7c7\",\"#c7c7c7\",\"#2ca02c\",\"#aec7e8\",\"#2ca02c\",\"#c7c7c7\",\"#c7c7c7\",\"#2ca02c\",\"#2ca02c\",\"#c7c7c7\",\"#2ca02c\",\"#c7c7c7\",\"#aec7e8\",\"#aec7e8\",\"#c7c7c7\",\"#2ca02c\",\"#c7c7c7\",\"#2ca02c\",\"#ffbb78\",\"#aec7e8\",\"#aec7e8\",\"#c7c7c7\",\"#ffbb78\",\"#2ca02c\",\"#2ca02c\",\"#2ca02c\",\"#aec7e8\",\"#2ca02c\",\"#ffbb78\",\"#ffbb78\",\"#c7c7c7\",\"#c7c7c7\",\"#2ca02c\",\"#2ca02c\",\"#2ca02c\",\"#aec7e8\",\"#c7c7c7\",\"#aec7e8\",\"#aec7e8\",\"#ffbb78\",\"#2ca02c\",\"#aec7e8\",\"#ffbb78\",\"#ffbb78\",\"#c7c7c7\",\"#2ca02c\",\"#aec7e8\",\"#2ca02c\",\"#2ca02c\",\"#aec7e8\",\"#aec7e8\",\"#2ca02c\",\"#c7c7c7\",\"#aec7e8\",\"#ffbb78\",\"#2ca02c\",\"#ffbb78\",\"#c7c7c7\",\"#c7c7c7\",\"#2ca02c\",\"#2ca02c\",\"#ffbb78\",\"#aec7e8\",\"#ffbb78\",\"#2ca02c\",\"#2ca02c\",\"#c7c7c7\",\"#2ca02c\",\"#2ca02c\",\"#aec7e8\",\"#ffbb78\",\"#2ca02c\",\"#ffbb78\",\"#aec7e8\",\"#2ca02c\",\"#2ca02c\",\"#aec7e8\",\"#2ca02c\",\"#ffbb78\",\"#2ca02c\",\"#ffbb78\",\"#2ca02c\",\"#aec7e8\",\"#ffbb78\",\"#ffbb78\",\"#ffbb78\",\"#2ca02c\",\"#aec7e8\",\"#aec7e8\",\"#2ca02c\",\"#aec7e8\",\"#2ca02c\",\"#aec7e8\",\"#2ca02c\",\"#c7c7c7\",\"#ffbb78\",\"#2ca02c\",\"#aec7e8\",\"#aec7e8\",\"#ffbb78\",\"#ffbb78\",\"#ffbb78\",\"#aec7e8\",\"#aec7e8\",\"#aec7e8\",\"#ffbb78\",\"#2ca02c\",\"#c7c7c7\",\"#2ca02c\",\"#c7c7c7\",\"#2ca02c\",\"#ffbb78\",\"#aec7e8\",\"#ffbb78\",\"#2ca02c\",\"#aec7e8\",\"#ffbb78\",\"#ffbb78\",\"#aec7e8\",\"#ffbb78\",\"#ffbb78\",\"#ffbb78\",\"#ffbb78\",\"#ffbb78\",\"#ffbb78\",\"#ffbb78\",\"#ffbb78\",\"#ffbb78\",\"#ffbb78\",\"#ffbb78\",\"#ffbb78\",\"#ffbb78\",\"#ffbb78\",\"#ffbb78\",\"#ffbb78\",\"#ffbb78\",\"#ffbb78\",\"#ffbb78\",\"#ffbb78\",\"#ffbb78\",\"#ffbb78\",\"#ffbb78\",\"#ffbb78\",\"#ffbb78\",\"#ffbb78\",\"#ffbb78\",\"#ffbb78\",\"#ffbb78\",\"#ffbb78\",\"#ffbb78\",\"#ffbb78\",\"#c7c7c7\",\"#ffbb78\",\"#ffbb78\",\"#ffbb78\",\"#2ca02c\",\"#ffbb78\",\"#ffbb78\",\"#ffbb78\",\"#ffbb78\",\"#ffbb78\",\"#ffbb78\",\"#ffbb78\",\"#ffbb78\",\"#ffbb78\",\"#ffbb78\",\"#ffbb78\",\"#ffbb78\",\"#c7c7c7\",\"#ffbb78\",\"#ffbb78\",\"#ffbb78\",\"#ffbb78\",\"#ffbb78\",\"#ffbb78\",\"#ffbb78\",\"#aec7e8\",\"#ffbb78\",\"#ffbb78\",\"#ffbb78\",\"#ffbb78\",\"#ffbb78\",\"#ffbb78\",\"#c7c7c7\",\"#ffbb78\",\"#ffbb78\",\"#ffbb78\",\"#ffbb78\",\"#ffbb78\",\"#ffbb78\",\"#ffbb78\",\"#ffbb78\",\"#ffbb78\",\"#ffbb78\",\"#ffbb78\",\"#2ca02c\",\"#2ca02c\",\"#aec7e8\",\"#2ca02c\",\"#ffbb78\",\"#aec7e8\",\"#aec7e8\",\"#aec7e8\",\"#2ca02c\",\"#aec7e8\",\"#ffbb78\",\"#ffbb78\",\"#ffbb78\",\"#2ca02c\",\"#aec7e8\",\"#aec7e8\",\"#2ca02c\",\"#c7c7c7\",\"#2ca02c\",\"#ffbb78\",\"#aec7e8\",\"#2ca02c\",\"#2ca02c\",\"#2ca02c\",\"#2ca02c\",\"#2ca02c\",\"#2ca02c\",\"#2ca02c\",\"#c7c7c7\",\"#2ca02c\",\"#aec7e8\",\"#aec7e8\",\"#aec7e8\",\"#2ca02c\"],\"line_color\":[\"#c7c7c7\",\"#ffbb78\",\"#c7c7c7\",\"#aec7e8\",\"#ffbb78\",\"#ffbb78\",\"#ffbb78\",\"#ffbb78\",\"#ffbb78\",\"#ffbb78\",\"#ffbb78\",\"#c7c7c7\",\"#c7c7c7\",\"#c7c7c7\",\"#c7c7c7\",\"#2ca02c\",\"#aec7e8\",\"#ffbb78\",\"#2ca02c\",\"#2ca02c\",\"#aec7e8\",\"#ffbb78\",\"#c7c7c7\",\"#ffbb78\",\"#c7c7c7\",\"#aec7e8\",\"#c7c7c7\",\"#c7c7c7\",\"#c7c7c7\",\"#aec7e8\",\"#ffbb78\",\"#ffbb78\",\"#aec7e8\",\"#ffbb78\",\"#aec7e8\",\"#ffbb78\",\"#ffbb78\",\"#ffbb78\",\"#ffbb78\",\"#ffbb78\",\"#ffbb78\",\"#ffbb78\",\"#ffbb78\",\"#c7c7c7\",\"#ffbb78\",\"#ffbb78\",\"#c7c7c7\",\"#aec7e8\",\"#c7c7c7\",\"#c7c7c7\",\"#c7c7c7\",\"#ffbb78\",\"#aec7e8\",\"#c7c7c7\",\"#ffbb78\",\"#ffbb78\",\"#aec7e8\",\"#ffbb78\",\"#aec7e8\",\"#c7c7c7\",\"#ffbb78\",\"#c7c7c7\",\"#c7c7c7\",\"#aec7e8\",\"#ffbb78\",\"#aec7e8\",\"#aec7e8\",\"#ffbb78\",\"#ffbb78\",\"#c7c7c7\",\"#ffbb78\",\"#aec7e8\",\"#aec7e8\",\"#ffbb78\",\"#ffbb78\",\"#ffbb78\",\"#c7c7c7\",\"#c7c7c7\",\"#aec7e8\",\"#ffbb78\",\"#c7c7c7\",\"#2ca02c\",\"#ffbb78\",\"#aec7e8\",\"#aec7e8\",\"#c7c7c7\",\"#ffbb78\",\"#c7c7c7\",\"#c7c7c7\",\"#ffbb78\",\"#ffbb78\",\"#ffbb78\",\"#ffbb78\",\"#ffbb78\",\"#ffbb78\",\"#ffbb78\",\"#ffbb78\",\"#aec7e8\",\"#c7c7c7\",\"#ffbb78\",\"#ffbb78\",\"#ffbb78\",\"#ffbb78\",\"#ffbb78\",\"#ffbb78\",\"#ffbb78\",\"#ffbb78\",\"#ffbb78\",\"#ffbb78\",\"#ffbb78\",\"#ffbb78\",\"#ffbb78\",\"#ffbb78\",\"#c7c7c7\",\"#c7c7c7\",\"#c7c7c7\",\"#ffbb78\",\"#aec7e8\",\"#c7c7c7\",\"#2ca02c\",\"#aec7e8\",\"#c7c7c7\",\"#aec7e8\",\"#ffbb78\",\"#2ca02c\",\"#ffbb78\",\"#aec7e8\",\"#aec7e8\",\"#2ca02c\",\"#ffbb78\",\"#ffbb78\",\"#ffbb78\",\"#c7c7c7\",\"#2ca02c\",\"#ffbb78\",\"#2ca02c\",\"#ffbb78\",\"#c7c7c7\",\"#2ca02c\",\"#ffbb78\",\"#ffbb78\",\"#ffbb78\",\"#2ca02c\",\"#aec7e8\",\"#ffbb78\",\"#aec7e8\",\"#ffbb78\",\"#c7c7c7\",\"#ffbb78\",\"#c7c7c7\",\"#2ca02c\",\"#aec7e8\",\"#c7c7c7\",\"#aec7e8\",\"#aec7e8\",\"#ffbb78\",\"#aec7e8\",\"#2ca02c\",\"#aec7e8\",\"#ffbb78\",\"#2ca02c\",\"#ffbb78\",\"#c7c7c7\",\"#ffbb78\",\"#aec7e8\",\"#ffbb78\",\"#2ca02c\",\"#2ca02c\",\"#aec7e8\",\"#aec7e8\",\"#2ca02c\",\"#c7c7c7\",\"#ffbb78\",\"#ffbb78\",\"#ffbb78\",\"#aec7e8\",\"#c7c7c7\",\"#2ca02c\",\"#2ca02c\",\"#aec7e8\",\"#2ca02c\",\"#c7c7c7\",\"#2ca02c\",\"#2ca02c\",\"#2ca02c\",\"#ffbb78\",\"#c7c7c7\",\"#c7c7c7\",\"#c7c7c7\",\"#ffbb78\",\"#2ca02c\",\"#c7c7c7\",\"#ffbb78\",\"#ffbb78\",\"#c7c7c7\",\"#ffbb78\",\"#c7c7c7\",\"#2ca02c\",\"#2ca02c\",\"#aec7e8\",\"#2ca02c\",\"#c7c7c7\",\"#aec7e8\",\"#aec7e8\",\"#ffbb78\",\"#ffbb78\",\"#2ca02c\",\"#ffbb78\",\"#c7c7c7\",\"#2ca02c\",\"#2ca02c\",\"#ffbb78\",\"#c7c7c7\",\"#ffbb78\",\"#ffbb78\",\"#2ca02c\",\"#c7c7c7\",\"#aec7e8\",\"#c7c7c7\",\"#ffbb78\",\"#ffbb78\",\"#ffbb78\",\"#2ca02c\",\"#2ca02c\",\"#2ca02c\",\"#aec7e8\",\"#2ca02c\",\"#ffbb78\",\"#ffbb78\",\"#c7c7c7\",\"#ffbb78\",\"#ffbb78\",\"#ffbb78\",\"#c7c7c7\",\"#c7c7c7\",\"#c7c7c7\",\"#ffbb78\",\"#2ca02c\",\"#2ca02c\",\"#aec7e8\",\"#c7c7c7\",\"#ffbb78\",\"#c7c7c7\",\"#c7c7c7\",\"#ffbb78\",\"#ffbb78\",\"#ffbb78\",\"#aec7e8\",\"#2ca02c\",\"#aec7e8\",\"#ffbb78\",\"#aec7e8\",\"#ffbb78\",\"#2ca02c\",\"#aec7e8\",\"#2ca02c\",\"#2ca02c\",\"#c7c7c7\",\"#c7c7c7\",\"#2ca02c\",\"#2ca02c\",\"#ffbb78\",\"#2ca02c\",\"#c7c7c7\",\"#aec7e8\",\"#ffbb78\",\"#2ca02c\",\"#2ca02c\",\"#aec7e8\",\"#c7c7c7\",\"#aec7e8\",\"#ffbb78\",\"#c7c7c7\",\"#2ca02c\",\"#ffbb78\",\"#2ca02c\",\"#c7c7c7\",\"#ffbb78\",\"#ffbb78\",\"#aec7e8\",\"#aec7e8\",\"#aec7e8\",\"#ffbb78\",\"#ffbb78\",\"#c7c7c7\",\"#ffbb78\",\"#2ca02c\",\"#aec7e8\",\"#c7c7c7\",\"#2ca02c\",\"#aec7e8\",\"#c7c7c7\",\"#aec7e8\",\"#2ca02c\",\"#aec7e8\",\"#2ca02c\",\"#2ca02c\",\"#aec7e8\",\"#c7c7c7\",\"#ffbb78\",\"#ffbb78\",\"#2ca02c\",\"#c7c7c7\",\"#2ca02c\",\"#2ca02c\",\"#2ca02c\",\"#c7c7c7\",\"#ffbb78\",\"#aec7e8\",\"#c7c7c7\",\"#c7c7c7\",\"#aec7e8\",\"#2ca02c\",\"#c7c7c7\",\"#aec7e8\",\"#2ca02c\",\"#ffbb78\",\"#aec7e8\",\"#2ca02c\",\"#2ca02c\",\"#2ca02c\",\"#ffbb78\",\"#ffbb78\",\"#aec7e8\",\"#aec7e8\",\"#ffbb78\",\"#2ca02c\",\"#c7c7c7\",\"#ffbb78\",\"#2ca02c\",\"#ffbb78\",\"#2ca02c\",\"#aec7e8\",\"#2ca02c\",\"#aec7e8\",\"#c7c7c7\",\"#2ca02c\",\"#c7c7c7\",\"#c7c7c7\",\"#c7c7c7\",\"#c7c7c7\",\"#ffbb78\",\"#aec7e8\",\"#c7c7c7\",\"#2ca02c\",\"#aec7e8\",\"#aec7e8\",\"#ffbb78\",\"#ffbb78\",\"#2ca02c\",\"#ffbb78\",\"#ffbb78\",\"#ffbb78\",\"#ffbb78\",\"#ffbb78\",\"#2ca02c\",\"#aec7e8\",\"#c7c7c7\",\"#c7c7c7\",\"#ffbb78\",\"#aec7e8\",\"#aec7e8\",\"#ffbb78\",\"#2ca02c\",\"#2ca02c\",\"#2ca02c\",\"#aec7e8\",\"#ffbb78\",\"#ffbb78\",\"#ffbb78\",\"#aec7e8\",\"#2ca02c\",\"#c7c7c7\",\"#ffbb78\",\"#2ca02c\",\"#2ca02c\",\"#ffbb78\",\"#2ca02c\",\"#2ca02c\",\"#c7c7c7\",\"#aec7e8\",\"#aec7e8\",\"#ffbb78\",\"#ffbb78\",\"#aec7e8\",\"#aec7e8\",\"#ffbb78\",\"#2ca02c\",\"#aec7e8\",\"#c7c7c7\",\"#c7c7c7\",\"#2ca02c\",\"#c7c7c7\",\"#ffbb78\",\"#aec7e8\",\"#ffbb78\",\"#ffbb78\",\"#ffbb78\",\"#aec7e8\",\"#2ca02c\",\"#aec7e8\",\"#ffbb78\",\"#2ca02c\",\"#ffbb78\",\"#aec7e8\",\"#ffbb78\",\"#2ca02c\",\"#ffbb78\",\"#c7c7c7\",\"#ffbb78\",\"#2ca02c\",\"#aec7e8\",\"#ffbb78\",\"#ffbb78\",\"#2ca02c\",\"#2ca02c\",\"#ffbb78\",\"#c7c7c7\",\"#ffbb78\",\"#aec7e8\",\"#c7c7c7\",\"#ffbb78\",\"#ffbb78\",\"#2ca02c\",\"#ffbb78\",\"#ffbb78\",\"#c7c7c7\",\"#ffbb78\",\"#ffbb78\",\"#2ca02c\",\"#aec7e8\",\"#2ca02c\",\"#aec7e8\",\"#c7c7c7\",\"#ffbb78\",\"#aec7e8\",\"#aec7e8\",\"#2ca02c\",\"#2ca02c\",\"#ffbb78\",\"#2ca02c\",\"#c7c7c7\",\"#ffbb78\",\"#ffbb78\",\"#ffbb78\",\"#2ca02c\",\"#2ca02c\",\"#2ca02c\",\"#c7c7c7\",\"#2ca02c\",\"#ffbb78\",\"#ffbb78\",\"#aec7e8\",\"#2ca02c\",\"#2ca02c\",\"#2ca02c\",\"#2ca02c\",\"#ffbb78\",\"#2ca02c\",\"#aec7e8\",\"#ffbb78\",\"#c7c7c7\",\"#2ca02c\",\"#ffbb78\",\"#ffbb78\",\"#aec7e8\",\"#aec7e8\",\"#aec7e8\",\"#aec7e8\",\"#c7c7c7\",\"#ffbb78\",\"#2ca02c\",\"#aec7e8\",\"#2ca02c\",\"#aec7e8\",\"#2ca02c\",\"#2ca02c\",\"#2ca02c\",\"#c7c7c7\",\"#c7c7c7\",\"#ffbb78\",\"#ffbb78\",\"#aec7e8\",\"#ffbb78\",\"#2ca02c\",\"#ffbb78\",\"#2ca02c\",\"#ffbb78\",\"#ffbb78\",\"#ffbb78\",\"#ffbb78\",\"#ffbb78\",\"#2ca02c\",\"#2ca02c\",\"#2ca02c\",\"#2ca02c\",\"#2ca02c\",\"#c7c7c7\",\"#2ca02c\",\"#ffbb78\",\"#ffbb78\",\"#aec7e8\",\"#2ca02c\",\"#ffbb78\",\"#aec7e8\",\"#2ca02c\",\"#c7c7c7\",\"#2ca02c\",\"#2ca02c\",\"#2ca02c\",\"#c7c7c7\",\"#ffbb78\",\"#ffbb78\",\"#2ca02c\",\"#ffbb78\",\"#ffbb78\",\"#aec7e8\",\"#2ca02c\",\"#ffbb78\",\"#2ca02c\",\"#ffbb78\",\"#2ca02c\",\"#2ca02c\",\"#2ca02c\",\"#c7c7c7\",\"#2ca02c\",\"#aec7e8\",\"#2ca02c\",\"#2ca02c\",\"#c7c7c7\",\"#ffbb78\",\"#ffbb78\",\"#c7c7c7\",\"#2ca02c\",\"#c7c7c7\",\"#ffbb78\",\"#ffbb78\",\"#ffbb78\",\"#2ca02c\",\"#c7c7c7\",\"#aec7e8\",\"#2ca02c\",\"#2ca02c\",\"#ffbb78\",\"#ffbb78\",\"#2ca02c\",\"#2ca02c\",\"#aec7e8\",\"#c7c7c7\",\"#2ca02c\",\"#aec7e8\",\"#2ca02c\",\"#c7c7c7\",\"#2ca02c\",\"#aec7e8\",\"#ffbb78\",\"#ffbb78\",\"#ffbb78\",\"#2ca02c\",\"#aec7e8\",\"#2ca02c\",\"#2ca02c\",\"#aec7e8\",\"#2ca02c\",\"#2ca02c\",\"#2ca02c\",\"#c7c7c7\",\"#c7c7c7\",\"#c7c7c7\",\"#ffbb78\",\"#ffbb78\",\"#c7c7c7\",\"#aec7e8\",\"#2ca02c\",\"#aec7e8\",\"#2ca02c\",\"#aec7e8\",\"#ffbb78\",\"#ffbb78\",\"#aec7e8\",\"#ffbb78\",\"#2ca02c\",\"#ffbb78\",\"#c7c7c7\",\"#c7c7c7\",\"#ffbb78\",\"#aec7e8\",\"#c7c7c7\",\"#2ca02c\",\"#ffbb78\",\"#2ca02c\",\"#2ca02c\",\"#ffbb78\",\"#aec7e8\",\"#c7c7c7\",\"#ffbb78\",\"#aec7e8\",\"#ffbb78\",\"#ffbb78\",\"#ffbb78\",\"#2ca02c\",\"#2ca02c\",\"#2ca02c\",\"#c7c7c7\",\"#2ca02c\",\"#ffbb78\",\"#aec7e8\",\"#aec7e8\",\"#2ca02c\",\"#ffbb78\",\"#c7c7c7\",\"#c7c7c7\",\"#ffbb78\",\"#ffbb78\",\"#2ca02c\",\"#2ca02c\",\"#c7c7c7\",\"#ffbb78\",\"#2ca02c\",\"#2ca02c\",\"#2ca02c\",\"#2ca02c\",\"#aec7e8\",\"#aec7e8\",\"#c7c7c7\",\"#c7c7c7\",\"#2ca02c\",\"#ffbb78\",\"#ffbb78\",\"#ffbb78\",\"#aec7e8\",\"#ffbb78\",\"#c7c7c7\",\"#ffbb78\",\"#aec7e8\",\"#ffbb78\",\"#c7c7c7\",\"#aec7e8\",\"#c7c7c7\",\"#c7c7c7\",\"#2ca02c\",\"#ffbb78\",\"#c7c7c7\",\"#2ca02c\",\"#2ca02c\",\"#aec7e8\",\"#2ca02c\",\"#2ca02c\",\"#2ca02c\",\"#ffbb78\",\"#ffbb78\",\"#c7c7c7\",\"#c7c7c7\",\"#c7c7c7\",\"#aec7e8\",\"#ffbb78\",\"#ffbb78\",\"#2ca02c\",\"#aec7e8\",\"#2ca02c\",\"#c7c7c7\",\"#ffbb78\",\"#aec7e8\",\"#2ca02c\",\"#aec7e8\",\"#aec7e8\",\"#2ca02c\",\"#ffbb78\",\"#ffbb78\",\"#2ca02c\",\"#c7c7c7\",\"#aec7e8\",\"#2ca02c\",\"#aec7e8\",\"#ffbb78\",\"#ffbb78\",\"#aec7e8\",\"#2ca02c\",\"#2ca02c\",\"#aec7e8\",\"#2ca02c\",\"#ffbb78\",\"#aec7e8\",\"#ffbb78\",\"#aec7e8\",\"#2ca02c\",\"#c7c7c7\",\"#c7c7c7\",\"#2ca02c\",\"#2ca02c\",\"#ffbb78\",\"#aec7e8\",\"#ffbb78\",\"#ffbb78\",\"#2ca02c\",\"#2ca02c\",\"#c7c7c7\",\"#aec7e8\",\"#2ca02c\",\"#2ca02c\",\"#aec7e8\",\"#2ca02c\",\"#2ca02c\",\"#ffbb78\",\"#ffbb78\",\"#aec7e8\",\"#aec7e8\",\"#aec7e8\",\"#2ca02c\",\"#2ca02c\",\"#aec7e8\",\"#c7c7c7\",\"#aec7e8\",\"#c7c7c7\",\"#c7c7c7\",\"#ffbb78\",\"#2ca02c\",\"#c7c7c7\",\"#2ca02c\",\"#ffbb78\",\"#aec7e8\",\"#ffbb78\",\"#2ca02c\",\"#2ca02c\",\"#2ca02c\",\"#2ca02c\",\"#2ca02c\",\"#c7c7c7\",\"#ffbb78\",\"#2ca02c\",\"#ffbb78\",\"#ffbb78\",\"#c7c7c7\",\"#ffbb78\",\"#aec7e8\",\"#2ca02c\",\"#aec7e8\",\"#ffbb78\",\"#c7c7c7\",\"#ffbb78\",\"#aec7e8\",\"#c7c7c7\",\"#ffbb78\",\"#2ca02c\",\"#ffbb78\",\"#ffbb78\",\"#c7c7c7\",\"#2ca02c\",\"#aec7e8\",\"#ffbb78\",\"#2ca02c\",\"#ffbb78\",\"#ffbb78\",\"#ffbb78\",\"#2ca02c\",\"#c7c7c7\",\"#aec7e8\",\"#2ca02c\",\"#2ca02c\",\"#2ca02c\",\"#c7c7c7\",\"#ffbb78\",\"#ffbb78\",\"#c7c7c7\",\"#ffbb78\",\"#aec7e8\",\"#ffbb78\",\"#aec7e8\",\"#ffbb78\",\"#2ca02c\",\"#2ca02c\",\"#ffbb78\",\"#2ca02c\",\"#ffbb78\",\"#ffbb78\",\"#2ca02c\",\"#2ca02c\",\"#c7c7c7\",\"#c7c7c7\",\"#aec7e8\",\"#aec7e8\",\"#c7c7c7\",\"#ffbb78\",\"#aec7e8\",\"#c7c7c7\",\"#aec7e8\",\"#2ca02c\",\"#aec7e8\",\"#2ca02c\",\"#c7c7c7\",\"#ffbb78\",\"#aec7e8\",\"#ffbb78\",\"#c7c7c7\",\"#aec7e8\",\"#2ca02c\",\"#c7c7c7\",\"#aec7e8\",\"#aec7e8\",\"#c7c7c7\",\"#ffbb78\",\"#aec7e8\",\"#ffbb78\",\"#c7c7c7\",\"#aec7e8\",\"#2ca02c\",\"#2ca02c\",\"#ffbb78\",\"#c7c7c7\",\"#ffbb78\",\"#aec7e8\",\"#2ca02c\",\"#ffbb78\",\"#2ca02c\",\"#2ca02c\",\"#2ca02c\",\"#ffbb78\",\"#ffbb78\",\"#2ca02c\",\"#aec7e8\",\"#2ca02c\",\"#aec7e8\",\"#aec7e8\",\"#aec7e8\",\"#2ca02c\",\"#aec7e8\",\"#c7c7c7\",\"#2ca02c\",\"#2ca02c\",\"#2ca02c\",\"#2ca02c\",\"#2ca02c\",\"#2ca02c\",\"#ffbb78\",\"#aec7e8\",\"#ffbb78\",\"#aec7e8\",\"#aec7e8\",\"#ffbb78\",\"#c7c7c7\",\"#aec7e8\",\"#ffbb78\",\"#c7c7c7\",\"#2ca02c\",\"#aec7e8\",\"#2ca02c\",\"#2ca02c\",\"#ffbb78\",\"#2ca02c\",\"#ffbb78\",\"#2ca02c\",\"#ffbb78\",\"#aec7e8\",\"#2ca02c\",\"#aec7e8\",\"#c7c7c7\",\"#ffbb78\",\"#ffbb78\",\"#aec7e8\",\"#2ca02c\",\"#ffbb78\",\"#2ca02c\",\"#aec7e8\",\"#ffbb78\",\"#ffbb78\",\"#2ca02c\",\"#ffbb78\",\"#ffbb78\",\"#2ca02c\",\"#aec7e8\",\"#2ca02c\",\"#ffbb78\",\"#2ca02c\",\"#2ca02c\",\"#c7c7c7\",\"#2ca02c\",\"#2ca02c\",\"#c7c7c7\",\"#ffbb78\",\"#aec7e8\",\"#2ca02c\",\"#2ca02c\",\"#aec7e8\",\"#ffbb78\",\"#2ca02c\",\"#c7c7c7\",\"#ffbb78\",\"#c7c7c7\",\"#ffbb78\",\"#ffbb78\",\"#2ca02c\",\"#ffbb78\",\"#aec7e8\",\"#ffbb78\",\"#2ca02c\",\"#ffbb78\",\"#2ca02c\",\"#ffbb78\",\"#ffbb78\",\"#2ca02c\",\"#2ca02c\",\"#c7c7c7\",\"#2ca02c\",\"#aec7e8\",\"#2ca02c\",\"#ffbb78\",\"#c7c7c7\",\"#2ca02c\",\"#aec7e8\",\"#2ca02c\",\"#2ca02c\",\"#aec7e8\",\"#2ca02c\",\"#c7c7c7\",\"#2ca02c\",\"#ffbb78\",\"#ffbb78\",\"#aec7e8\",\"#ffbb78\",\"#ffbb78\",\"#2ca02c\",\"#ffbb78\",\"#ffbb78\",\"#c7c7c7\",\"#aec7e8\",\"#aec7e8\",\"#c7c7c7\",\"#2ca02c\",\"#2ca02c\",\"#ffbb78\",\"#c7c7c7\",\"#2ca02c\",\"#ffbb78\",\"#ffbb78\",\"#c7c7c7\",\"#c7c7c7\",\"#ffbb78\",\"#ffbb78\",\"#c7c7c7\",\"#ffbb78\",\"#2ca02c\",\"#aec7e8\",\"#aec7e8\",\"#aec7e8\",\"#2ca02c\",\"#ffbb78\",\"#2ca02c\",\"#ffbb78\",\"#2ca02c\",\"#ffbb78\",\"#ffbb78\",\"#c7c7c7\",\"#ffbb78\",\"#ffbb78\",\"#aec7e8\",\"#ffbb78\",\"#ffbb78\",\"#c7c7c7\",\"#aec7e8\",\"#2ca02c\",\"#aec7e8\",\"#2ca02c\",\"#aec7e8\",\"#2ca02c\",\"#aec7e8\",\"#c7c7c7\",\"#ffbb78\",\"#c7c7c7\",\"#2ca02c\",\"#ffbb78\",\"#2ca02c\",\"#ffbb78\",\"#ffbb78\",\"#ffbb78\",\"#2ca02c\",\"#2ca02c\",\"#ffbb78\",\"#2ca02c\",\"#aec7e8\",\"#2ca02c\",\"#aec7e8\",\"#2ca02c\",\"#aec7e8\",\"#2ca02c\",\"#2ca02c\",\"#ffbb78\",\"#ffbb78\",\"#c7c7c7\",\"#ffbb78\",\"#aec7e8\",\"#aec7e8\",\"#ffbb78\",\"#aec7e8\",\"#2ca02c\",\"#aec7e8\",\"#2ca02c\",\"#ffbb78\",\"#2ca02c\",\"#2ca02c\",\"#c7c7c7\",\"#ffbb78\",\"#ffbb78\",\"#ffbb78\",\"#c7c7c7\",\"#ffbb78\",\"#2ca02c\",\"#ffbb78\",\"#ffbb78\",\"#ffbb78\",\"#ffbb78\",\"#2ca02c\",\"#2ca02c\",\"#aec7e8\",\"#2ca02c\",\"#c7c7c7\",\"#aec7e8\",\"#ffbb78\",\"#aec7e8\",\"#2ca02c\",\"#2ca02c\",\"#aec7e8\",\"#aec7e8\",\"#ffbb78\",\"#c7c7c7\",\"#ffbb78\",\"#ffbb78\",\"#ffbb78\",\"#aec7e8\",\"#ffbb78\",\"#2ca02c\",\"#2ca02c\",\"#ffbb78\",\"#ffbb78\",\"#2ca02c\",\"#ffbb78\",\"#c7c7c7\",\"#ffbb78\",\"#ffbb78\",\"#ffbb78\",\"#aec7e8\",\"#ffbb78\",\"#ffbb78\",\"#ffbb78\",\"#aec7e8\",\"#ffbb78\",\"#ffbb78\",\"#2ca02c\",\"#aec7e8\",\"#c7c7c7\",\"#ffbb78\",\"#aec7e8\",\"#c7c7c7\",\"#ffbb78\",\"#ffbb78\",\"#2ca02c\",\"#2ca02c\",\"#aec7e8\",\"#ffbb78\",\"#c7c7c7\",\"#c7c7c7\",\"#c7c7c7\",\"#ffbb78\",\"#aec7e8\",\"#c7c7c7\",\"#2ca02c\",\"#2ca02c\",\"#2ca02c\",\"#ffbb78\",\"#aec7e8\",\"#ffbb78\",\"#ffbb78\",\"#ffbb78\",\"#2ca02c\",\"#2ca02c\",\"#2ca02c\",\"#aec7e8\",\"#ffbb78\",\"#c7c7c7\",\"#ffbb78\",\"#2ca02c\",\"#c7c7c7\",\"#2ca02c\",\"#2ca02c\",\"#aec7e8\",\"#c7c7c7\",\"#ffbb78\",\"#aec7e8\",\"#c7c7c7\",\"#c7c7c7\",\"#2ca02c\",\"#c7c7c7\",\"#ffbb78\",\"#c7c7c7\",\"#aec7e8\",\"#2ca02c\",\"#ffbb78\",\"#ffbb78\",\"#ffbb78\",\"#aec7e8\",\"#aec7e8\",\"#c7c7c7\",\"#2ca02c\",\"#ffbb78\",\"#c7c7c7\",\"#c7c7c7\",\"#aec7e8\",\"#2ca02c\",\"#aec7e8\",\"#ffbb78\",\"#ffbb78\",\"#ffbb78\",\"#ffbb78\",\"#ffbb78\",\"#c7c7c7\",\"#ffbb78\",\"#ffbb78\",\"#aec7e8\",\"#ffbb78\",\"#ffbb78\",\"#2ca02c\",\"#c7c7c7\",\"#ffbb78\",\"#ffbb78\",\"#ffbb78\",\"#ffbb78\",\"#aec7e8\",\"#aec7e8\",\"#ffbb78\",\"#ffbb78\",\"#ffbb78\",\"#ffbb78\",\"#c7c7c7\",\"#ffbb78\",\"#ffbb78\",\"#ffbb78\",\"#2ca02c\",\"#ffbb78\",\"#2ca02c\",\"#c7c7c7\",\"#c7c7c7\",\"#ffbb78\",\"#ffbb78\",\"#ffbb78\",\"#2ca02c\",\"#ffbb78\",\"#c7c7c7\",\"#ffbb78\",\"#ffbb78\",\"#ffbb78\",\"#2ca02c\",\"#ffbb78\",\"#ffbb78\",\"#2ca02c\",\"#c7c7c7\",\"#ffbb78\",\"#2ca02c\",\"#2ca02c\",\"#2ca02c\",\"#ffbb78\",\"#ffbb78\",\"#2ca02c\",\"#2ca02c\",\"#2ca02c\",\"#2ca02c\",\"#2ca02c\",\"#2ca02c\",\"#2ca02c\",\"#2ca02c\",\"#ffbb78\",\"#2ca02c\",\"#aec7e8\",\"#ffbb78\",\"#c7c7c7\",\"#c7c7c7\",\"#c7c7c7\",\"#c7c7c7\",\"#ffbb78\",\"#c7c7c7\",\"#2ca02c\",\"#ffbb78\",\"#ffbb78\",\"#2ca02c\",\"#2ca02c\",\"#ffbb78\",\"#2ca02c\",\"#2ca02c\",\"#ffbb78\",\"#c7c7c7\",\"#aec7e8\",\"#ffbb78\",\"#c7c7c7\",\"#2ca02c\",\"#c7c7c7\",\"#c7c7c7\",\"#2ca02c\",\"#c7c7c7\",\"#aec7e8\",\"#ffbb78\",\"#2ca02c\",\"#ffbb78\",\"#ffbb78\",\"#c7c7c7\",\"#ffbb78\",\"#ffbb78\",\"#ffbb78\",\"#ffbb78\",\"#ffbb78\",\"#c7c7c7\",\"#ffbb78\",\"#c7c7c7\",\"#2ca02c\",\"#ffbb78\",\"#ffbb78\",\"#ffbb78\",\"#2ca02c\",\"#ffbb78\",\"#aec7e8\",\"#c7c7c7\",\"#ffbb78\",\"#2ca02c\",\"#ffbb78\",\"#ffbb78\",\"#aec7e8\",\"#ffbb78\",\"#ffbb78\",\"#ffbb78\",\"#ffbb78\",\"#ffbb78\",\"#ffbb78\",\"#2ca02c\",\"#ffbb78\",\"#ffbb78\",\"#aec7e8\",\"#2ca02c\",\"#ffbb78\",\"#2ca02c\",\"#2ca02c\",\"#c7c7c7\",\"#ffbb78\",\"#ffbb78\",\"#2ca02c\",\"#c7c7c7\",\"#ffbb78\",\"#ffbb78\",\"#2ca02c\",\"#ffbb78\",\"#c7c7c7\",\"#ffbb78\",\"#2ca02c\",\"#ffbb78\",\"#ffbb78\",\"#2ca02c\",\"#ffbb78\",\"#2ca02c\",\"#aec7e8\",\"#aec7e8\",\"#aec7e8\",\"#c7c7c7\",\"#ffbb78\",\"#2ca02c\",\"#2ca02c\",\"#ffbb78\",\"#2ca02c\",\"#c7c7c7\",\"#2ca02c\",\"#aec7e8\",\"#2ca02c\",\"#ffbb78\",\"#aec7e8\",\"#2ca02c\",\"#2ca02c\",\"#2ca02c\",\"#2ca02c\",\"#aec7e8\",\"#ffbb78\",\"#ffbb78\",\"#aec7e8\",\"#2ca02c\",\"#aec7e8\",\"#ffbb78\",\"#c7c7c7\",\"#ffbb78\",\"#2ca02c\",\"#aec7e8\",\"#aec7e8\",\"#ffbb78\",\"#ffbb78\",\"#2ca02c\",\"#ffbb78\",\"#ffbb78\",\"#2ca02c\",\"#c7c7c7\",\"#ffbb78\",\"#ffbb78\",\"#ffbb78\",\"#ffbb78\",\"#aec7e8\",\"#aec7e8\",\"#c7c7c7\",\"#ffbb78\",\"#2ca02c\",\"#2ca02c\",\"#c7c7c7\",\"#2ca02c\",\"#ffbb78\",\"#ffbb78\",\"#aec7e8\",\"#2ca02c\",\"#c7c7c7\",\"#ffbb78\",\"#ffbb78\",\"#2ca02c\",\"#c7c7c7\",\"#aec7e8\",\"#ffbb78\",\"#2ca02c\",\"#ffbb78\",\"#ffbb78\",\"#2ca02c\",\"#ffbb78\",\"#ffbb78\",\"#ffbb78\",\"#ffbb78\",\"#ffbb78\",\"#aec7e8\",\"#2ca02c\",\"#2ca02c\",\"#2ca02c\",\"#aec7e8\",\"#2ca02c\",\"#2ca02c\",\"#ffbb78\",\"#ffbb78\",\"#2ca02c\",\"#ffbb78\",\"#2ca02c\",\"#2ca02c\",\"#2ca02c\",\"#2ca02c\",\"#ffbb78\",\"#aec7e8\",\"#aec7e8\",\"#aec7e8\",\"#c7c7c7\",\"#aec7e8\",\"#ffbb78\",\"#c7c7c7\",\"#ffbb78\",\"#ffbb78\",\"#2ca02c\",\"#2ca02c\",\"#aec7e8\",\"#ffbb78\",\"#aec7e8\",\"#2ca02c\",\"#aec7e8\",\"#ffbb78\",\"#ffbb78\",\"#2ca02c\",\"#ffbb78\",\"#ffbb78\",\"#ffbb78\",\"#2ca02c\",\"#ffbb78\",\"#2ca02c\",\"#2ca02c\",\"#c7c7c7\",\"#ffbb78\",\"#aec7e8\",\"#c7c7c7\",\"#aec7e8\",\"#aec7e8\",\"#c7c7c7\",\"#c7c7c7\",\"#aec7e8\",\"#2ca02c\",\"#2ca02c\",\"#2ca02c\",\"#2ca02c\",\"#ffbb78\",\"#2ca02c\",\"#2ca02c\",\"#ffbb78\",\"#ffbb78\",\"#2ca02c\",\"#aec7e8\",\"#ffbb78\",\"#2ca02c\",\"#c7c7c7\",\"#c7c7c7\",\"#ffbb78\",\"#2ca02c\",\"#ffbb78\",\"#ffbb78\",\"#ffbb78\",\"#ffbb78\",\"#ffbb78\",\"#aec7e8\",\"#2ca02c\",\"#c7c7c7\",\"#ffbb78\",\"#ffbb78\",\"#ffbb78\",\"#aec7e8\",\"#2ca02c\",\"#ffbb78\",\"#aec7e8\",\"#c7c7c7\",\"#2ca02c\",\"#ffbb78\",\"#c7c7c7\",\"#2ca02c\",\"#ffbb78\",\"#ffbb78\",\"#ffbb78\",\"#ffbb78\",\"#ffbb78\",\"#ffbb78\",\"#ffbb78\",\"#ffbb78\",\"#c7c7c7\",\"#2ca02c\",\"#c7c7c7\",\"#c7c7c7\",\"#2ca02c\",\"#c7c7c7\",\"#ffbb78\",\"#c7c7c7\",\"#2ca02c\",\"#2ca02c\",\"#ffbb78\",\"#ffbb78\",\"#ffbb78\",\"#c7c7c7\",\"#2ca02c\",\"#ffbb78\",\"#ffbb78\",\"#aec7e8\",\"#aec7e8\",\"#ffbb78\",\"#ffbb78\",\"#2ca02c\",\"#aec7e8\",\"#2ca02c\",\"#c7c7c7\",\"#ffbb78\",\"#2ca02c\",\"#aec7e8\",\"#2ca02c\",\"#2ca02c\",\"#aec7e8\",\"#ffbb78\",\"#aec7e8\",\"#ffbb78\",\"#aec7e8\",\"#ffbb78\",\"#c7c7c7\",\"#aec7e8\",\"#ffbb78\",\"#ffbb78\",\"#ffbb78\",\"#aec7e8\",\"#c7c7c7\",\"#ffbb78\",\"#2ca02c\",\"#2ca02c\",\"#2ca02c\",\"#2ca02c\",\"#aec7e8\",\"#2ca02c\",\"#ffbb78\",\"#2ca02c\",\"#2ca02c\",\"#2ca02c\",\"#aec7e8\",\"#ffbb78\",\"#ffbb78\",\"#ffbb78\",\"#ffbb78\",\"#ffbb78\",\"#c7c7c7\",\"#2ca02c\",\"#2ca02c\",\"#ffbb78\",\"#aec7e8\",\"#c7c7c7\",\"#2ca02c\",\"#2ca02c\",\"#ffbb78\",\"#ffbb78\",\"#aec7e8\",\"#ffbb78\",\"#ffbb78\",\"#ffbb78\",\"#ffbb78\",\"#aec7e8\",\"#2ca02c\",\"#aec7e8\",\"#aec7e8\",\"#c7c7c7\",\"#ffbb78\",\"#ffbb78\",\"#ffbb78\",\"#ffbb78\",\"#c7c7c7\",\"#aec7e8\",\"#aec7e8\",\"#ffbb78\",\"#c7c7c7\",\"#2ca02c\",\"#c7c7c7\",\"#c7c7c7\",\"#ffbb78\",\"#ffbb78\",\"#c7c7c7\",\"#aec7e8\",\"#c7c7c7\",\"#aec7e8\",\"#ffbb78\",\"#ffbb78\",\"#2ca02c\",\"#aec7e8\",\"#aec7e8\",\"#2ca02c\",\"#c7c7c7\",\"#2ca02c\",\"#aec7e8\",\"#c7c7c7\",\"#c7c7c7\",\"#ffbb78\",\"#2ca02c\",\"#c7c7c7\",\"#2ca02c\",\"#ffbb78\",\"#aec7e8\",\"#c7c7c7\",\"#c7c7c7\",\"#2ca02c\",\"#2ca02c\",\"#c7c7c7\",\"#ffbb78\",\"#ffbb78\",\"#c7c7c7\",\"#c7c7c7\",\"#ffbb78\",\"#aec7e8\",\"#ffbb78\",\"#aec7e8\",\"#aec7e8\",\"#ffbb78\",\"#2ca02c\",\"#aec7e8\",\"#2ca02c\",\"#ffbb78\",\"#2ca02c\",\"#ffbb78\",\"#2ca02c\",\"#2ca02c\",\"#ffbb78\",\"#aec7e8\",\"#aec7e8\",\"#aec7e8\",\"#aec7e8\",\"#2ca02c\",\"#ffbb78\",\"#ffbb78\",\"#2ca02c\",\"#ffbb78\",\"#ffbb78\",\"#aec7e8\",\"#ffbb78\",\"#2ca02c\",\"#2ca02c\",\"#ffbb78\",\"#ffbb78\",\"#2ca02c\",\"#c7c7c7\",\"#2ca02c\",\"#2ca02c\",\"#2ca02c\",\"#ffbb78\",\"#2ca02c\",\"#aec7e8\",\"#c7c7c7\",\"#ffbb78\",\"#aec7e8\",\"#2ca02c\",\"#c7c7c7\",\"#c7c7c7\",\"#ffbb78\",\"#aec7e8\",\"#c7c7c7\",\"#2ca02c\",\"#c7c7c7\",\"#2ca02c\",\"#c7c7c7\",\"#ffbb78\",\"#2ca02c\",\"#2ca02c\",\"#2ca02c\",\"#ffbb78\",\"#2ca02c\",\"#ffbb78\",\"#2ca02c\",\"#ffbb78\",\"#2ca02c\",\"#ffbb78\",\"#c7c7c7\",\"#2ca02c\",\"#aec7e8\",\"#ffbb78\",\"#aec7e8\",\"#ffbb78\",\"#ffbb78\",\"#2ca02c\",\"#ffbb78\",\"#ffbb78\",\"#aec7e8\",\"#2ca02c\",\"#2ca02c\",\"#ffbb78\",\"#2ca02c\",\"#ffbb78\",\"#aec7e8\",\"#2ca02c\",\"#c7c7c7\",\"#aec7e8\",\"#ffbb78\",\"#ffbb78\",\"#c7c7c7\",\"#ffbb78\",\"#2ca02c\",\"#c7c7c7\",\"#aec7e8\",\"#2ca02c\",\"#ffbb78\",\"#2ca02c\",\"#2ca02c\",\"#ffbb78\",\"#aec7e8\",\"#2ca02c\",\"#aec7e8\",\"#ffbb78\",\"#2ca02c\",\"#aec7e8\",\"#aec7e8\",\"#c7c7c7\",\"#2ca02c\",\"#2ca02c\",\"#c7c7c7\",\"#ffbb78\",\"#aec7e8\",\"#aec7e8\",\"#ffbb78\",\"#ffbb78\",\"#aec7e8\",\"#2ca02c\",\"#ffbb78\",\"#c7c7c7\",\"#2ca02c\",\"#ffbb78\",\"#2ca02c\",\"#aec7e8\",\"#aec7e8\",\"#c7c7c7\",\"#c7c7c7\",\"#2ca02c\",\"#ffbb78\",\"#ffbb78\",\"#c7c7c7\",\"#aec7e8\",\"#2ca02c\",\"#aec7e8\",\"#ffbb78\",\"#2ca02c\",\"#aec7e8\",\"#2ca02c\",\"#ffbb78\",\"#ffbb78\",\"#ffbb78\",\"#aec7e8\",\"#ffbb78\",\"#ffbb78\",\"#2ca02c\",\"#2ca02c\",\"#aec7e8\",\"#c7c7c7\",\"#ffbb78\",\"#2ca02c\",\"#ffbb78\",\"#2ca02c\",\"#c7c7c7\",\"#2ca02c\",\"#aec7e8\",\"#c7c7c7\",\"#aec7e8\",\"#aec7e8\",\"#ffbb78\",\"#aec7e8\",\"#c7c7c7\",\"#aec7e8\",\"#ffbb78\",\"#ffbb78\",\"#2ca02c\",\"#ffbb78\",\"#ffbb78\",\"#2ca02c\",\"#2ca02c\",\"#ffbb78\",\"#aec7e8\",\"#aec7e8\",\"#2ca02c\",\"#2ca02c\",\"#aec7e8\",\"#c7c7c7\",\"#2ca02c\",\"#2ca02c\",\"#ffbb78\",\"#aec7e8\",\"#c7c7c7\",\"#c7c7c7\",\"#aec7e8\",\"#c7c7c7\",\"#aec7e8\",\"#aec7e8\",\"#ffbb78\",\"#aec7e8\",\"#ffbb78\",\"#ffbb78\",\"#aec7e8\",\"#c7c7c7\",\"#aec7e8\",\"#2ca02c\",\"#c7c7c7\",\"#aec7e8\",\"#ffbb78\",\"#ffbb78\",\"#2ca02c\",\"#ffbb78\",\"#2ca02c\",\"#ffbb78\",\"#aec7e8\",\"#c7c7c7\",\"#ffbb78\",\"#aec7e8\",\"#2ca02c\",\"#2ca02c\",\"#ffbb78\",\"#2ca02c\",\"#2ca02c\",\"#2ca02c\",\"#2ca02c\",\"#2ca02c\",\"#ffbb78\",\"#ffbb78\",\"#aec7e8\",\"#ffbb78\",\"#c7c7c7\",\"#c7c7c7\",\"#c7c7c7\",\"#2ca02c\",\"#2ca02c\",\"#aec7e8\",\"#2ca02c\",\"#ffbb78\",\"#aec7e8\",\"#ffbb78\",\"#ffbb78\",\"#ffbb78\",\"#2ca02c\",\"#2ca02c\",\"#ffbb78\",\"#ffbb78\",\"#aec7e8\",\"#ffbb78\",\"#ffbb78\",\"#ffbb78\",\"#ffbb78\",\"#2ca02c\",\"#ffbb78\",\"#2ca02c\",\"#aec7e8\",\"#2ca02c\",\"#2ca02c\",\"#ffbb78\",\"#2ca02c\",\"#2ca02c\",\"#2ca02c\",\"#2ca02c\",\"#2ca02c\",\"#2ca02c\",\"#2ca02c\",\"#ffbb78\",\"#ffbb78\",\"#aec7e8\",\"#2ca02c\",\"#ffbb78\",\"#ffbb78\",\"#c7c7c7\",\"#ffbb78\",\"#c7c7c7\",\"#ffbb78\",\"#ffbb78\",\"#c7c7c7\",\"#ffbb78\",\"#aec7e8\",\"#c7c7c7\",\"#ffbb78\",\"#aec7e8\",\"#c7c7c7\",\"#2ca02c\",\"#2ca02c\",\"#aec7e8\",\"#2ca02c\",\"#2ca02c\",\"#c7c7c7\",\"#ffbb78\",\"#2ca02c\",\"#aec7e8\",\"#c7c7c7\",\"#ffbb78\",\"#2ca02c\",\"#2ca02c\",\"#2ca02c\",\"#2ca02c\",\"#2ca02c\",\"#2ca02c\",\"#ffbb78\",\"#c7c7c7\",\"#aec7e8\",\"#2ca02c\",\"#2ca02c\",\"#c7c7c7\",\"#ffbb78\",\"#c7c7c7\",\"#2ca02c\",\"#aec7e8\",\"#2ca02c\",\"#2ca02c\",\"#ffbb78\",\"#2ca02c\",\"#2ca02c\",\"#ffbb78\",\"#ffbb78\",\"#aec7e8\",\"#ffbb78\",\"#2ca02c\",\"#2ca02c\",\"#2ca02c\",\"#2ca02c\",\"#ffbb78\",\"#2ca02c\",\"#ffbb78\",\"#2ca02c\",\"#aec7e8\",\"#aec7e8\",\"#2ca02c\",\"#aec7e8\",\"#ffbb78\",\"#c7c7c7\",\"#2ca02c\",\"#aec7e8\",\"#2ca02c\",\"#ffbb78\",\"#ffbb78\",\"#2ca02c\",\"#2ca02c\",\"#aec7e8\",\"#aec7e8\",\"#c7c7c7\",\"#c7c7c7\",\"#ffbb78\",\"#ffbb78\",\"#c7c7c7\",\"#2ca02c\",\"#2ca02c\",\"#ffbb78\",\"#c7c7c7\",\"#ffbb78\",\"#ffbb78\",\"#aec7e8\",\"#2ca02c\",\"#aec7e8\",\"#ffbb78\",\"#ffbb78\",\"#2ca02c\",\"#c7c7c7\",\"#ffbb78\",\"#c7c7c7\",\"#aec7e8\",\"#c7c7c7\",\"#ffbb78\",\"#ffbb78\",\"#ffbb78\",\"#2ca02c\",\"#c7c7c7\",\"#aec7e8\",\"#ffbb78\",\"#2ca02c\",\"#aec7e8\",\"#aec7e8\",\"#ffbb78\",\"#ffbb78\",\"#c7c7c7\",\"#2ca02c\",\"#2ca02c\",\"#2ca02c\",\"#ffbb78\",\"#aec7e8\",\"#ffbb78\",\"#ffbb78\",\"#2ca02c\",\"#aec7e8\",\"#c7c7c7\",\"#ffbb78\",\"#ffbb78\",\"#ffbb78\",\"#ffbb78\",\"#2ca02c\",\"#ffbb78\",\"#ffbb78\",\"#ffbb78\",\"#2ca02c\",\"#c7c7c7\",\"#aec7e8\",\"#aec7e8\",\"#2ca02c\",\"#aec7e8\",\"#ffbb78\",\"#2ca02c\",\"#2ca02c\",\"#2ca02c\",\"#2ca02c\",\"#aec7e8\",\"#2ca02c\",\"#ffbb78\",\"#ffbb78\",\"#2ca02c\",\"#2ca02c\",\"#c7c7c7\",\"#c7c7c7\",\"#aec7e8\",\"#aec7e8\",\"#2ca02c\",\"#c7c7c7\",\"#2ca02c\",\"#2ca02c\",\"#ffbb78\",\"#c7c7c7\",\"#2ca02c\",\"#2ca02c\",\"#2ca02c\",\"#2ca02c\",\"#2ca02c\",\"#aec7e8\",\"#aec7e8\",\"#2ca02c\",\"#c7c7c7\",\"#2ca02c\",\"#ffbb78\",\"#ffbb78\",\"#aec7e8\",\"#2ca02c\",\"#2ca02c\",\"#ffbb78\",\"#c7c7c7\",\"#ffbb78\",\"#aec7e8\",\"#c7c7c7\",\"#ffbb78\",\"#c7c7c7\",\"#2ca02c\",\"#ffbb78\",\"#2ca02c\",\"#ffbb78\",\"#2ca02c\",\"#2ca02c\",\"#c7c7c7\",\"#ffbb78\",\"#aec7e8\",\"#c7c7c7\",\"#ffbb78\",\"#ffbb78\",\"#ffbb78\",\"#2ca02c\",\"#2ca02c\",\"#2ca02c\",\"#ffbb78\",\"#ffbb78\",\"#ffbb78\",\"#aec7e8\",\"#ffbb78\",\"#2ca02c\",\"#aec7e8\",\"#ffbb78\",\"#ffbb78\",\"#aec7e8\",\"#2ca02c\",\"#c7c7c7\",\"#aec7e8\",\"#ffbb78\",\"#ffbb78\",\"#ffbb78\",\"#2ca02c\",\"#2ca02c\",\"#ffbb78\",\"#ffbb78\",\"#aec7e8\",\"#c7c7c7\",\"#ffbb78\",\"#2ca02c\",\"#ffbb78\",\"#ffbb78\",\"#c7c7c7\",\"#c7c7c7\",\"#2ca02c\",\"#aec7e8\",\"#ffbb78\",\"#ffbb78\",\"#ffbb78\",\"#ffbb78\",\"#ffbb78\",\"#c7c7c7\",\"#2ca02c\",\"#ffbb78\",\"#ffbb78\",\"#ffbb78\",\"#aec7e8\",\"#c7c7c7\",\"#c7c7c7\",\"#ffbb78\",\"#ffbb78\",\"#c7c7c7\",\"#ffbb78\",\"#ffbb78\",\"#2ca02c\",\"#c7c7c7\",\"#ffbb78\",\"#2ca02c\",\"#ffbb78\",\"#c7c7c7\",\"#aec7e8\",\"#2ca02c\",\"#aec7e8\",\"#ffbb78\",\"#ffbb78\",\"#ffbb78\",\"#ffbb78\",\"#ffbb78\",\"#ffbb78\",\"#2ca02c\",\"#ffbb78\",\"#ffbb78\",\"#ffbb78\",\"#c7c7c7\",\"#c7c7c7\",\"#ffbb78\",\"#aec7e8\",\"#aec7e8\",\"#c7c7c7\",\"#2ca02c\",\"#c7c7c7\",\"#c7c7c7\",\"#2ca02c\",\"#c7c7c7\",\"#2ca02c\",\"#2ca02c\",\"#ffbb78\",\"#2ca02c\",\"#c7c7c7\",\"#c7c7c7\",\"#2ca02c\",\"#2ca02c\",\"#aec7e8\",\"#ffbb78\",\"#ffbb78\",\"#aec7e8\",\"#2ca02c\",\"#c7c7c7\",\"#2ca02c\",\"#2ca02c\",\"#ffbb78\",\"#2ca02c\",\"#2ca02c\",\"#2ca02c\",\"#aec7e8\",\"#2ca02c\",\"#2ca02c\",\"#c7c7c7\",\"#2ca02c\",\"#2ca02c\",\"#c7c7c7\",\"#2ca02c\",\"#2ca02c\",\"#c7c7c7\",\"#2ca02c\",\"#2ca02c\",\"#ffbb78\",\"#2ca02c\",\"#2ca02c\",\"#2ca02c\",\"#ffbb78\",\"#aec7e8\",\"#2ca02c\",\"#ffbb78\",\"#ffbb78\",\"#c7c7c7\",\"#2ca02c\",\"#c7c7c7\",\"#ffbb78\",\"#aec7e8\",\"#c7c7c7\",\"#ffbb78\",\"#2ca02c\",\"#aec7e8\",\"#2ca02c\",\"#ffbb78\",\"#ffbb78\",\"#ffbb78\",\"#aec7e8\",\"#ffbb78\",\"#c7c7c7\",\"#c7c7c7\",\"#ffbb78\",\"#2ca02c\",\"#c7c7c7\",\"#2ca02c\",\"#ffbb78\",\"#aec7e8\",\"#ffbb78\",\"#aec7e8\",\"#c7c7c7\",\"#ffbb78\",\"#aec7e8\",\"#ffbb78\",\"#ffbb78\",\"#c7c7c7\",\"#ffbb78\",\"#2ca02c\",\"#aec7e8\",\"#aec7e8\",\"#2ca02c\",\"#c7c7c7\",\"#aec7e8\",\"#2ca02c\",\"#ffbb78\",\"#aec7e8\",\"#ffbb78\",\"#ffbb78\",\"#2ca02c\",\"#2ca02c\",\"#ffbb78\",\"#2ca02c\",\"#2ca02c\",\"#2ca02c\",\"#c7c7c7\",\"#ffbb78\",\"#ffbb78\",\"#2ca02c\",\"#2ca02c\",\"#aec7e8\",\"#2ca02c\",\"#2ca02c\",\"#2ca02c\",\"#aec7e8\",\"#ffbb78\",\"#aec7e8\",\"#aec7e8\",\"#ffbb78\",\"#ffbb78\",\"#ffbb78\",\"#ffbb78\",\"#ffbb78\",\"#ffbb78\",\"#aec7e8\",\"#c7c7c7\",\"#2ca02c\",\"#aec7e8\",\"#2ca02c\",\"#aec7e8\",\"#2ca02c\",\"#ffbb78\",\"#ffbb78\",\"#2ca02c\",\"#ffbb78\",\"#aec7e8\",\"#aec7e8\",\"#ffbb78\",\"#ffbb78\",\"#c7c7c7\",\"#ffbb78\",\"#c7c7c7\",\"#aec7e8\",\"#ffbb78\",\"#aec7e8\",\"#c7c7c7\",\"#2ca02c\",\"#ffbb78\",\"#aec7e8\",\"#aec7e8\",\"#2ca02c\",\"#aec7e8\",\"#2ca02c\",\"#aec7e8\",\"#aec7e8\",\"#ffbb78\",\"#ffbb78\",\"#aec7e8\",\"#aec7e8\",\"#2ca02c\",\"#ffbb78\",\"#c7c7c7\",\"#2ca02c\",\"#ffbb78\",\"#aec7e8\",\"#2ca02c\",\"#2ca02c\",\"#c7c7c7\",\"#ffbb78\",\"#2ca02c\",\"#2ca02c\",\"#aec7e8\",\"#c7c7c7\",\"#c7c7c7\",\"#ffbb78\",\"#ffbb78\",\"#ffbb78\",\"#aec7e8\",\"#ffbb78\",\"#ffbb78\",\"#aec7e8\",\"#2ca02c\",\"#2ca02c\",\"#c7c7c7\",\"#aec7e8\",\"#c7c7c7\",\"#aec7e8\",\"#2ca02c\",\"#2ca02c\",\"#2ca02c\",\"#2ca02c\",\"#c7c7c7\",\"#ffbb78\",\"#ffbb78\",\"#2ca02c\",\"#ffbb78\",\"#aec7e8\",\"#2ca02c\",\"#c7c7c7\",\"#aec7e8\",\"#ffbb78\",\"#2ca02c\",\"#2ca02c\",\"#2ca02c\",\"#ffbb78\",\"#c7c7c7\",\"#2ca02c\",\"#aec7e8\",\"#ffbb78\",\"#ffbb78\",\"#aec7e8\",\"#2ca02c\",\"#ffbb78\",\"#aec7e8\",\"#2ca02c\",\"#2ca02c\",\"#ffbb78\",\"#ffbb78\",\"#2ca02c\",\"#ffbb78\",\"#ffbb78\",\"#aec7e8\",\"#2ca02c\",\"#ffbb78\",\"#2ca02c\",\"#ffbb78\",\"#2ca02c\",\"#ffbb78\",\"#ffbb78\",\"#2ca02c\",\"#c7c7c7\",\"#2ca02c\",\"#ffbb78\",\"#2ca02c\",\"#ffbb78\",\"#ffbb78\",\"#aec7e8\",\"#c7c7c7\",\"#c7c7c7\",\"#c7c7c7\",\"#2ca02c\",\"#c7c7c7\",\"#2ca02c\",\"#ffbb78\",\"#ffbb78\",\"#c7c7c7\",\"#aec7e8\",\"#aec7e8\",\"#aec7e8\",\"#ffbb78\",\"#aec7e8\",\"#ffbb78\",\"#c7c7c7\",\"#ffbb78\",\"#ffbb78\",\"#aec7e8\",\"#ffbb78\",\"#aec7e8\",\"#ffbb78\",\"#ffbb78\",\"#2ca02c\",\"#ffbb78\",\"#ffbb78\",\"#aec7e8\",\"#aec7e8\",\"#aec7e8\",\"#aec7e8\",\"#2ca02c\",\"#aec7e8\",\"#2ca02c\",\"#2ca02c\",\"#ffbb78\",\"#2ca02c\",\"#2ca02c\",\"#2ca02c\",\"#ffbb78\",\"#2ca02c\",\"#ffbb78\",\"#ffbb78\",\"#2ca02c\",\"#c7c7c7\",\"#ffbb78\",\"#ffbb78\",\"#2ca02c\",\"#2ca02c\",\"#ffbb78\",\"#aec7e8\",\"#aec7e8\",\"#aec7e8\",\"#ffbb78\",\"#aec7e8\",\"#2ca02c\",\"#2ca02c\",\"#2ca02c\",\"#2ca02c\",\"#ffbb78\",\"#2ca02c\",\"#aec7e8\",\"#2ca02c\",\"#2ca02c\",\"#aec7e8\",\"#2ca02c\",\"#2ca02c\",\"#2ca02c\",\"#c7c7c7\",\"#ffbb78\",\"#aec7e8\",\"#aec7e8\",\"#aec7e8\",\"#2ca02c\",\"#aec7e8\",\"#aec7e8\",\"#aec7e8\",\"#2ca02c\",\"#2ca02c\",\"#2ca02c\",\"#2ca02c\",\"#2ca02c\",\"#aec7e8\",\"#2ca02c\",\"#ffbb78\",\"#ffbb78\",\"#2ca02c\",\"#aec7e8\",\"#2ca02c\",\"#ffbb78\",\"#c7c7c7\",\"#c7c7c7\",\"#aec7e8\",\"#2ca02c\",\"#2ca02c\",\"#2ca02c\",\"#aec7e8\",\"#ffbb78\",\"#ffbb78\",\"#2ca02c\",\"#2ca02c\",\"#2ca02c\",\"#aec7e8\",\"#aec7e8\",\"#aec7e8\",\"#aec7e8\",\"#2ca02c\",\"#aec7e8\",\"#2ca02c\",\"#ffbb78\",\"#2ca02c\",\"#c7c7c7\",\"#2ca02c\",\"#c7c7c7\",\"#2ca02c\",\"#ffbb78\",\"#c7c7c7\",\"#ffbb78\",\"#ffbb78\",\"#c7c7c7\",\"#ffbb78\",\"#2ca02c\",\"#c7c7c7\",\"#c7c7c7\",\"#ffbb78\",\"#ffbb78\",\"#2ca02c\",\"#2ca02c\",\"#2ca02c\",\"#aec7e8\",\"#2ca02c\",\"#c7c7c7\",\"#aec7e8\",\"#2ca02c\",\"#ffbb78\",\"#aec7e8\",\"#2ca02c\",\"#2ca02c\",\"#aec7e8\",\"#c7c7c7\",\"#aec7e8\",\"#aec7e8\",\"#ffbb78\",\"#aec7e8\",\"#aec7e8\",\"#aec7e8\",\"#ffbb78\",\"#c7c7c7\",\"#aec7e8\",\"#aec7e8\",\"#2ca02c\",\"#ffbb78\",\"#2ca02c\",\"#c7c7c7\",\"#ffbb78\",\"#c7c7c7\",\"#ffbb78\",\"#aec7e8\",\"#2ca02c\",\"#ffbb78\",\"#c7c7c7\",\"#2ca02c\",\"#ffbb78\",\"#ffbb78\",\"#2ca02c\",\"#2ca02c\",\"#ffbb78\",\"#c7c7c7\",\"#2ca02c\",\"#ffbb78\",\"#aec7e8\",\"#2ca02c\",\"#2ca02c\",\"#c7c7c7\",\"#c7c7c7\",\"#2ca02c\",\"#c7c7c7\",\"#ffbb78\",\"#2ca02c\",\"#aec7e8\",\"#aec7e8\",\"#ffbb78\",\"#aec7e8\",\"#ffbb78\",\"#aec7e8\",\"#c7c7c7\",\"#aec7e8\",\"#2ca02c\",\"#2ca02c\",\"#c7c7c7\",\"#2ca02c\",\"#2ca02c\",\"#ffbb78\",\"#c7c7c7\",\"#ffbb78\",\"#2ca02c\",\"#aec7e8\",\"#c7c7c7\",\"#ffbb78\",\"#ffbb78\",\"#aec7e8\",\"#2ca02c\",\"#aec7e8\",\"#ffbb78\",\"#c7c7c7\",\"#aec7e8\",\"#ffbb78\",\"#ffbb78\",\"#2ca02c\",\"#2ca02c\",\"#aec7e8\",\"#2ca02c\",\"#2ca02c\",\"#c7c7c7\",\"#2ca02c\",\"#ffbb78\",\"#2ca02c\",\"#ffbb78\",\"#ffbb78\",\"#2ca02c\",\"#aec7e8\",\"#ffbb78\",\"#aec7e8\",\"#ffbb78\",\"#2ca02c\",\"#c7c7c7\",\"#c7c7c7\",\"#2ca02c\",\"#2ca02c\",\"#aec7e8\",\"#ffbb78\",\"#c7c7c7\",\"#2ca02c\",\"#c7c7c7\",\"#ffbb78\",\"#aec7e8\",\"#2ca02c\",\"#ffbb78\",\"#c7c7c7\",\"#2ca02c\",\"#aec7e8\",\"#2ca02c\",\"#c7c7c7\",\"#2ca02c\",\"#ffbb78\",\"#2ca02c\",\"#c7c7c7\",\"#aec7e8\",\"#c7c7c7\",\"#aec7e8\",\"#c7c7c7\",\"#ffbb78\",\"#2ca02c\",\"#2ca02c\",\"#aec7e8\",\"#c7c7c7\",\"#2ca02c\",\"#ffbb78\",\"#ffbb78\",\"#2ca02c\",\"#2ca02c\",\"#2ca02c\",\"#aec7e8\",\"#ffbb78\",\"#aec7e8\",\"#aec7e8\",\"#2ca02c\",\"#ffbb78\",\"#ffbb78\",\"#ffbb78\",\"#2ca02c\",\"#2ca02c\",\"#aec7e8\",\"#aec7e8\",\"#2ca02c\",\"#c7c7c7\",\"#2ca02c\",\"#aec7e8\",\"#aec7e8\",\"#aec7e8\",\"#c7c7c7\",\"#ffbb78\",\"#ffbb78\",\"#aec7e8\",\"#aec7e8\",\"#2ca02c\",\"#aec7e8\",\"#2ca02c\",\"#ffbb78\",\"#ffbb78\",\"#ffbb78\",\"#2ca02c\",\"#aec7e8\",\"#c7c7c7\",\"#aec7e8\",\"#2ca02c\",\"#2ca02c\",\"#ffbb78\",\"#ffbb78\",\"#aec7e8\",\"#aec7e8\",\"#2ca02c\",\"#aec7e8\",\"#c7c7c7\",\"#aec7e8\",\"#aec7e8\",\"#2ca02c\",\"#ffbb78\",\"#2ca02c\",\"#ffbb78\",\"#ffbb78\",\"#aec7e8\",\"#ffbb78\",\"#2ca02c\",\"#ffbb78\",\"#2ca02c\",\"#2ca02c\",\"#2ca02c\",\"#2ca02c\",\"#2ca02c\",\"#ffbb78\",\"#2ca02c\",\"#2ca02c\",\"#aec7e8\",\"#ffbb78\",\"#2ca02c\",\"#aec7e8\",\"#ffbb78\",\"#2ca02c\",\"#2ca02c\",\"#ffbb78\",\"#ffbb78\",\"#ffbb78\",\"#2ca02c\",\"#ffbb78\",\"#ffbb78\",\"#aec7e8\",\"#2ca02c\",\"#aec7e8\",\"#aec7e8\",\"#c7c7c7\",\"#ffbb78\",\"#aec7e8\",\"#c7c7c7\",\"#aec7e8\",\"#c7c7c7\",\"#aec7e8\",\"#c7c7c7\",\"#2ca02c\",\"#c7c7c7\",\"#2ca02c\",\"#ffbb78\",\"#2ca02c\",\"#2ca02c\",\"#2ca02c\",\"#ffbb78\",\"#c7c7c7\",\"#aec7e8\",\"#ffbb78\",\"#2ca02c\",\"#2ca02c\",\"#2ca02c\",\"#ffbb78\",\"#2ca02c\",\"#c7c7c7\",\"#ffbb78\",\"#2ca02c\",\"#ffbb78\",\"#2ca02c\",\"#c7c7c7\",\"#c7c7c7\",\"#ffbb78\",\"#2ca02c\",\"#aec7e8\",\"#2ca02c\",\"#2ca02c\",\"#2ca02c\",\"#c7c7c7\",\"#ffbb78\",\"#aec7e8\",\"#2ca02c\",\"#ffbb78\",\"#aec7e8\",\"#ffbb78\",\"#aec7e8\",\"#2ca02c\",\"#ffbb78\",\"#c7c7c7\",\"#2ca02c\",\"#aec7e8\",\"#2ca02c\",\"#ffbb78\",\"#aec7e8\",\"#aec7e8\",\"#2ca02c\",\"#2ca02c\",\"#c7c7c7\",\"#2ca02c\",\"#2ca02c\",\"#ffbb78\",\"#aec7e8\",\"#c7c7c7\",\"#2ca02c\",\"#2ca02c\",\"#aec7e8\",\"#ffbb78\",\"#2ca02c\",\"#ffbb78\",\"#aec7e8\",\"#2ca02c\",\"#2ca02c\",\"#aec7e8\",\"#ffbb78\",\"#ffbb78\",\"#c7c7c7\",\"#2ca02c\",\"#aec7e8\",\"#2ca02c\",\"#2ca02c\",\"#aec7e8\",\"#c7c7c7\",\"#ffbb78\",\"#ffbb78\",\"#2ca02c\",\"#2ca02c\",\"#ffbb78\",\"#ffbb78\",\"#ffbb78\",\"#ffbb78\",\"#c7c7c7\",\"#ffbb78\",\"#ffbb78\",\"#c7c7c7\",\"#c7c7c7\",\"#aec7e8\",\"#c7c7c7\",\"#ffbb78\",\"#c7c7c7\",\"#2ca02c\",\"#ffbb78\",\"#2ca02c\",\"#c7c7c7\",\"#2ca02c\",\"#aec7e8\",\"#ffbb78\",\"#2ca02c\",\"#ffbb78\",\"#ffbb78\",\"#aec7e8\",\"#c7c7c7\",\"#2ca02c\",\"#ffbb78\",\"#2ca02c\",\"#aec7e8\",\"#c7c7c7\",\"#ffbb78\",\"#2ca02c\",\"#ffbb78\",\"#2ca02c\",\"#2ca02c\",\"#ffbb78\",\"#aec7e8\",\"#2ca02c\",\"#aec7e8\",\"#ffbb78\",\"#aec7e8\",\"#2ca02c\",\"#ffbb78\",\"#2ca02c\",\"#aec7e8\",\"#c7c7c7\",\"#2ca02c\",\"#2ca02c\",\"#ffbb78\",\"#2ca02c\",\"#c7c7c7\",\"#aec7e8\",\"#2ca02c\",\"#2ca02c\",\"#ffbb78\",\"#c7c7c7\",\"#c7c7c7\",\"#2ca02c\",\"#aec7e8\",\"#2ca02c\",\"#aec7e8\",\"#aec7e8\",\"#2ca02c\",\"#2ca02c\",\"#2ca02c\",\"#aec7e8\",\"#2ca02c\",\"#2ca02c\",\"#2ca02c\",\"#2ca02c\",\"#2ca02c\",\"#ffbb78\",\"#2ca02c\",\"#ffbb78\",\"#c7c7c7\",\"#aec7e8\",\"#2ca02c\",\"#ffbb78\",\"#2ca02c\",\"#c7c7c7\",\"#ffbb78\",\"#aec7e8\",\"#2ca02c\",\"#c7c7c7\",\"#ffbb78\",\"#aec7e8\",\"#2ca02c\",\"#2ca02c\",\"#ffbb78\",\"#ffbb78\",\"#2ca02c\",\"#2ca02c\",\"#2ca02c\",\"#aec7e8\",\"#ffbb78\",\"#ffbb78\",\"#2ca02c\",\"#aec7e8\",\"#c7c7c7\",\"#ffbb78\",\"#c7c7c7\",\"#ffbb78\",\"#ffbb78\",\"#2ca02c\",\"#aec7e8\",\"#ffbb78\",\"#2ca02c\",\"#2ca02c\",\"#ffbb78\",\"#aec7e8\",\"#2ca02c\",\"#2ca02c\",\"#ffbb78\",\"#aec7e8\",\"#2ca02c\",\"#ffbb78\",\"#c7c7c7\",\"#2ca02c\",\"#aec7e8\",\"#ffbb78\",\"#2ca02c\",\"#ffbb78\",\"#ffbb78\",\"#c7c7c7\",\"#2ca02c\",\"#2ca02c\",\"#aec7e8\",\"#ffbb78\",\"#ffbb78\",\"#ffbb78\",\"#2ca02c\",\"#ffbb78\",\"#2ca02c\",\"#ffbb78\",\"#c7c7c7\",\"#aec7e8\",\"#ffbb78\",\"#aec7e8\",\"#ffbb78\",\"#c7c7c7\",\"#2ca02c\",\"#2ca02c\",\"#2ca02c\",\"#2ca02c\",\"#ffbb78\",\"#ffbb78\",\"#aec7e8\",\"#aec7e8\",\"#2ca02c\",\"#ffbb78\",\"#ffbb78\",\"#aec7e8\",\"#ffbb78\",\"#2ca02c\",\"#ffbb78\",\"#ffbb78\",\"#ffbb78\",\"#ffbb78\",\"#c7c7c7\",\"#ffbb78\",\"#c7c7c7\",\"#2ca02c\",\"#2ca02c\",\"#aec7e8\",\"#2ca02c\",\"#ffbb78\",\"#aec7e8\",\"#aec7e8\",\"#aec7e8\",\"#2ca02c\",\"#ffbb78\",\"#2ca02c\",\"#c7c7c7\",\"#2ca02c\",\"#2ca02c\",\"#aec7e8\",\"#aec7e8\",\"#c7c7c7\",\"#2ca02c\",\"#aec7e8\",\"#2ca02c\",\"#c7c7c7\",\"#2ca02c\",\"#2ca02c\",\"#ffbb78\",\"#ffbb78\",\"#aec7e8\",\"#aec7e8\",\"#2ca02c\",\"#2ca02c\",\"#c7c7c7\",\"#ffbb78\",\"#c7c7c7\",\"#2ca02c\",\"#aec7e8\",\"#2ca02c\",\"#aec7e8\",\"#2ca02c\",\"#2ca02c\",\"#aec7e8\",\"#aec7e8\",\"#ffbb78\",\"#c7c7c7\",\"#2ca02c\",\"#ffbb78\",\"#2ca02c\",\"#aec7e8\",\"#2ca02c\",\"#2ca02c\",\"#aec7e8\",\"#2ca02c\",\"#c7c7c7\",\"#ffbb78\",\"#2ca02c\",\"#2ca02c\",\"#c7c7c7\",\"#aec7e8\",\"#aec7e8\",\"#ffbb78\",\"#2ca02c\",\"#ffbb78\",\"#2ca02c\",\"#ffbb78\",\"#ffbb78\",\"#c7c7c7\",\"#c7c7c7\",\"#ffbb78\",\"#ffbb78\",\"#aec7e8\",\"#ffbb78\",\"#aec7e8\",\"#ffbb78\",\"#ffbb78\",\"#ffbb78\",\"#aec7e8\",\"#2ca02c\",\"#2ca02c\",\"#2ca02c\",\"#aec7e8\",\"#ffbb78\",\"#2ca02c\",\"#aec7e8\",\"#ffbb78\",\"#c7c7c7\",\"#aec7e8\",\"#ffbb78\",\"#c7c7c7\",\"#ffbb78\",\"#c7c7c7\",\"#ffbb78\",\"#2ca02c\",\"#2ca02c\",\"#aec7e8\",\"#aec7e8\",\"#2ca02c\",\"#c7c7c7\",\"#ffbb78\",\"#ffbb78\",\"#2ca02c\",\"#ffbb78\",\"#aec7e8\",\"#ffbb78\",\"#aec7e8\",\"#ffbb78\",\"#2ca02c\",\"#aec7e8\",\"#ffbb78\",\"#ffbb78\",\"#2ca02c\",\"#2ca02c\",\"#c7c7c7\",\"#aec7e8\",\"#aec7e8\",\"#c7c7c7\",\"#ffbb78\",\"#ffbb78\",\"#ffbb78\",\"#2ca02c\",\"#2ca02c\",\"#aec7e8\",\"#ffbb78\",\"#c7c7c7\",\"#ffbb78\",\"#2ca02c\",\"#2ca02c\",\"#ffbb78\",\"#2ca02c\",\"#ffbb78\",\"#ffbb78\",\"#ffbb78\",\"#ffbb78\",\"#ffbb78\",\"#ffbb78\",\"#aec7e8\",\"#2ca02c\",\"#aec7e8\",\"#2ca02c\",\"#aec7e8\",\"#2ca02c\",\"#ffbb78\",\"#2ca02c\",\"#2ca02c\",\"#2ca02c\",\"#c7c7c7\",\"#c7c7c7\",\"#2ca02c\",\"#2ca02c\",\"#ffbb78\",\"#ffbb78\",\"#2ca02c\",\"#2ca02c\",\"#aec7e8\",\"#ffbb78\",\"#ffbb78\",\"#aec7e8\",\"#2ca02c\",\"#2ca02c\",\"#ffbb78\",\"#ffbb78\",\"#aec7e8\",\"#2ca02c\",\"#2ca02c\",\"#2ca02c\",\"#c7c7c7\",\"#aec7e8\",\"#2ca02c\",\"#aec7e8\",\"#ffbb78\",\"#aec7e8\",\"#c7c7c7\",\"#ffbb78\",\"#aec7e8\",\"#2ca02c\",\"#aec7e8\",\"#2ca02c\",\"#2ca02c\",\"#2ca02c\",\"#ffbb78\",\"#2ca02c\",\"#ffbb78\",\"#c7c7c7\",\"#aec7e8\",\"#2ca02c\",\"#aec7e8\",\"#2ca02c\",\"#c7c7c7\",\"#aec7e8\",\"#aec7e8\",\"#2ca02c\",\"#2ca02c\",\"#ffbb78\",\"#aec7e8\",\"#2ca02c\",\"#c7c7c7\",\"#c7c7c7\",\"#2ca02c\",\"#aec7e8\",\"#2ca02c\",\"#c7c7c7\",\"#c7c7c7\",\"#2ca02c\",\"#2ca02c\",\"#c7c7c7\",\"#2ca02c\",\"#c7c7c7\",\"#aec7e8\",\"#aec7e8\",\"#c7c7c7\",\"#2ca02c\",\"#c7c7c7\",\"#2ca02c\",\"#ffbb78\",\"#aec7e8\",\"#aec7e8\",\"#c7c7c7\",\"#ffbb78\",\"#2ca02c\",\"#2ca02c\",\"#2ca02c\",\"#aec7e8\",\"#2ca02c\",\"#ffbb78\",\"#ffbb78\",\"#c7c7c7\",\"#c7c7c7\",\"#2ca02c\",\"#2ca02c\",\"#2ca02c\",\"#aec7e8\",\"#c7c7c7\",\"#aec7e8\",\"#aec7e8\",\"#ffbb78\",\"#2ca02c\",\"#aec7e8\",\"#ffbb78\",\"#ffbb78\",\"#c7c7c7\",\"#2ca02c\",\"#aec7e8\",\"#2ca02c\",\"#2ca02c\",\"#aec7e8\",\"#aec7e8\",\"#2ca02c\",\"#c7c7c7\",\"#aec7e8\",\"#ffbb78\",\"#2ca02c\",\"#ffbb78\",\"#c7c7c7\",\"#c7c7c7\",\"#2ca02c\",\"#2ca02c\",\"#ffbb78\",\"#aec7e8\",\"#ffbb78\",\"#2ca02c\",\"#2ca02c\",\"#c7c7c7\",\"#2ca02c\",\"#2ca02c\",\"#aec7e8\",\"#ffbb78\",\"#2ca02c\",\"#ffbb78\",\"#aec7e8\",\"#2ca02c\",\"#2ca02c\",\"#aec7e8\",\"#2ca02c\",\"#ffbb78\",\"#2ca02c\",\"#ffbb78\",\"#2ca02c\",\"#aec7e8\",\"#ffbb78\",\"#ffbb78\",\"#ffbb78\",\"#2ca02c\",\"#aec7e8\",\"#aec7e8\",\"#2ca02c\",\"#aec7e8\",\"#2ca02c\",\"#aec7e8\",\"#2ca02c\",\"#c7c7c7\",\"#ffbb78\",\"#2ca02c\",\"#aec7e8\",\"#aec7e8\",\"#ffbb78\",\"#ffbb78\",\"#ffbb78\",\"#aec7e8\",\"#aec7e8\",\"#aec7e8\",\"#ffbb78\",\"#2ca02c\",\"#c7c7c7\",\"#2ca02c\",\"#c7c7c7\",\"#2ca02c\",\"#ffbb78\",\"#aec7e8\",\"#ffbb78\",\"#2ca02c\",\"#aec7e8\",\"#ffbb78\",\"#ffbb78\",\"#aec7e8\",\"#ffbb78\",\"#ffbb78\",\"#ffbb78\",\"#ffbb78\",\"#ffbb78\",\"#ffbb78\",\"#ffbb78\",\"#ffbb78\",\"#ffbb78\",\"#ffbb78\",\"#ffbb78\",\"#ffbb78\",\"#ffbb78\",\"#ffbb78\",\"#ffbb78\",\"#ffbb78\",\"#ffbb78\",\"#ffbb78\",\"#ffbb78\",\"#ffbb78\",\"#ffbb78\",\"#ffbb78\",\"#ffbb78\",\"#ffbb78\",\"#ffbb78\",\"#ffbb78\",\"#ffbb78\",\"#ffbb78\",\"#ffbb78\",\"#ffbb78\",\"#ffbb78\",\"#ffbb78\",\"#c7c7c7\",\"#ffbb78\",\"#ffbb78\",\"#ffbb78\",\"#2ca02c\",\"#ffbb78\",\"#ffbb78\",\"#ffbb78\",\"#ffbb78\",\"#ffbb78\",\"#ffbb78\",\"#ffbb78\",\"#ffbb78\",\"#ffbb78\",\"#ffbb78\",\"#ffbb78\",\"#ffbb78\",\"#c7c7c7\",\"#ffbb78\",\"#ffbb78\",\"#ffbb78\",\"#ffbb78\",\"#ffbb78\",\"#ffbb78\",\"#ffbb78\",\"#aec7e8\",\"#ffbb78\",\"#ffbb78\",\"#ffbb78\",\"#ffbb78\",\"#ffbb78\",\"#ffbb78\",\"#c7c7c7\",\"#ffbb78\",\"#ffbb78\",\"#ffbb78\",\"#ffbb78\",\"#ffbb78\",\"#ffbb78\",\"#ffbb78\",\"#ffbb78\",\"#ffbb78\",\"#ffbb78\",\"#ffbb78\",\"#2ca02c\",\"#2ca02c\",\"#aec7e8\",\"#2ca02c\",\"#ffbb78\",\"#aec7e8\",\"#aec7e8\",\"#aec7e8\",\"#2ca02c\",\"#aec7e8\",\"#ffbb78\",\"#ffbb78\",\"#ffbb78\",\"#2ca02c\",\"#aec7e8\",\"#aec7e8\",\"#2ca02c\",\"#c7c7c7\",\"#2ca02c\",\"#ffbb78\",\"#aec7e8\",\"#2ca02c\",\"#2ca02c\",\"#2ca02c\",\"#2ca02c\",\"#2ca02c\",\"#2ca02c\",\"#2ca02c\",\"#c7c7c7\",\"#2ca02c\",\"#aec7e8\",\"#aec7e8\",\"#aec7e8\",\"#2ca02c\"],\"x\":{\"__ndarray__\":\"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\",\"dtype\":\"float32\",\"shape\":[3293]},\"y\":{\"__ndarray__\":\"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\",\"dtype\":\"float32\",\"shape\":[3293]}},\"selected\":{\"id\":\"1052\",\"type\":\"Selection\"},\"selection_policy\":{\"id\":\"1051\",\"type\":\"UnionRenderers\"}},\"id\":\"1037\",\"type\":\"ColumnDataSource\"},{\"attributes\":{\"plot\":{\"id\":\"1002\",\"subtype\":\"Figure\",\"type\":\"Plot\"},\"text\":\"growing pay money growth making getting things long management gas\",\"text_color\":{\"value\":\"#c7c7c7\"},\"x\":-0.893719494342804,\"y\":-21.234760284423828},\"id\":\"1042\",\"type\":\"Label\"},{\"attributes\":{},\"id\":\"1022\",\"type\":\"PanTool\"},{\"attributes\":{},\"id\":\"1023\",\"type\":\"WheelZoomTool\"},{\"attributes\":{},\"id\":\"1051\",\"type\":\"UnionRenderers\"},{\"attributes\":{\"overlay\":{\"id\":\"1030\",\"type\":\"BoxAnnotation\"}},\"id\":\"1024\",\"type\":\"BoxZoomTool\"},{\"attributes\":{},\"id\":\"1025\",\"type\":\"SaveTool\"},{\"attributes\":{\"plot\":null,\"text\":\"t-SNE Clustering of 4 LDA Topics\"},\"id\":\"1001\",\"type\":\"Title\"},{\"attributes\":{},\"id\":\"1026\",\"type\":\"ResetTool\"},{\"attributes\":{},\"id\":\"1027\",\"type\":\"HelpTool\"},{\"attributes\":{\"callback\":null},\"id\":\"1004\",\"type\":\"DataRange1d\"}],\"root_ids\":[\"1002\"]},\"title\":\"Bokeh Application\",\"version\":\"1.0.4\"}};\n",
              "  var render_items = [{\"docid\":\"760268e1-0f00-4319-ae5e-32bd4f1e58eb\",\"roots\":{\"1002\":\"557a294c-04fb-4de0-b6ad-89211f5553bb\"}}];\n",
              "  root.Bokeh.embed.embed_items_notebook(docs_json, render_items);\n",
              "\n",
              "  }\n",
              "  if (root.Bokeh !== undefined) {\n",
              "    embed_document(root);\n",
              "  } else {\n",
              "    var attempts = 0;\n",
              "    var timer = setInterval(function(root) {\n",
              "      if (root.Bokeh !== undefined) {\n",
              "        embed_document(root);\n",
              "        clearInterval(timer);\n",
              "      }\n",
              "      attempts++;\n",
              "      if (attempts > 100) {\n",
              "        console.log(\"Bokeh: ERROR: Unable to run BokehJS code because BokehJS library is missing\");\n",
              "        clearInterval(timer);\n",
              "      }\n",
              "    }, 10, root)\n",
              "  }\n",
              "})(window);"
            ],
            "application/vnd.bokehjs_exec.v0+json": ""
          },
          "metadata": {
            "tags": [],
            "application/vnd.bokehjs_exec.v0+json": {
              "id": "1002"
            }
          }
        }
      ]
    },
    {
      "cell_type": "markdown",
      "metadata": {
        "id": "0fxqbPrx5dB7",
        "colab_type": "text"
      },
      "source": [
        "**Now , we are done with our analysis. We are now going to update our excel sheet by mapping the right reviews with the right topics. **"
      ]
    },
    {
      "cell_type": "code",
      "metadata": {
        "id": "1U-c44w0bc5H",
        "colab_type": "code",
        "colab": {}
      },
      "source": [
        "topic_mapping_pros= {\"growing pay money growth making getting things long management gas\" : \"0\",\n",
        "                     \"things team support fast bit issues pay drivers growth months\": \"1\",\n",
        "                     \"things growth takes pay culture employees think customers benefits rates\" : \"2\",\n",
        "                     \"income rating feel maintenance things miles passengers support pay team\" : \"3\" }\n",
        "\n",
        "\n",
        "\n"
      ],
      "execution_count": 0,
      "outputs": []
    },
    {
      "cell_type": "code",
      "metadata": {
        "id": "bzOKsIr0gzrc",
        "colab_type": "code",
        "colab": {}
      },
      "source": [
        "topic_indexes_list= list(map(str, positive_LDA_keys))"
      ],
      "execution_count": 0,
      "outputs": []
    },
    {
      "cell_type": "code",
      "metadata": {
        "id": "ZfzX5lYUhK9X",
        "colab_type": "code",
        "colab": {}
      },
      "source": [
        "rev_topic_mapping_pros = { v:k for k,v in topic_mapping_pros.items()}\n",
        "topic_mapped_positive_text= [rev_topic_mapping_pros.get(item,item)  for item in topic_indexes_list]"
      ],
      "execution_count": 0,
      "outputs": []
    },
    {
      "cell_type": "code",
      "metadata": {
        "id": "MaYl9inakDT1",
        "colab_type": "code",
        "colab": {}
      },
      "source": [
        "topic_mapping_cons= {\"uber drivers don management pay customers time company support employees\" :\"0\",\n",
        "                     \"pay car uber wear gas tear low vehicle driver time\" : \"1\",\n",
        "                     \"time hours make money long work job uber working like\" : \"2\",\n",
        "                     \"work company people lot life hard need balance uber fast\" : \"3\" }"
      ],
      "execution_count": 0,
      "outputs": []
    },
    {
      "cell_type": "code",
      "metadata": {
        "id": "WtZodUrtsaqA",
        "colab_type": "code",
        "colab": {}
      },
      "source": [
        "topic_indexes_list_cons= list(map(str, negative_LDA_keys))"
      ],
      "execution_count": 0,
      "outputs": []
    },
    {
      "cell_type": "code",
      "metadata": {
        "id": "IR7U318ysjLX",
        "colab_type": "code",
        "colab": {}
      },
      "source": [
        "rev_topic_mapping_cons = { v:k for k,v in topic_mapping_cons.items()}\n",
        "topic_mapped_negative_text= [rev_topic_mapping_cons.get(item,item)  for item in topic_indexes_list_cons]"
      ],
      "execution_count": 0,
      "outputs": []
    },
    {
      "cell_type": "code",
      "metadata": {
        "id": "2xyPe694s-TL",
        "colab_type": "code",
        "colab": {}
      },
      "source": [
        "pros_cons_reviews_data[\"Pros_topics\"]= topic_mapped_positive_text\n",
        "pros_cons_reviews_data[\"Cons_topics\"]= topic_mapped_negative_text"
      ],
      "execution_count": 0,
      "outputs": []
    },
    {
      "cell_type": "code",
      "metadata": {
        "id": "BgEb23X8t2s2",
        "colab_type": "code",
        "colab": {
          "base_uri": "https://localhost:8080/",
          "height": 1000
        },
        "outputId": "926ea7b7-a31d-4737-a177-1032b7cbbebb"
      },
      "source": [
        "pros_cons_reviews_data"
      ],
      "execution_count": 41,
      "outputs": [
        {
          "output_type": "execute_result",
          "data": {
            "text/html": [
              "<div>\n",
              "<style scoped>\n",
              "    .dataframe tbody tr th:only-of-type {\n",
              "        vertical-align: middle;\n",
              "    }\n",
              "\n",
              "    .dataframe tbody tr th {\n",
              "        vertical-align: top;\n",
              "    }\n",
              "\n",
              "    .dataframe thead th {\n",
              "        text-align: right;\n",
              "    }\n",
              "</style>\n",
              "<table border=\"1\" class=\"dataframe\">\n",
              "  <thead>\n",
              "    <tr style=\"text-align: right;\">\n",
              "      <th></th>\n",
              "      <th>Pros</th>\n",
              "      <th>Cons</th>\n",
              "      <th>Pros_topics</th>\n",
              "      <th>Cons_topics</th>\n",
              "    </tr>\n",
              "  </thead>\n",
              "  <tbody>\n",
              "    <tr>\n",
              "      <th>0</th>\n",
              "      <td>Good employee benefits, good intra company opp...</td>\n",
              "      <td>Processes are yet to be streamlined. A lot of ...</td>\n",
              "      <td>growing pay money growth making getting things...</td>\n",
              "      <td>work company people lot life hard need balance...</td>\n",
              "    </tr>\n",
              "    <tr>\n",
              "      <th>1</th>\n",
              "      <td>Nice environment and the work timings is great</td>\n",
              "      <td>No cons nice company to work</td>\n",
              "      <td>things growth takes pay culture employees thin...</td>\n",
              "      <td>work company people lot life hard need balance...</td>\n",
              "    </tr>\n",
              "    <tr>\n",
              "      <th>2</th>\n",
              "      <td>Good benfits and helps you grow in always</td>\n",
              "      <td>Nothing that i feel at the moment</td>\n",
              "      <td>growing pay money growth making getting things...</td>\n",
              "      <td>time hours make money long work job uber worki...</td>\n",
              "    </tr>\n",
              "    <tr>\n",
              "      <th>3</th>\n",
              "      <td>You get the ownership of your work, you get fu...</td>\n",
              "      <td>As Uber shifts towards becoming a mature compa...</td>\n",
              "      <td>things team support fast bit issues pay driver...</td>\n",
              "      <td>work company people lot life hard need balance...</td>\n",
              "    </tr>\n",
              "    <tr>\n",
              "      <th>4</th>\n",
              "      <td>Great team, culture, autonomy to employees, su...</td>\n",
              "      <td>None I can think of within three months of my ...</td>\n",
              "      <td>things growth takes pay culture employees thin...</td>\n",
              "      <td>work company people lot life hard need balance...</td>\n",
              "    </tr>\n",
              "    <tr>\n",
              "      <th>5</th>\n",
              "      <td>Extremely Friendly and Humble people with an e...</td>\n",
              "      <td>As an Intern cannot find any fault with the co...</td>\n",
              "      <td>things growth takes pay culture employees thin...</td>\n",
              "      <td>work company people lot life hard need balance...</td>\n",
              "    </tr>\n",
              "    <tr>\n",
              "      <th>6</th>\n",
              "      <td>Culture, Career growth, Flexibility, Flat Hier...</td>\n",
              "      <td>Office politics, favouritism are two cons I ca...</td>\n",
              "      <td>things growth takes pay culture employees thin...</td>\n",
              "      <td>time hours make money long work job uber worki...</td>\n",
              "    </tr>\n",
              "    <tr>\n",
              "      <th>7</th>\n",
              "      <td>Low gender wage gap in entry-level and mid-man...</td>\n",
              "      <td>Almost a 7 day work week</td>\n",
              "      <td>things growth takes pay culture employees thin...</td>\n",
              "      <td>uber drivers don management pay customers time...</td>\n",
              "    </tr>\n",
              "    <tr>\n",
              "      <th>8</th>\n",
              "      <td>Company Culture is really nice.</td>\n",
              "      <td>Full-time Employees can make you feel unwanted...</td>\n",
              "      <td>things growth takes pay culture employees thin...</td>\n",
              "      <td>time hours make money long work job uber worki...</td>\n",
              "    </tr>\n",
              "    <tr>\n",
              "      <th>0</th>\n",
              "      <td>Uber has an amazing work culture and amazing b...</td>\n",
              "      <td>Location outside of bangalore city.</td>\n",
              "      <td>things growth takes pay culture employees thin...</td>\n",
              "      <td>uber drivers don management pay customers time...</td>\n",
              "    </tr>\n",
              "    <tr>\n",
              "      <th>1</th>\n",
              "      <td>Best work environment,  great people and feels...</td>\n",
              "      <td>Not yet experienced any now</td>\n",
              "      <td>things growth takes pay culture employees thin...</td>\n",
              "      <td>uber drivers don management pay customers time...</td>\n",
              "    </tr>\n",
              "    <tr>\n",
              "      <th>2</th>\n",
              "      <td>Unmatched employee benefits,Good working ambei...</td>\n",
              "      <td>The external and internal payroll difference i...</td>\n",
              "      <td>growing pay money growth making getting things...</td>\n",
              "      <td>work company people lot life hard need balance...</td>\n",
              "    </tr>\n",
              "    <tr>\n",
              "      <th>3</th>\n",
              "      <td>Flat hierarchy. Benefits are good. Food in the...</td>\n",
              "      <td>As of now nothing as i haven't noticed anythin...</td>\n",
              "      <td>growing pay money growth making getting things...</td>\n",
              "      <td>uber drivers don management pay customers time...</td>\n",
              "    </tr>\n",
              "    <tr>\n",
              "      <th>4</th>\n",
              "      <td>Nice experience easily accessible and easily l...</td>\n",
              "      <td>There is no structure defined for work. One ha...</td>\n",
              "      <td>growing pay money growth making getting things...</td>\n",
              "      <td>work company people lot life hard need balance...</td>\n",
              "    </tr>\n",
              "    <tr>\n",
              "      <th>5</th>\n",
              "      <td>It's a good company to grow my career ...</td>\n",
              "      <td>1. Too much work for an individual</td>\n",
              "      <td>growing pay money growth making getting things...</td>\n",
              "      <td>work company people lot life hard need balance...</td>\n",
              "    </tr>\n",
              "    <tr>\n",
              "      <th>0</th>\n",
              "      <td>Early it gives good business but slowly slowly...</td>\n",
              "      <td>Net earning reduces to 12 / month</td>\n",
              "      <td>income rating feel maintenance things miles pa...</td>\n",
              "      <td>uber drivers don management pay customers time...</td>\n",
              "    </tr>\n",
              "    <tr>\n",
              "      <th>1</th>\n",
              "      <td>Compensation, Benefits, Flexibility. Nothing e...</td>\n",
              "      <td>No learning, Biased managers, No Meritocracy, ...</td>\n",
              "      <td>things team support fast bit issues pay driver...</td>\n",
              "      <td>uber drivers don management pay customers time...</td>\n",
              "    </tr>\n",
              "    <tr>\n",
              "      <th>2</th>\n",
              "      <td>The Work Environment is really Nice, No formal...</td>\n",
              "      <td>They could have a more comprehensive training ...</td>\n",
              "      <td>things growth takes pay culture employees thin...</td>\n",
              "      <td>uber drivers don management pay customers time...</td>\n",
              "    </tr>\n",
              "    <tr>\n",
              "      <th>3</th>\n",
              "      <td>Flexible time with friendly work environment</td>\n",
              "      <td>You can expect sudden work calls which can be ...</td>\n",
              "      <td>income rating feel maintenance things miles pa...</td>\n",
              "      <td>time hours make money long work job uber worki...</td>\n",
              "    </tr>\n",
              "    <tr>\n",
              "      <th>4</th>\n",
              "      <td>Good working environment, flexible working hours.</td>\n",
              "      <td>Less opportunities for the growth</td>\n",
              "      <td>income rating feel maintenance things miles pa...</td>\n",
              "      <td>work company people lot life hard need balance...</td>\n",
              "    </tr>\n",
              "    <tr>\n",
              "      <th>5</th>\n",
              "      <td>Great salary and benefits. Decent work life ba...</td>\n",
              "      <td>Extreme centralization to decisions and only d...</td>\n",
              "      <td>things team support fast bit issues pay driver...</td>\n",
              "      <td>work company people lot life hard need balance...</td>\n",
              "    </tr>\n",
              "    <tr>\n",
              "      <th>6</th>\n",
              "      <td>Work environment is very good</td>\n",
              "      <td>Being a remote location does have an impact in...</td>\n",
              "      <td>things growth takes pay culture employees thin...</td>\n",
              "      <td>uber drivers don management pay customers time...</td>\n",
              "    </tr>\n",
              "    <tr>\n",
              "      <th>7</th>\n",
              "      <td>Can enhance your  qualities</td>\n",
              "      <td>Its a 3rd party pay roll</td>\n",
              "      <td>growing pay money growth making getting things...</td>\n",
              "      <td>pay car uber wear gas tear low vehicle driver ...</td>\n",
              "    </tr>\n",
              "    <tr>\n",
              "      <th>8</th>\n",
              "      <td>The benefits are awesome and the kind of oppor...</td>\n",
              "      <td>Poor management at higher level</td>\n",
              "      <td>things growth takes pay culture employees thin...</td>\n",
              "      <td>uber drivers don management pay customers time...</td>\n",
              "    </tr>\n",
              "    <tr>\n",
              "      <th>0</th>\n",
              "      <td>Good  learning experience from seniors and man...</td>\n",
              "      <td>Management is worst. If you know how to play p...</td>\n",
              "      <td>growing pay money growth making getting things...</td>\n",
              "      <td>uber drivers don management pay customers time...</td>\n",
              "    </tr>\n",
              "    <tr>\n",
              "      <th>1</th>\n",
              "      <td>No positives. They don't care for business par...</td>\n",
              "      <td>1. Even though the work is good, ownership of ...</td>\n",
              "      <td>things team support fast bit issues pay driver...</td>\n",
              "      <td>work company people lot life hard need balance...</td>\n",
              "    </tr>\n",
              "    <tr>\n",
              "      <th>2</th>\n",
              "      <td>Good office and nice food managers are very fr...</td>\n",
              "      <td>Growth constraint in terms of promotion</td>\n",
              "      <td>growing pay money growth making getting things...</td>\n",
              "      <td>work company people lot life hard need balance...</td>\n",
              "    </tr>\n",
              "    <tr>\n",
              "      <th>3</th>\n",
              "      <td>Employee liberty and Employee centric organisa...</td>\n",
              "      <td>Worst helpline/call center/email compliant system</td>\n",
              "      <td>growing pay money growth making getting things...</td>\n",
              "      <td>uber drivers don management pay customers time...</td>\n",
              "    </tr>\n",
              "    <tr>\n",
              "      <th>4</th>\n",
              "      <td>work environment is good but should bare with ...</td>\n",
              "      <td>Less salary hikes no recognition for hard work</td>\n",
              "      <td>growing pay money growth making getting things...</td>\n",
              "      <td>work company people lot life hard need balance...</td>\n",
              "    </tr>\n",
              "    <tr>\n",
              "      <th>5</th>\n",
              "      <td>Positive leadership attitude. Team builders. E...</td>\n",
              "      <td>Should also have stringent HR guidelines when ...</td>\n",
              "      <td>things team support fast bit issues pay driver...</td>\n",
              "      <td>work company people lot life hard need balance...</td>\n",
              "    </tr>\n",
              "    <tr>\n",
              "      <th>...</th>\n",
              "      <td>...</td>\n",
              "      <td>...</td>\n",
              "      <td>...</td>\n",
              "      <td>...</td>\n",
              "    </tr>\n",
              "    <tr>\n",
              "      <th>2</th>\n",
              "      <td>I've been working at UBER for over a year, and...</td>\n",
              "      <td>Took nearly a month to be approved as a driver...</td>\n",
              "      <td>things growth takes pay culture employees thin...</td>\n",
              "      <td>pay car uber wear gas tear low vehicle driver ...</td>\n",
              "    </tr>\n",
              "    <tr>\n",
              "      <th>3</th>\n",
              "      <td>work on your own time</td>\n",
              "      <td>Fares are too low when making only 80%.  You h...</td>\n",
              "      <td>things team support fast bit issues pay driver...</td>\n",
              "      <td>pay car uber wear gas tear low vehicle driver ...</td>\n",
              "    </tr>\n",
              "    <tr>\n",
              "      <th>0</th>\n",
              "      <td>You can work when you want.</td>\n",
              "      <td>Everything else.  Seriously.  If you want to s...</td>\n",
              "      <td>things team support fast bit issues pay driver...</td>\n",
              "      <td>uber drivers don management pay customers time...</td>\n",
              "    </tr>\n",
              "    <tr>\n",
              "      <th>1</th>\n",
              "      <td>Large user base, easy to find a ride and a fare.</td>\n",
              "      <td>different customers, some customers are just h...</td>\n",
              "      <td>things team support fast bit issues pay driver...</td>\n",
              "      <td>uber drivers don management pay customers time...</td>\n",
              "    </tr>\n",
              "    <tr>\n",
              "      <th>2</th>\n",
              "      <td>if you have a car, want to make some quick mon...</td>\n",
              "      <td>Lots of pressure, long hours (face-time is emp...</td>\n",
              "      <td>income rating feel maintenance things miles pa...</td>\n",
              "      <td>time hours make money long work job uber worki...</td>\n",
              "    </tr>\n",
              "    <tr>\n",
              "      <th>3</th>\n",
              "      <td>The product is great and it's nice that the co...</td>\n",
              "      <td>Requires a clean, 4-door, somewhat new and cle...</td>\n",
              "      <td>things team support fast bit issues pay driver...</td>\n",
              "      <td>uber drivers don management pay customers time...</td>\n",
              "    </tr>\n",
              "    <tr>\n",
              "      <th>4</th>\n",
              "      <td>Adds additional income if needed.  No stress i...</td>\n",
              "      <td>Need another job to support this one, I found ...</td>\n",
              "      <td>things growth takes pay culture employees thin...</td>\n",
              "      <td>pay car uber wear gas tear low vehicle driver ...</td>\n",
              "    </tr>\n",
              "    <tr>\n",
              "      <th>5</th>\n",
              "      <td>The only good thing about Uber is weekly money...</td>\n",
              "      <td>In the operations side, there is a kool-aid li...</td>\n",
              "      <td>things growth takes pay culture employees thin...</td>\n",
              "      <td>time hours make money long work job uber worki...</td>\n",
              "    </tr>\n",
              "    <tr>\n",
              "      <th>6</th>\n",
              "      <td>As a full time employee, the perks are great; ...</td>\n",
              "      <td>Several: Ratings are an issue as there is no i...</td>\n",
              "      <td>things growth takes pay culture employees thin...</td>\n",
              "      <td>pay car uber wear gas tear low vehicle driver ...</td>\n",
              "    </tr>\n",
              "    <tr>\n",
              "      <th>0</th>\n",
              "      <td>flexible schedule, friendly and interesting cl...</td>\n",
              "      <td>terrible driver support, no phone number to ca...</td>\n",
              "      <td>income rating feel maintenance things miles pa...</td>\n",
              "      <td>pay car uber wear gas tear low vehicle driver ...</td>\n",
              "    </tr>\n",
              "    <tr>\n",
              "      <th>1</th>\n",
              "      <td>Flexibility in the schedule, Meeting nice peop...</td>\n",
              "      <td>When they added the $10/week charge to use the...</td>\n",
              "      <td>things team support fast bit issues pay driver...</td>\n",
              "      <td>pay car uber wear gas tear low vehicle driver ...</td>\n",
              "    </tr>\n",
              "    <tr>\n",
              "      <th>2</th>\n",
              "      <td>The flexibility of driving for Uber is nice, b...</td>\n",
              "      <td>Uber continues to lower prices as it battles L...</td>\n",
              "      <td>things team support fast bit issues pay driver...</td>\n",
              "      <td>uber drivers don management pay customers time...</td>\n",
              "    </tr>\n",
              "    <tr>\n",
              "      <th>3</th>\n",
              "      <td>Flexibility, in command of your own schedule, ...</td>\n",
              "      <td>The best paying hours may not match what you a...</td>\n",
              "      <td>income rating feel maintenance things miles pa...</td>\n",
              "      <td>pay car uber wear gas tear low vehicle driver ...</td>\n",
              "    </tr>\n",
              "    <tr>\n",
              "      <th>4</th>\n",
              "      <td>Better than the slimy taxi cab drivers</td>\n",
              "      <td>Constant pay cuts and a really stupid driver r...</td>\n",
              "      <td>growing pay money growth making getting things...</td>\n",
              "      <td>pay car uber wear gas tear low vehicle driver ...</td>\n",
              "    </tr>\n",
              "    <tr>\n",
              "      <th>5</th>\n",
              "      <td>create own schedule, weekly pay, no boss,  fle...</td>\n",
              "      <td>Scared of ratings. No way to know what went wr...</td>\n",
              "      <td>income rating feel maintenance things miles pa...</td>\n",
              "      <td>uber drivers don management pay customers time...</td>\n",
              "    </tr>\n",
              "    <tr>\n",
              "      <th>6</th>\n",
              "      <td>Uber's help in getting riders is great! It als...</td>\n",
              "      <td>drunk people, long periods of sitting if allowed</td>\n",
              "      <td>things growth takes pay culture employees thin...</td>\n",
              "      <td>work company people lot life hard need balance...</td>\n",
              "    </tr>\n",
              "    <tr>\n",
              "      <th>0</th>\n",
              "      <td>Flexibility is by far the best Pro.....awesome...</td>\n",
              "      <td>Pay was reasonable until they recently cut pri...</td>\n",
              "      <td>things team support fast bit issues pay driver...</td>\n",
              "      <td>pay car uber wear gas tear low vehicle driver ...</td>\n",
              "    </tr>\n",
              "    <tr>\n",
              "      <th>1</th>\n",
              "      <td>You can set your own hours and work as much as...</td>\n",
              "      <td>You have no phone number to contact them with....</td>\n",
              "      <td>income rating feel maintenance things miles pa...</td>\n",
              "      <td>uber drivers don management pay customers time...</td>\n",
              "    </tr>\n",
              "    <tr>\n",
              "      <th>2</th>\n",
              "      <td>Need zero experience. You can set your own hou...</td>\n",
              "      <td>1) The number one problem is the RATING SYSTEM...</td>\n",
              "      <td>income rating feel maintenance things miles pa...</td>\n",
              "      <td>pay car uber wear gas tear low vehicle driver ...</td>\n",
              "    </tr>\n",
              "    <tr>\n",
              "      <th>3</th>\n",
              "      <td>The only pro is you can work whenever you like...</td>\n",
              "      <td>Your hourly rate can vary from $10 to maybe $3...</td>\n",
              "      <td>income rating feel maintenance things miles pa...</td>\n",
              "      <td>pay car uber wear gas tear low vehicle driver ...</td>\n",
              "    </tr>\n",
              "    <tr>\n",
              "      <th>4</th>\n",
              "      <td>work your own hours. perfect for part-time.</td>\n",
              "      <td>Working for them in the beginning was good mon...</td>\n",
              "      <td>income rating feel maintenance things miles pa...</td>\n",
              "      <td>time hours make money long work job uber worki...</td>\n",
              "    </tr>\n",
              "    <tr>\n",
              "      <th>0</th>\n",
              "      <td>Uber clients are very professional and friendl...</td>\n",
              "      <td>Uber has recently lowered the rates which mean...</td>\n",
              "      <td>income rating feel maintenance things miles pa...</td>\n",
              "      <td>pay car uber wear gas tear low vehicle driver ...</td>\n",
              "    </tr>\n",
              "    <tr>\n",
              "      <th>1</th>\n",
              "      <td>can work your own schedule</td>\n",
              "      <td>they just added another charge of $10/week for...</td>\n",
              "      <td>income rating feel maintenance things miles pa...</td>\n",
              "      <td>uber drivers don management pay customers time...</td>\n",
              "    </tr>\n",
              "    <tr>\n",
              "      <th>2</th>\n",
              "      <td>work on your own schedule</td>\n",
              "      <td>to many deductible of salary by the company</td>\n",
              "      <td>income rating feel maintenance things miles pa...</td>\n",
              "      <td>work company people lot life hard need balance...</td>\n",
              "    </tr>\n",
              "    <tr>\n",
              "      <th>3</th>\n",
              "      <td>Very poor perks. Drivers have to shoulder all ...</td>\n",
              "      <td>Is that I do not have to look at who the boos ...</td>\n",
              "      <td>growing pay money growth making getting things...</td>\n",
              "      <td>uber drivers don management pay customers time...</td>\n",
              "    </tr>\n",
              "    <tr>\n",
              "      <th>4</th>\n",
              "      <td>Uber allows for flexibility and independence. ...</td>\n",
              "      <td>Demand for Uber is greatest during the evening...</td>\n",
              "      <td>income rating feel maintenance things miles pa...</td>\n",
              "      <td>time hours make money long work job uber worki...</td>\n",
              "    </tr>\n",
              "    <tr>\n",
              "      <th>5</th>\n",
              "      <td>work when you want. You have control.</td>\n",
              "      <td>It is the worst company to work for. It does n...</td>\n",
              "      <td>things team support fast bit issues pay driver...</td>\n",
              "      <td>uber drivers don management pay customers time...</td>\n",
              "    </tr>\n",
              "    <tr>\n",
              "      <th>6</th>\n",
              "      <td>Interacting with customers is usually easy and...</td>\n",
              "      <td>Rates have been slashed to a ridiculous level ...</td>\n",
              "      <td>things team support fast bit issues pay driver...</td>\n",
              "      <td>pay car uber wear gas tear low vehicle driver ...</td>\n",
              "    </tr>\n",
              "    <tr>\n",
              "      <th>7</th>\n",
              "      <td>u can work any time</td>\n",
              "      <td>u can make 5 dollar and hour only after expence</td>\n",
              "      <td>things team support fast bit issues pay driver...</td>\n",
              "      <td>time hours make money long work job uber worki...</td>\n",
              "    </tr>\n",
              "    <tr>\n",
              "      <th>8</th>\n",
              "      <td>I liked the schedule flexibility.</td>\n",
              "      <td>The co. is an almost total scam, dishonest has...</td>\n",
              "      <td>income rating feel maintenance things miles pa...</td>\n",
              "      <td>uber drivers don management pay customers time...</td>\n",
              "    </tr>\n",
              "  </tbody>\n",
              "</table>\n",
              "<p>3293 rows × 4 columns</p>\n",
              "</div>"
            ],
            "text/plain": [
              "                                                 Pros  ...                                        Cons_topics\n",
              "0   Good employee benefits, good intra company opp...  ...  work company people lot life hard need balance...\n",
              "1      Nice environment and the work timings is great  ...  work company people lot life hard need balance...\n",
              "2           Good benfits and helps you grow in always  ...  time hours make money long work job uber worki...\n",
              "3   You get the ownership of your work, you get fu...  ...  work company people lot life hard need balance...\n",
              "4   Great team, culture, autonomy to employees, su...  ...  work company people lot life hard need balance...\n",
              "5   Extremely Friendly and Humble people with an e...  ...  work company people lot life hard need balance...\n",
              "6   Culture, Career growth, Flexibility, Flat Hier...  ...  time hours make money long work job uber worki...\n",
              "7   Low gender wage gap in entry-level and mid-man...  ...  uber drivers don management pay customers time...\n",
              "8                     Company Culture is really nice.  ...  time hours make money long work job uber worki...\n",
              "0   Uber has an amazing work culture and amazing b...  ...  uber drivers don management pay customers time...\n",
              "1   Best work environment,  great people and feels...  ...  uber drivers don management pay customers time...\n",
              "2   Unmatched employee benefits,Good working ambei...  ...  work company people lot life hard need balance...\n",
              "3   Flat hierarchy. Benefits are good. Food in the...  ...  uber drivers don management pay customers time...\n",
              "4   Nice experience easily accessible and easily l...  ...  work company people lot life hard need balance...\n",
              "5           It's a good company to grow my career ...  ...  work company people lot life hard need balance...\n",
              "0   Early it gives good business but slowly slowly...  ...  uber drivers don management pay customers time...\n",
              "1   Compensation, Benefits, Flexibility. Nothing e...  ...  uber drivers don management pay customers time...\n",
              "2   The Work Environment is really Nice, No formal...  ...  uber drivers don management pay customers time...\n",
              "3        Flexible time with friendly work environment  ...  time hours make money long work job uber worki...\n",
              "4   Good working environment, flexible working hours.  ...  work company people lot life hard need balance...\n",
              "5   Great salary and benefits. Decent work life ba...  ...  work company people lot life hard need balance...\n",
              "6                       Work environment is very good  ...  uber drivers don management pay customers time...\n",
              "7                         Can enhance your  qualities  ...  pay car uber wear gas tear low vehicle driver ...\n",
              "8   The benefits are awesome and the kind of oppor...  ...  uber drivers don management pay customers time...\n",
              "0   Good  learning experience from seniors and man...  ...  uber drivers don management pay customers time...\n",
              "1   No positives. They don't care for business par...  ...  work company people lot life hard need balance...\n",
              "2   Good office and nice food managers are very fr...  ...  work company people lot life hard need balance...\n",
              "3   Employee liberty and Employee centric organisa...  ...  uber drivers don management pay customers time...\n",
              "4   work environment is good but should bare with ...  ...  work company people lot life hard need balance...\n",
              "5   Positive leadership attitude. Team builders. E...  ...  work company people lot life hard need balance...\n",
              "..                                                ...  ...                                                ...\n",
              "2   I've been working at UBER for over a year, and...  ...  pay car uber wear gas tear low vehicle driver ...\n",
              "3                               work on your own time  ...  pay car uber wear gas tear low vehicle driver ...\n",
              "0                         You can work when you want.  ...  uber drivers don management pay customers time...\n",
              "1    Large user base, easy to find a ride and a fare.  ...  uber drivers don management pay customers time...\n",
              "2   if you have a car, want to make some quick mon...  ...  time hours make money long work job uber worki...\n",
              "3   The product is great and it's nice that the co...  ...  uber drivers don management pay customers time...\n",
              "4   Adds additional income if needed.  No stress i...  ...  pay car uber wear gas tear low vehicle driver ...\n",
              "5   The only good thing about Uber is weekly money...  ...  time hours make money long work job uber worki...\n",
              "6   As a full time employee, the perks are great; ...  ...  pay car uber wear gas tear low vehicle driver ...\n",
              "0   flexible schedule, friendly and interesting cl...  ...  pay car uber wear gas tear low vehicle driver ...\n",
              "1   Flexibility in the schedule, Meeting nice peop...  ...  pay car uber wear gas tear low vehicle driver ...\n",
              "2   The flexibility of driving for Uber is nice, b...  ...  uber drivers don management pay customers time...\n",
              "3   Flexibility, in command of your own schedule, ...  ...  pay car uber wear gas tear low vehicle driver ...\n",
              "4              Better than the slimy taxi cab drivers  ...  pay car uber wear gas tear low vehicle driver ...\n",
              "5   create own schedule, weekly pay, no boss,  fle...  ...  uber drivers don management pay customers time...\n",
              "6   Uber's help in getting riders is great! It als...  ...  work company people lot life hard need balance...\n",
              "0   Flexibility is by far the best Pro.....awesome...  ...  pay car uber wear gas tear low vehicle driver ...\n",
              "1   You can set your own hours and work as much as...  ...  uber drivers don management pay customers time...\n",
              "2   Need zero experience. You can set your own hou...  ...  pay car uber wear gas tear low vehicle driver ...\n",
              "3   The only pro is you can work whenever you like...  ...  pay car uber wear gas tear low vehicle driver ...\n",
              "4         work your own hours. perfect for part-time.  ...  time hours make money long work job uber worki...\n",
              "0   Uber clients are very professional and friendl...  ...  pay car uber wear gas tear low vehicle driver ...\n",
              "1                          can work your own schedule  ...  uber drivers don management pay customers time...\n",
              "2                           work on your own schedule  ...  work company people lot life hard need balance...\n",
              "3   Very poor perks. Drivers have to shoulder all ...  ...  uber drivers don management pay customers time...\n",
              "4   Uber allows for flexibility and independence. ...  ...  time hours make money long work job uber worki...\n",
              "5               work when you want. You have control.  ...  uber drivers don management pay customers time...\n",
              "6   Interacting with customers is usually easy and...  ...  pay car uber wear gas tear low vehicle driver ...\n",
              "7                                 u can work any time  ...  time hours make money long work job uber worki...\n",
              "8                   I liked the schedule flexibility.  ...  uber drivers don management pay customers time...\n",
              "\n",
              "[3293 rows x 4 columns]"
            ]
          },
          "metadata": {
            "tags": []
          },
          "execution_count": 41
        }
      ]
    },
    {
      "cell_type": "code",
      "metadata": {
        "id": "mabro81R1kUL",
        "colab_type": "code",
        "colab": {}
      },
      "source": [
        "pros_cons_reviews_data.to_csv(\"Uber_reviews_topic_modeled.csv\", index= False)"
      ],
      "execution_count": 0,
      "outputs": []
    },
    {
      "cell_type": "code",
      "metadata": {
        "id": "X05HyjWJ0twt",
        "colab_type": "code",
        "colab": {}
      },
      "source": [
        " from google.colab import files\n",
        " files.download('Uber_reviews_topic_modeled.csv')"
      ],
      "execution_count": 0,
      "outputs": []
    }
  ]
}